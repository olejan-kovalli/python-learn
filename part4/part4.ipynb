{
 "cells": [
  {
   "cell_type": "markdown",
   "id": "288ebcb4-7308-4c38-b7af-7d075201a4a1",
   "metadata": {},
   "source": [
    "<h1>Ex. 1</h1>"
   ]
  },
  {
   "cell_type": "code",
   "execution_count": 1,
   "id": "75e35de4-864b-404d-9060-fcb8b1df9c25",
   "metadata": {},
   "outputs": [],
   "source": [
    "def f(x):\n",
    "    print(x)"
   ]
  },
  {
   "cell_type": "code",
   "execution_count": 2,
   "id": "7c094ee7",
   "metadata": {},
   "outputs": [
    {
     "name": "stdout",
     "output_type": "stream",
     "text": [
      "abc\n"
     ]
    }
   ],
   "source": [
    "f('abc')"
   ]
  },
  {
   "cell_type": "code",
   "execution_count": 3,
   "id": "eb9753f6",
   "metadata": {},
   "outputs": [
    {
     "name": "stdout",
     "output_type": "stream",
     "text": [
      "123\n"
     ]
    }
   ],
   "source": [
    "f('123')"
   ]
  },
  {
   "cell_type": "code",
   "execution_count": 4,
   "id": "67c0ee65",
   "metadata": {},
   "outputs": [
    {
     "name": "stdout",
     "output_type": "stream",
     "text": [
      "[1, 2, 3]\n"
     ]
    }
   ],
   "source": [
    "f([1,2,3])"
   ]
  },
  {
   "cell_type": "code",
   "execution_count": 5,
   "id": "ace19114",
   "metadata": {},
   "outputs": [
    {
     "name": "stdout",
     "output_type": "stream",
     "text": [
      "{'a': 1, 'b': 2}\n"
     ]
    }
   ],
   "source": [
    "f({'a':1, 'b':2})"
   ]
  },
  {
   "cell_type": "code",
   "execution_count": 6,
   "id": "d1fdcb24",
   "metadata": {},
   "outputs": [
    {
     "ename": "TypeError",
     "evalue": "f() missing 1 required positional argument: 'x'",
     "output_type": "error",
     "traceback": [
      "\u001b[1;31m---------------------------------------------------------------------------\u001b[0m",
      "\u001b[1;31mTypeError\u001b[0m                                 Traceback (most recent call last)",
      "Input \u001b[1;32mIn [6]\u001b[0m, in \u001b[0;36m<cell line: 1>\u001b[1;34m()\u001b[0m\n\u001b[1;32m----> 1\u001b[0m \u001b[43mf\u001b[49m\u001b[43m(\u001b[49m\u001b[43m)\u001b[49m\n",
      "\u001b[1;31mTypeError\u001b[0m: f() missing 1 required positional argument: 'x'"
     ]
    }
   ],
   "source": [
    "f()"
   ]
  },
  {
   "cell_type": "code",
   "execution_count": 7,
   "id": "0a621edb",
   "metadata": {},
   "outputs": [
    {
     "ename": "TypeError",
     "evalue": "f() takes 1 positional argument but 2 were given",
     "output_type": "error",
     "traceback": [
      "\u001b[1;31m---------------------------------------------------------------------------\u001b[0m",
      "\u001b[1;31mTypeError\u001b[0m                                 Traceback (most recent call last)",
      "Input \u001b[1;32mIn [7]\u001b[0m, in \u001b[0;36m<cell line: 1>\u001b[1;34m()\u001b[0m\n\u001b[1;32m----> 1\u001b[0m \u001b[43mf\u001b[49m\u001b[43m(\u001b[49m\u001b[38;5;241;43m1\u001b[39;49m\u001b[43m,\u001b[49m\u001b[38;5;241;43m2\u001b[39;49m\u001b[43m)\u001b[49m\n",
      "\u001b[1;31mTypeError\u001b[0m: f() takes 1 positional argument but 2 were given"
     ]
    }
   ],
   "source": [
    "f(1,2)"
   ]
  },
  {
   "cell_type": "markdown",
   "id": "39c30405-5a11-45bf-95a9-e17daf4e17fb",
   "metadata": {},
   "source": [
    "<h1>Ex. 2</h1>"
   ]
  },
  {
   "cell_type": "code",
   "execution_count": 8,
   "id": "fa0f779f-428e-4b21-9214-ee74653e4200",
   "metadata": {
    "scrolled": true
   },
   "outputs": [
    {
     "name": "stdout",
     "output_type": "stream",
     "text": [
      "abcced\n",
      "[1, 3, 5, 2, 3, 4]\n",
      "5.859292679999999\n"
     ]
    }
   ],
   "source": [
    "def adder(a, b):\n",
    "    return a + b\n",
    "\n",
    "print(adder('abc', 'ced'))\n",
    "print(adder([1, 3, 5], [2, 3, 4]))\n",
    "print(adder(3.14129268, 2.718))"
   ]
  },
  {
   "cell_type": "markdown",
   "id": "9e07a691-0bd2-4407-ad98-9048b20ae351",
   "metadata": {},
   "source": [
    "<h1>Ex. 3</h1> "
   ]
  },
  {
   "cell_type": "code",
   "execution_count": 40,
   "id": "ae31ccfb-6f23-4a4b-b320-25b032bcd868",
   "metadata": {},
   "outputs": [],
   "source": [
    "def adder(*pargs):\n",
    "    if len(pargs) == 0:\n",
    "        return None\n",
    "    else:\n",
    "        s = pargs[0]\n",
    "    \n",
    "    for a in pargs[1:]:\n",
    "        s += a\n",
    "    \n",
    "    return s"
   ]
  },
  {
   "cell_type": "code",
   "execution_count": 41,
   "id": "ccf409ef",
   "metadata": {},
   "outputs": [
    {
     "name": "stdout",
     "output_type": "stream",
     "text": [
      "abccedxyz\n"
     ]
    }
   ],
   "source": [
    "print(adder('abc', 'ced', 'xyz'))"
   ]
  },
  {
   "cell_type": "code",
   "execution_count": 42,
   "id": "c9ffd684",
   "metadata": {},
   "outputs": [
    {
     "name": "stdout",
     "output_type": "stream",
     "text": [
      "[1, 3, 5]\n"
     ]
    }
   ],
   "source": [
    "print(adder([1, 3, 5]))"
   ]
  },
  {
   "cell_type": "code",
   "execution_count": 43,
   "id": "8aed06c0",
   "metadata": {},
   "outputs": [
    {
     "name": "stdout",
     "output_type": "stream",
     "text": [
      "None\n"
     ]
    }
   ],
   "source": [
    "print(adder())"
   ]
  },
  {
   "cell_type": "code",
   "execution_count": 44,
   "id": "08cafb3b",
   "metadata": {},
   "outputs": [
    {
     "ename": "TypeError",
     "evalue": "unsupported operand type(s) for +=: 'int' and 'str'",
     "output_type": "error",
     "traceback": [
      "\u001b[1;31m---------------------------------------------------------------------------\u001b[0m",
      "\u001b[1;31mTypeError\u001b[0m                                 Traceback (most recent call last)",
      "Input \u001b[1;32mIn [44]\u001b[0m, in \u001b[0;36m<cell line: 1>\u001b[1;34m()\u001b[0m\n\u001b[1;32m----> 1\u001b[0m \u001b[38;5;28mprint\u001b[39m(\u001b[43madder\u001b[49m\u001b[43m(\u001b[49m\u001b[38;5;241;43m1\u001b[39;49m\u001b[43m,\u001b[49m\u001b[43m \u001b[49m\u001b[38;5;124;43m'\u001b[39;49m\u001b[38;5;124;43m1\u001b[39;49m\u001b[38;5;124;43m'\u001b[39;49m\u001b[43m)\u001b[49m)\n",
      "Input \u001b[1;32mIn [40]\u001b[0m, in \u001b[0;36madder\u001b[1;34m(*pargs)\u001b[0m\n\u001b[0;32m      5\u001b[0m     s \u001b[38;5;241m=\u001b[39m pargs[\u001b[38;5;241m0\u001b[39m]\n\u001b[0;32m      7\u001b[0m \u001b[38;5;28;01mfor\u001b[39;00m a \u001b[38;5;129;01min\u001b[39;00m pargs[\u001b[38;5;241m1\u001b[39m:]:\n\u001b[1;32m----> 8\u001b[0m     s \u001b[38;5;241m+\u001b[39m\u001b[38;5;241m=\u001b[39m a\n\u001b[0;32m     10\u001b[0m \u001b[38;5;28;01mreturn\u001b[39;00m s\n",
      "\u001b[1;31mTypeError\u001b[0m: unsupported operand type(s) for +=: 'int' and 'str'"
     ]
    }
   ],
   "source": [
    "print(adder(1, '1'))"
   ]
  },
  {
   "cell_type": "code",
   "execution_count": 45,
   "id": "0f9ff3f0",
   "metadata": {},
   "outputs": [
    {
     "ename": "TypeError",
     "evalue": "unsupported operand type(s) for +=: 'dict' and 'dict'",
     "output_type": "error",
     "traceback": [
      "\u001b[1;31m---------------------------------------------------------------------------\u001b[0m",
      "\u001b[1;31mTypeError\u001b[0m                                 Traceback (most recent call last)",
      "Input \u001b[1;32mIn [45]\u001b[0m, in \u001b[0;36m<cell line: 1>\u001b[1;34m()\u001b[0m\n\u001b[1;32m----> 1\u001b[0m \u001b[38;5;28mprint\u001b[39m(\u001b[43madder\u001b[49m\u001b[43m(\u001b[49m\u001b[43m{\u001b[49m\u001b[43m}\u001b[49m\u001b[43m,\u001b[49m\u001b[43m \u001b[49m\u001b[43m{\u001b[49m\u001b[43m}\u001b[49m\u001b[43m)\u001b[49m)\n",
      "Input \u001b[1;32mIn [40]\u001b[0m, in \u001b[0;36madder\u001b[1;34m(*pargs)\u001b[0m\n\u001b[0;32m      5\u001b[0m     s \u001b[38;5;241m=\u001b[39m pargs[\u001b[38;5;241m0\u001b[39m]\n\u001b[0;32m      7\u001b[0m \u001b[38;5;28;01mfor\u001b[39;00m a \u001b[38;5;129;01min\u001b[39;00m pargs[\u001b[38;5;241m1\u001b[39m:]:\n\u001b[1;32m----> 8\u001b[0m     s \u001b[38;5;241m+\u001b[39m\u001b[38;5;241m=\u001b[39m a\n\u001b[0;32m     10\u001b[0m \u001b[38;5;28;01mreturn\u001b[39;00m s\n",
      "\u001b[1;31mTypeError\u001b[0m: unsupported operand type(s) for +=: 'dict' and 'dict'"
     ]
    }
   ],
   "source": [
    "print(adder({}, {}))"
   ]
  },
  {
   "cell_type": "markdown",
   "id": "8c3db1a9",
   "metadata": {},
   "source": [
    "<h1>Ex. 4</h1>"
   ]
  },
  {
   "cell_type": "code",
   "execution_count": 32,
   "id": "afeebff3",
   "metadata": {},
   "outputs": [],
   "source": [
    "def adder(good=10, bad=20, ugly=30):\n",
    "    return good + bad + ugly"
   ]
  },
  {
   "cell_type": "code",
   "execution_count": 33,
   "id": "4cff653d",
   "metadata": {},
   "outputs": [
    {
     "data": {
      "text/plain": [
       "60"
      ]
     },
     "execution_count": 33,
     "metadata": {},
     "output_type": "execute_result"
    }
   ],
   "source": [
    "adder()"
   ]
  },
  {
   "cell_type": "code",
   "execution_count": 34,
   "id": "afd3b9a9",
   "metadata": {},
   "outputs": [
    {
     "data": {
      "text/plain": [
       "51"
      ]
     },
     "execution_count": 34,
     "metadata": {},
     "output_type": "execute_result"
    }
   ],
   "source": [
    "adder(1)"
   ]
  },
  {
   "cell_type": "code",
   "execution_count": 35,
   "id": "3ff96cb9",
   "metadata": {},
   "outputs": [
    {
     "data": {
      "text/plain": [
       "52"
      ]
     },
     "execution_count": 35,
     "metadata": {},
     "output_type": "execute_result"
    }
   ],
   "source": [
    "adder(2)"
   ]
  },
  {
   "cell_type": "code",
   "execution_count": 36,
   "id": "58b7cc8c",
   "metadata": {},
   "outputs": [
    {
     "data": {
      "text/plain": [
       "23"
      ]
     },
     "execution_count": 36,
     "metadata": {},
     "output_type": "execute_result"
    }
   ],
   "source": [
    "adder(ugly=1, good=2)"
   ]
  },
  {
   "cell_type": "code",
   "execution_count": 47,
   "id": "54f1e90c-6827-4e1f-8467-3277c41af9fa",
   "metadata": {},
   "outputs": [],
   "source": [
    "def adder(**kwargs):\n",
    "    if len(kwargs) == 0:\n",
    "        return None\n",
    "    else:\n",
    "        keys = list(kwargs.keys())\n",
    "        s = kwargs[keys[0]]\n",
    "        \n",
    "    for k in keys[1:]:\n",
    "        s += kwargs[k]\n",
    "    \n",
    "    return s        "
   ]
  },
  {
   "cell_type": "code",
   "execution_count": 48,
   "id": "e61fdb29",
   "metadata": {},
   "outputs": [
    {
     "data": {
      "text/plain": [
       "3"
      ]
     },
     "execution_count": 48,
     "metadata": {},
     "output_type": "execute_result"
    }
   ],
   "source": [
    "adder(a=1, b=2)"
   ]
  },
  {
   "cell_type": "code",
   "execution_count": 49,
   "id": "d70ee1cf",
   "metadata": {},
   "outputs": [
    {
     "data": {
      "text/plain": [
       "2"
      ]
     },
     "execution_count": 49,
     "metadata": {},
     "output_type": "execute_result"
    }
   ],
   "source": [
    "adder(b=2)"
   ]
  },
  {
   "cell_type": "code",
   "execution_count": 51,
   "id": "1e2d9958",
   "metadata": {},
   "outputs": [
    {
     "name": "stdout",
     "output_type": "stream",
     "text": [
      "None\n"
     ]
    }
   ],
   "source": [
    "print(adder())"
   ]
  },
  {
   "cell_type": "code",
   "execution_count": null,
   "id": "ff9ddc88",
   "metadata": {},
   "outputs": [],
   "source": []
  },
  {
   "cell_type": "markdown",
   "id": "8fd63a98-8073-477c-b356-f4c1704d5080",
   "metadata": {},
   "source": [
    "<h1>Ex. 5</h1>"
   ]
  },
  {
   "cell_type": "code",
   "execution_count": 52,
   "id": "695a4ffb",
   "metadata": {},
   "outputs": [],
   "source": [
    "def copyDict(d):\n",
    "    d_copy = {}\n",
    "    for k in d:\n",
    "        d_copy[k] = d[k]\n",
    "    return d_copy"
   ]
  },
  {
   "cell_type": "code",
   "execution_count": 53,
   "id": "8d6668cd",
   "metadata": {},
   "outputs": [
    {
     "data": {
      "text/plain": [
       "{}"
      ]
     },
     "execution_count": 53,
     "metadata": {},
     "output_type": "execute_result"
    }
   ],
   "source": [
    "copyDict({})"
   ]
  },
  {
   "cell_type": "code",
   "execution_count": 54,
   "id": "cadb03c6",
   "metadata": {},
   "outputs": [
    {
     "data": {
      "text/plain": [
       "{'a': 1}"
      ]
     },
     "execution_count": 54,
     "metadata": {},
     "output_type": "execute_result"
    }
   ],
   "source": [
    "copyDict({'a':1})"
   ]
  },
  {
   "cell_type": "code",
   "execution_count": 55,
   "id": "821b202c",
   "metadata": {},
   "outputs": [
    {
     "data": {
      "text/plain": [
       "int"
      ]
     },
     "execution_count": 55,
     "metadata": {},
     "output_type": "execute_result"
    }
   ],
   "source": [
    "type(0)"
   ]
  },
  {
   "cell_type": "code",
   "execution_count": null,
   "id": "d5fc6b59",
   "metadata": {},
   "outputs": [],
   "source": []
  },
  {
   "cell_type": "markdown",
   "id": "a91711d5",
   "metadata": {},
   "source": [
    "<h1>Ex. 6</h1>"
   ]
  },
  {
   "cell_type": "code",
   "execution_count": 58,
   "id": "d45ab1b5",
   "metadata": {},
   "outputs": [],
   "source": [
    "def addDict(d1, d2):\n",
    "    d3 = {}\n",
    "    \n",
    "    for k in list(d1.keys()):\n",
    "        d3[k] = d1[k]\n",
    "        \n",
    "    for k in list(d2.keys()):\n",
    "        d3[k] = d2[k]\n",
    "    \n",
    "    return d3"
   ]
  },
  {
   "cell_type": "code",
   "execution_count": 59,
   "id": "83261b6c",
   "metadata": {},
   "outputs": [
    {
     "data": {
      "text/plain": [
       "{}"
      ]
     },
     "execution_count": 59,
     "metadata": {},
     "output_type": "execute_result"
    }
   ],
   "source": [
    "addDict({}, {})"
   ]
  },
  {
   "cell_type": "code",
   "execution_count": 60,
   "id": "2eba7f16",
   "metadata": {},
   "outputs": [
    {
     "data": {
      "text/plain": [
       "{'a': 1, 'b': 2}"
      ]
     },
     "execution_count": 60,
     "metadata": {},
     "output_type": "execute_result"
    }
   ],
   "source": [
    "addDict({'a':1}, {'b':2})"
   ]
  },
  {
   "cell_type": "code",
   "execution_count": 61,
   "id": "72c8541a",
   "metadata": {},
   "outputs": [
    {
     "ename": "AttributeError",
     "evalue": "'list' object has no attribute 'keys'",
     "output_type": "error",
     "traceback": [
      "\u001b[1;31m---------------------------------------------------------------------------\u001b[0m",
      "\u001b[1;31mAttributeError\u001b[0m                            Traceback (most recent call last)",
      "Input \u001b[1;32mIn [61]\u001b[0m, in \u001b[0;36m<cell line: 1>\u001b[1;34m()\u001b[0m\n\u001b[1;32m----> 1\u001b[0m \u001b[43maddDict\u001b[49m\u001b[43m(\u001b[49m\u001b[43m[\u001b[49m\u001b[43m]\u001b[49m\u001b[43m,\u001b[49m\u001b[43m \u001b[49m\u001b[43m[\u001b[49m\u001b[43m]\u001b[49m\u001b[43m)\u001b[49m\n",
      "Input \u001b[1;32mIn [58]\u001b[0m, in \u001b[0;36maddDict\u001b[1;34m(d1, d2)\u001b[0m\n\u001b[0;32m      1\u001b[0m \u001b[38;5;28;01mdef\u001b[39;00m \u001b[38;5;21maddDict\u001b[39m(d1, d2):\n\u001b[0;32m      2\u001b[0m     d3 \u001b[38;5;241m=\u001b[39m {}\n\u001b[1;32m----> 4\u001b[0m     \u001b[38;5;28;01mfor\u001b[39;00m k \u001b[38;5;129;01min\u001b[39;00m \u001b[38;5;28mlist\u001b[39m(\u001b[43md1\u001b[49m\u001b[38;5;241;43m.\u001b[39;49m\u001b[43mkeys\u001b[49m()):\n\u001b[0;32m      5\u001b[0m         d3[k] \u001b[38;5;241m=\u001b[39m d1[k]\n\u001b[0;32m      7\u001b[0m     \u001b[38;5;28;01mfor\u001b[39;00m k \u001b[38;5;129;01min\u001b[39;00m \u001b[38;5;28mlist\u001b[39m(d2\u001b[38;5;241m.\u001b[39mkeys()):\n",
      "\u001b[1;31mAttributeError\u001b[0m: 'list' object has no attribute 'keys'"
     ]
    }
   ],
   "source": [
    "addDict([], [])"
   ]
  },
  {
   "cell_type": "code",
   "execution_count": 62,
   "id": "c1773630",
   "metadata": {},
   "outputs": [],
   "source": [
    "def addDict(d1, d2):\n",
    "    if type(d1) == dict:\n",
    "        d3 = {}\n",
    "\n",
    "        for k in list(d1.keys()):\n",
    "            d3[k] = d1[k]\n",
    "\n",
    "        for k in list(d2.keys()):\n",
    "            d3[k] = d2[k]\n",
    "\n",
    "        return d3\n",
    "    \n",
    "    if type(d1) == list:\n",
    "        d3 = []\n",
    "\n",
    "        for v in d1:\n",
    "            d3.append(v)\n",
    "\n",
    "        for v in d2:\n",
    "            d3.append(v)\n",
    "        \n",
    "        return d3\n",
    "        "
   ]
  },
  {
   "cell_type": "code",
   "execution_count": 63,
   "id": "60180ced",
   "metadata": {},
   "outputs": [
    {
     "data": {
      "text/plain": [
       "{}"
      ]
     },
     "execution_count": 63,
     "metadata": {},
     "output_type": "execute_result"
    }
   ],
   "source": [
    "addDict({}, {})"
   ]
  },
  {
   "cell_type": "code",
   "execution_count": 64,
   "id": "5812332a",
   "metadata": {},
   "outputs": [
    {
     "data": {
      "text/plain": [
       "[]"
      ]
     },
     "execution_count": 64,
     "metadata": {},
     "output_type": "execute_result"
    }
   ],
   "source": [
    "addDict([], [])"
   ]
  },
  {
   "cell_type": "code",
   "execution_count": 65,
   "id": "101b85d7",
   "metadata": {},
   "outputs": [
    {
     "data": {
      "text/plain": [
       "[1, 2]"
      ]
     },
     "execution_count": 65,
     "metadata": {},
     "output_type": "execute_result"
    }
   ],
   "source": [
    "addDict([1], [2])"
   ]
  },
  {
   "cell_type": "markdown",
   "id": "c8fc484f",
   "metadata": {},
   "source": [
    "<h1>Ex. 7</h1>"
   ]
  },
  {
   "cell_type": "code",
   "execution_count": 69,
   "id": "dfc1fa5c",
   "metadata": {},
   "outputs": [],
   "source": [
    "def f1(a, b): print(a, b)\n",
    "def f2(a, *b): print(a, b)\n",
    "def f3(a, **b): print(a, b)    \n",
    "def f4(a, *b, **c): print(a, b, c) \n",
    "def f5(a, b=2, c=3): print(a, b, c) \n",
    "def f6(a, b=2, *c): print(a, b, c) "
   ]
  },
  {
   "cell_type": "code",
   "execution_count": 70,
   "id": "64c95a7f",
   "metadata": {},
   "outputs": [
    {
     "name": "stdout",
     "output_type": "stream",
     "text": [
      "1 2\n"
     ]
    }
   ],
   "source": [
    "f1(1,2)"
   ]
  },
  {
   "cell_type": "code",
   "execution_count": 71,
   "id": "748901eb",
   "metadata": {},
   "outputs": [
    {
     "name": "stdout",
     "output_type": "stream",
     "text": [
      "1 2\n"
     ]
    }
   ],
   "source": [
    "f1(b=2, a=1)"
   ]
  },
  {
   "cell_type": "code",
   "execution_count": 72,
   "id": "7f09898e",
   "metadata": {},
   "outputs": [
    {
     "name": "stdout",
     "output_type": "stream",
     "text": [
      "1 (2, 3)\n"
     ]
    }
   ],
   "source": [
    "f2(1, 2, 3)"
   ]
  },
  {
   "cell_type": "code",
   "execution_count": 73,
   "id": "3ff32d6b",
   "metadata": {},
   "outputs": [
    {
     "name": "stdout",
     "output_type": "stream",
     "text": [
      "1 {'x': 2, 'y': 3}\n"
     ]
    }
   ],
   "source": [
    "f3(1, x=2, y=3)"
   ]
  },
  {
   "cell_type": "code",
   "execution_count": 74,
   "id": "b8c829ec",
   "metadata": {},
   "outputs": [
    {
     "name": "stdout",
     "output_type": "stream",
     "text": [
      "1 (2, 3) {'x': 2, 'y': 3}\n"
     ]
    }
   ],
   "source": [
    "f4(1, 2, 3, x=2, y=3)"
   ]
  },
  {
   "cell_type": "code",
   "execution_count": 75,
   "id": "5324b969",
   "metadata": {},
   "outputs": [
    {
     "name": "stdout",
     "output_type": "stream",
     "text": [
      "1 2 3\n"
     ]
    }
   ],
   "source": [
    "f5(1)"
   ]
  },
  {
   "cell_type": "code",
   "execution_count": 76,
   "id": "f04b9bef",
   "metadata": {},
   "outputs": [
    {
     "name": "stdout",
     "output_type": "stream",
     "text": [
      "1 2 ()\n"
     ]
    }
   ],
   "source": [
    "f6(1)"
   ]
  },
  {
   "cell_type": "code",
   "execution_count": 77,
   "id": "e87ef501",
   "metadata": {},
   "outputs": [
    {
     "name": "stdout",
     "output_type": "stream",
     "text": [
      "1 3 (4,)\n"
     ]
    }
   ],
   "source": [
    "f6(1, 3, 4)"
   ]
  },
  {
   "cell_type": "markdown",
   "id": "46c63012",
   "metadata": {},
   "source": [
    "<h1>Ex. 8</h1>"
   ]
  },
  {
   "cell_type": "code",
   "execution_count": 112,
   "id": "bda1e12e",
   "metadata": {},
   "outputs": [],
   "source": [
    "def isPrime(y):\n",
    "    if y <=1:\n",
    "        print(y, 'is not prime!')\n",
    "        return\n",
    "    \n",
    "    y1 = abs(y)\n",
    "    \n",
    "    x = y1 // 2\n",
    "    \n",
    "    while x > 1:\n",
    "        if y1 % x == 0:\n",
    "            print(y, 'has factor', x)\n",
    "            return\n",
    "        else:\n",
    "            x -= 1\n",
    "    \n",
    "    print(y, 'is prime!')"
   ]
  },
  {
   "cell_type": "code",
   "execution_count": 113,
   "id": "ae23f05a",
   "metadata": {},
   "outputs": [
    {
     "name": "stdout",
     "output_type": "stream",
     "text": [
      "13 is prime!\n"
     ]
    }
   ],
   "source": [
    "isPrime(13)"
   ]
  },
  {
   "cell_type": "code",
   "execution_count": 114,
   "id": "75a61e45",
   "metadata": {},
   "outputs": [
    {
     "name": "stdout",
     "output_type": "stream",
     "text": [
      "13.0 is prime!\n"
     ]
    }
   ],
   "source": [
    "isPrime(13.0)"
   ]
  },
  {
   "cell_type": "code",
   "execution_count": 115,
   "id": "92420faa",
   "metadata": {},
   "outputs": [
    {
     "name": "stdout",
     "output_type": "stream",
     "text": [
      "15 has factor 5\n"
     ]
    }
   ],
   "source": [
    "isPrime(15)"
   ]
  },
  {
   "cell_type": "code",
   "execution_count": 116,
   "id": "5ab758c9",
   "metadata": {},
   "outputs": [
    {
     "name": "stdout",
     "output_type": "stream",
     "text": [
      "15.0 has factor 5.0\n"
     ]
    }
   ],
   "source": [
    "isPrime(15.0)"
   ]
  },
  {
   "cell_type": "code",
   "execution_count": 117,
   "id": "9ad30a8c",
   "metadata": {},
   "outputs": [
    {
     "name": "stdout",
     "output_type": "stream",
     "text": [
      "0 is not prime!\n"
     ]
    }
   ],
   "source": [
    "isPrime(0)"
   ]
  },
  {
   "cell_type": "code",
   "execution_count": 118,
   "id": "2e6866b7",
   "metadata": {},
   "outputs": [
    {
     "name": "stdout",
     "output_type": "stream",
     "text": [
      "1 is not prime!\n"
     ]
    }
   ],
   "source": [
    "isPrime(1)"
   ]
  },
  {
   "cell_type": "code",
   "execution_count": 119,
   "id": "4934b700",
   "metadata": {},
   "outputs": [
    {
     "name": "stdout",
     "output_type": "stream",
     "text": [
      "0 is not prime!\n"
     ]
    }
   ],
   "source": [
    "isPrime(0)"
   ]
  },
  {
   "cell_type": "code",
   "execution_count": null,
   "id": "96ae9af0",
   "metadata": {},
   "outputs": [],
   "source": []
  },
  {
   "cell_type": "markdown",
   "id": "dde6a648",
   "metadata": {},
   "source": [
    "<h1>Ex. 9</h1>"
   ]
  },
  {
   "cell_type": "code",
   "execution_count": 121,
   "id": "4980d0b9",
   "metadata": {},
   "outputs": [],
   "source": [
    "l = [2, 4, 9, 16, 25]"
   ]
  },
  {
   "cell_type": "code",
   "execution_count": 127,
   "id": "0f4441b5",
   "metadata": {},
   "outputs": [],
   "source": [
    "import math"
   ]
  },
  {
   "cell_type": "code",
   "execution_count": 129,
   "id": "72be15f9",
   "metadata": {},
   "outputs": [
    {
     "data": {
      "text/plain": [
       "[1.4142135623730951, 2.0, 3.0, 4.0, 5.0]"
      ]
     },
     "execution_count": 129,
     "metadata": {},
     "output_type": "execute_result"
    }
   ],
   "source": [
    "sqrt_l = [] * len(l)\n",
    "\n",
    "for v in l:\n",
    "    sqrt_l.append(math.sqrt(v))\n",
    "\n",
    "sqrt_l"
   ]
  },
  {
   "cell_type": "code",
   "execution_count": 130,
   "id": "72ef1066",
   "metadata": {},
   "outputs": [
    {
     "data": {
      "text/plain": [
       "[1.4142135623730951, 2.0, 3.0, 4.0, 5.0]"
      ]
     },
     "execution_count": 130,
     "metadata": {},
     "output_type": "execute_result"
    }
   ],
   "source": [
    "sqr_l = list(map(math.sqrt, l))\n",
    "sqr_l"
   ]
  },
  {
   "cell_type": "code",
   "execution_count": 131,
   "id": "2e27a286",
   "metadata": {},
   "outputs": [
    {
     "data": {
      "text/plain": [
       "[1.4142135623730951, 2.0, 3.0, 4.0, 5.0]"
      ]
     },
     "execution_count": 131,
     "metadata": {},
     "output_type": "execute_result"
    }
   ],
   "source": [
    "sqr_l = [math.sqrt(x) for x in l]\n",
    "sqr_l"
   ]
  },
  {
   "cell_type": "code",
   "execution_count": 132,
   "id": "9ad5e9b8",
   "metadata": {},
   "outputs": [
    {
     "data": {
      "text/plain": [
       "[1.4142135623730951, 2.0, 3.0, 4.0, 5.0]"
      ]
     },
     "execution_count": 132,
     "metadata": {},
     "output_type": "execute_result"
    }
   ],
   "source": [
    "sqr_l = list(math.sqrt(x) for x in l)\n",
    "sqr_l"
   ]
  },
  {
   "cell_type": "code",
   "execution_count": null,
   "id": "7605ba69",
   "metadata": {},
   "outputs": [],
   "source": []
  }
 ],
 "metadata": {
  "kernelspec": {
   "display_name": "Python 3 (ipykernel)",
   "language": "python",
   "name": "python3"
  },
  "language_info": {
   "codemirror_mode": {
    "name": "ipython",
    "version": 3
   },
   "file_extension": ".py",
   "mimetype": "text/x-python",
   "name": "python",
   "nbconvert_exporter": "python",
   "pygments_lexer": "ipython3",
   "version": "3.10.5"
  }
 },
 "nbformat": 4,
 "nbformat_minor": 5
}
