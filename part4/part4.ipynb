{
 "cells": [
  {
   "cell_type": "markdown",
   "id": "288ebcb4-7308-4c38-b7af-7d075201a4a1",
   "metadata": {},
   "source": [
    "<h1>Ex. 1</h1>"
   ]
  },
  {
   "cell_type": "code",
   "execution_count": 1,
   "id": "75e35de4-864b-404d-9060-fcb8b1df9c25",
   "metadata": {},
   "outputs": [],
   "source": [
    "def f(x):\n",
    "    print(x)"
   ]
  },
  {
   "cell_type": "code",
   "execution_count": 2,
   "id": "7c094ee7",
   "metadata": {},
   "outputs": [
    {
     "name": "stdout",
     "output_type": "stream",
     "text": [
      "abc\n"
     ]
    }
   ],
   "source": [
    "f('abc')"
   ]
  },
  {
   "cell_type": "code",
   "execution_count": 3,
   "id": "eb9753f6",
   "metadata": {},
   "outputs": [
    {
     "name": "stdout",
     "output_type": "stream",
     "text": [
      "123\n"
     ]
    }
   ],
   "source": [
    "f('123')"
   ]
  },
  {
   "cell_type": "code",
   "execution_count": 4,
   "id": "67c0ee65",
   "metadata": {},
   "outputs": [
    {
     "name": "stdout",
     "output_type": "stream",
     "text": [
      "[1, 2, 3]\n"
     ]
    }
   ],
   "source": [
    "f([1,2,3])"
   ]
  },
  {
   "cell_type": "code",
   "execution_count": 5,
   "id": "ace19114",
   "metadata": {},
   "outputs": [
    {
     "name": "stdout",
     "output_type": "stream",
     "text": [
      "{'a': 1, 'b': 2}\n"
     ]
    }
   ],
   "source": [
    "f({'a':1, 'b':2})"
   ]
  },
  {
   "cell_type": "code",
   "execution_count": 6,
   "id": "d1fdcb24",
   "metadata": {},
   "outputs": [
    {
     "ename": "TypeError",
     "evalue": "f() missing 1 required positional argument: 'x'",
     "output_type": "error",
     "traceback": [
      "\u001b[1;31m---------------------------------------------------------------------------\u001b[0m",
      "\u001b[1;31mTypeError\u001b[0m                                 Traceback (most recent call last)",
      "Input \u001b[1;32mIn [6]\u001b[0m, in \u001b[0;36m<cell line: 1>\u001b[1;34m()\u001b[0m\n\u001b[1;32m----> 1\u001b[0m \u001b[43mf\u001b[49m\u001b[43m(\u001b[49m\u001b[43m)\u001b[49m\n",
      "\u001b[1;31mTypeError\u001b[0m: f() missing 1 required positional argument: 'x'"
     ]
    }
   ],
   "source": [
    "f()"
   ]
  },
  {
   "cell_type": "code",
   "execution_count": 7,
   "id": "0a621edb",
   "metadata": {},
   "outputs": [
    {
     "ename": "TypeError",
     "evalue": "f() takes 1 positional argument but 2 were given",
     "output_type": "error",
     "traceback": [
      "\u001b[1;31m---------------------------------------------------------------------------\u001b[0m",
      "\u001b[1;31mTypeError\u001b[0m                                 Traceback (most recent call last)",
      "Input \u001b[1;32mIn [7]\u001b[0m, in \u001b[0;36m<cell line: 1>\u001b[1;34m()\u001b[0m\n\u001b[1;32m----> 1\u001b[0m \u001b[43mf\u001b[49m\u001b[43m(\u001b[49m\u001b[38;5;241;43m1\u001b[39;49m\u001b[43m,\u001b[49m\u001b[38;5;241;43m2\u001b[39;49m\u001b[43m)\u001b[49m\n",
      "\u001b[1;31mTypeError\u001b[0m: f() takes 1 positional argument but 2 were given"
     ]
    }
   ],
   "source": [
    "f(1,2)"
   ]
  },
  {
   "cell_type": "markdown",
   "id": "39c30405-5a11-45bf-95a9-e17daf4e17fb",
   "metadata": {},
   "source": [
    "<h1>Ex. 2</h1>"
   ]
  },
  {
   "cell_type": "code",
   "execution_count": 8,
   "id": "fa0f779f-428e-4b21-9214-ee74653e4200",
   "metadata": {
    "scrolled": true
   },
   "outputs": [
    {
     "name": "stdout",
     "output_type": "stream",
     "text": [
      "abcced\n",
      "[1, 3, 5, 2, 3, 4]\n",
      "5.859292679999999\n"
     ]
    }
   ],
   "source": [
    "def adder(a, b):\n",
    "    return a + b\n",
    "\n",
    "print(adder('abc', 'ced'))\n",
    "print(adder([1, 3, 5], [2, 3, 4]))\n",
    "print(adder(3.14129268, 2.718))"
   ]
  },
  {
   "cell_type": "markdown",
   "id": "9e07a691-0bd2-4407-ad98-9048b20ae351",
   "metadata": {},
   "source": [
    "<h1>Ex. 3</h1> "
   ]
  },
  {
   "cell_type": "code",
   "execution_count": 40,
   "id": "ae31ccfb-6f23-4a4b-b320-25b032bcd868",
   "metadata": {},
   "outputs": [],
   "source": [
    "def adder(*pargs):\n",
    "    if len(pargs) == 0:\n",
    "        return None\n",
    "    else:\n",
    "        s = pargs[0]\n",
    "    \n",
    "    for a in pargs[1:]:\n",
    "        s += a\n",
    "    \n",
    "    return s"
   ]
  },
  {
   "cell_type": "code",
   "execution_count": 41,
   "id": "ccf409ef",
   "metadata": {},
   "outputs": [
    {
     "name": "stdout",
     "output_type": "stream",
     "text": [
      "abccedxyz\n"
     ]
    }
   ],
   "source": [
    "print(adder('abc', 'ced', 'xyz'))"
   ]
  },
  {
   "cell_type": "code",
   "execution_count": 42,
   "id": "c9ffd684",
   "metadata": {},
   "outputs": [
    {
     "name": "stdout",
     "output_type": "stream",
     "text": [
      "[1, 3, 5]\n"
     ]
    }
   ],
   "source": [
    "print(adder([1, 3, 5]))"
   ]
  },
  {
   "cell_type": "code",
   "execution_count": 43,
   "id": "8aed06c0",
   "metadata": {},
   "outputs": [
    {
     "name": "stdout",
     "output_type": "stream",
     "text": [
      "None\n"
     ]
    }
   ],
   "source": [
    "print(adder())"
   ]
  },
  {
   "cell_type": "code",
   "execution_count": 44,
   "id": "08cafb3b",
   "metadata": {},
   "outputs": [
    {
     "ename": "TypeError",
     "evalue": "unsupported operand type(s) for +=: 'int' and 'str'",
     "output_type": "error",
     "traceback": [
      "\u001b[1;31m---------------------------------------------------------------------------\u001b[0m",
      "\u001b[1;31mTypeError\u001b[0m                                 Traceback (most recent call last)",
      "Input \u001b[1;32mIn [44]\u001b[0m, in \u001b[0;36m<cell line: 1>\u001b[1;34m()\u001b[0m\n\u001b[1;32m----> 1\u001b[0m \u001b[38;5;28mprint\u001b[39m(\u001b[43madder\u001b[49m\u001b[43m(\u001b[49m\u001b[38;5;241;43m1\u001b[39;49m\u001b[43m,\u001b[49m\u001b[43m \u001b[49m\u001b[38;5;124;43m'\u001b[39;49m\u001b[38;5;124;43m1\u001b[39;49m\u001b[38;5;124;43m'\u001b[39;49m\u001b[43m)\u001b[49m)\n",
      "Input \u001b[1;32mIn [40]\u001b[0m, in \u001b[0;36madder\u001b[1;34m(*pargs)\u001b[0m\n\u001b[0;32m      5\u001b[0m     s \u001b[38;5;241m=\u001b[39m pargs[\u001b[38;5;241m0\u001b[39m]\n\u001b[0;32m      7\u001b[0m \u001b[38;5;28;01mfor\u001b[39;00m a \u001b[38;5;129;01min\u001b[39;00m pargs[\u001b[38;5;241m1\u001b[39m:]:\n\u001b[1;32m----> 8\u001b[0m     s \u001b[38;5;241m+\u001b[39m\u001b[38;5;241m=\u001b[39m a\n\u001b[0;32m     10\u001b[0m \u001b[38;5;28;01mreturn\u001b[39;00m s\n",
      "\u001b[1;31mTypeError\u001b[0m: unsupported operand type(s) for +=: 'int' and 'str'"
     ]
    }
   ],
   "source": [
    "print(adder(1, '1'))"
   ]
  },
  {
   "cell_type": "code",
   "execution_count": 45,
   "id": "0f9ff3f0",
   "metadata": {},
   "outputs": [
    {
     "ename": "TypeError",
     "evalue": "unsupported operand type(s) for +=: 'dict' and 'dict'",
     "output_type": "error",
     "traceback": [
      "\u001b[1;31m---------------------------------------------------------------------------\u001b[0m",
      "\u001b[1;31mTypeError\u001b[0m                                 Traceback (most recent call last)",
      "Input \u001b[1;32mIn [45]\u001b[0m, in \u001b[0;36m<cell line: 1>\u001b[1;34m()\u001b[0m\n\u001b[1;32m----> 1\u001b[0m \u001b[38;5;28mprint\u001b[39m(\u001b[43madder\u001b[49m\u001b[43m(\u001b[49m\u001b[43m{\u001b[49m\u001b[43m}\u001b[49m\u001b[43m,\u001b[49m\u001b[43m \u001b[49m\u001b[43m{\u001b[49m\u001b[43m}\u001b[49m\u001b[43m)\u001b[49m)\n",
      "Input \u001b[1;32mIn [40]\u001b[0m, in \u001b[0;36madder\u001b[1;34m(*pargs)\u001b[0m\n\u001b[0;32m      5\u001b[0m     s \u001b[38;5;241m=\u001b[39m pargs[\u001b[38;5;241m0\u001b[39m]\n\u001b[0;32m      7\u001b[0m \u001b[38;5;28;01mfor\u001b[39;00m a \u001b[38;5;129;01min\u001b[39;00m pargs[\u001b[38;5;241m1\u001b[39m:]:\n\u001b[1;32m----> 8\u001b[0m     s \u001b[38;5;241m+\u001b[39m\u001b[38;5;241m=\u001b[39m a\n\u001b[0;32m     10\u001b[0m \u001b[38;5;28;01mreturn\u001b[39;00m s\n",
      "\u001b[1;31mTypeError\u001b[0m: unsupported operand type(s) for +=: 'dict' and 'dict'"
     ]
    }
   ],
   "source": [
    "print(adder({}, {}))"
   ]
  },
  {
   "cell_type": "markdown",
   "id": "8c3db1a9",
   "metadata": {},
   "source": [
    "<h1>Ex. 4</h1>"
   ]
  },
  {
   "cell_type": "code",
   "execution_count": 32,
   "id": "afeebff3",
   "metadata": {},
   "outputs": [],
   "source": [
    "def adder(good=10, bad=20, ugly=30):\n",
    "    return good + bad + ugly"
   ]
  },
  {
   "cell_type": "code",
   "execution_count": 33,
   "id": "4cff653d",
   "metadata": {},
   "outputs": [
    {
     "data": {
      "text/plain": [
       "60"
      ]
     },
     "execution_count": 33,
     "metadata": {},
     "output_type": "execute_result"
    }
   ],
   "source": [
    "adder()"
   ]
  },
  {
   "cell_type": "code",
   "execution_count": 34,
   "id": "afd3b9a9",
   "metadata": {},
   "outputs": [
    {
     "data": {
      "text/plain": [
       "51"
      ]
     },
     "execution_count": 34,
     "metadata": {},
     "output_type": "execute_result"
    }
   ],
   "source": [
    "adder(1)"
   ]
  },
  {
   "cell_type": "code",
   "execution_count": 35,
   "id": "3ff96cb9",
   "metadata": {},
   "outputs": [
    {
     "data": {
      "text/plain": [
       "52"
      ]
     },
     "execution_count": 35,
     "metadata": {},
     "output_type": "execute_result"
    }
   ],
   "source": [
    "adder(2)"
   ]
  },
  {
   "cell_type": "code",
   "execution_count": 36,
   "id": "58b7cc8c",
   "metadata": {},
   "outputs": [
    {
     "data": {
      "text/plain": [
       "23"
      ]
     },
     "execution_count": 36,
     "metadata": {},
     "output_type": "execute_result"
    }
   ],
   "source": [
    "adder(ugly=1, good=2)"
   ]
  },
  {
   "cell_type": "code",
   "execution_count": 47,
   "id": "54f1e90c-6827-4e1f-8467-3277c41af9fa",
   "metadata": {},
   "outputs": [],
   "source": [
    "def adder(**kwargs):\n",
    "    if len(kwargs) == 0:\n",
    "        return None\n",
    "    else:\n",
    "        keys = list(kwargs.keys())\n",
    "        s = kwargs[keys[0]]\n",
    "        \n",
    "    for k in keys[1:]:\n",
    "        s += kwargs[k]\n",
    "    \n",
    "    return s        "
   ]
  },
  {
   "cell_type": "code",
   "execution_count": 48,
   "id": "e61fdb29",
   "metadata": {},
   "outputs": [
    {
     "data": {
      "text/plain": [
       "3"
      ]
     },
     "execution_count": 48,
     "metadata": {},
     "output_type": "execute_result"
    }
   ],
   "source": [
    "adder(a=1, b=2)"
   ]
  },
  {
   "cell_type": "code",
   "execution_count": 49,
   "id": "d70ee1cf",
   "metadata": {},
   "outputs": [
    {
     "data": {
      "text/plain": [
       "2"
      ]
     },
     "execution_count": 49,
     "metadata": {},
     "output_type": "execute_result"
    }
   ],
   "source": [
    "adder(b=2)"
   ]
  },
  {
   "cell_type": "code",
   "execution_count": 51,
   "id": "1e2d9958",
   "metadata": {},
   "outputs": [
    {
     "name": "stdout",
     "output_type": "stream",
     "text": [
      "None\n"
     ]
    }
   ],
   "source": [
    "print(adder())"
   ]
  },
  {
   "cell_type": "code",
   "execution_count": null,
   "id": "ff9ddc88",
   "metadata": {},
   "outputs": [],
   "source": []
  },
  {
   "cell_type": "markdown",
   "id": "8fd63a98-8073-477c-b356-f4c1704d5080",
   "metadata": {},
   "source": [
    "<h1>Ex. 5</h1>"
   ]
  },
  {
   "cell_type": "code",
   "execution_count": 52,
   "id": "695a4ffb",
   "metadata": {},
   "outputs": [],
   "source": [
    "def copyDict(d):\n",
    "    d_copy = {}\n",
    "    for k in d:\n",
    "        d_copy[k] = d[k]\n",
    "    return d_copy"
   ]
  },
  {
   "cell_type": "code",
   "execution_count": 53,
   "id": "8d6668cd",
   "metadata": {},
   "outputs": [
    {
     "data": {
      "text/plain": [
       "{}"
      ]
     },
     "execution_count": 53,
     "metadata": {},
     "output_type": "execute_result"
    }
   ],
   "source": [
    "copyDict({})"
   ]
  },
  {
   "cell_type": "code",
   "execution_count": 54,
   "id": "cadb03c6",
   "metadata": {},
   "outputs": [
    {
     "data": {
      "text/plain": [
       "{'a': 1}"
      ]
     },
     "execution_count": 54,
     "metadata": {},
     "output_type": "execute_result"
    }
   ],
   "source": [
    "copyDict({'a':1})"
   ]
  },
  {
   "cell_type": "code",
   "execution_count": 55,
   "id": "821b202c",
   "metadata": {},
   "outputs": [
    {
     "data": {
      "text/plain": [
       "int"
      ]
     },
     "execution_count": 55,
     "metadata": {},
     "output_type": "execute_result"
    }
   ],
   "source": [
    "type(0)"
   ]
  },
  {
   "cell_type": "code",
   "execution_count": null,
   "id": "d5fc6b59",
   "metadata": {},
   "outputs": [],
   "source": []
  },
  {
   "cell_type": "markdown",
   "id": "a91711d5",
   "metadata": {},
   "source": [
    "<h1>Ex. 6</h1>"
   ]
  },
  {
   "cell_type": "code",
   "execution_count": 58,
   "id": "d45ab1b5",
   "metadata": {},
   "outputs": [],
   "source": [
    "def addDict(d1, d2):\n",
    "    d3 = {}\n",
    "    \n",
    "    for k in list(d1.keys()):\n",
    "        d3[k] = d1[k]\n",
    "        \n",
    "    for k in list(d2.keys()):\n",
    "        d3[k] = d2[k]\n",
    "    \n",
    "    return d3"
   ]
  },
  {
   "cell_type": "code",
   "execution_count": 59,
   "id": "83261b6c",
   "metadata": {},
   "outputs": [
    {
     "data": {
      "text/plain": [
       "{}"
      ]
     },
     "execution_count": 59,
     "metadata": {},
     "output_type": "execute_result"
    }
   ],
   "source": [
    "addDict({}, {})"
   ]
  },
  {
   "cell_type": "code",
   "execution_count": 60,
   "id": "2eba7f16",
   "metadata": {},
   "outputs": [
    {
     "data": {
      "text/plain": [
       "{'a': 1, 'b': 2}"
      ]
     },
     "execution_count": 60,
     "metadata": {},
     "output_type": "execute_result"
    }
   ],
   "source": [
    "addDict({'a':1}, {'b':2})"
   ]
  },
  {
   "cell_type": "code",
   "execution_count": 61,
   "id": "72c8541a",
   "metadata": {},
   "outputs": [
    {
     "ename": "AttributeError",
     "evalue": "'list' object has no attribute 'keys'",
     "output_type": "error",
     "traceback": [
      "\u001b[1;31m---------------------------------------------------------------------------\u001b[0m",
      "\u001b[1;31mAttributeError\u001b[0m                            Traceback (most recent call last)",
      "Input \u001b[1;32mIn [61]\u001b[0m, in \u001b[0;36m<cell line: 1>\u001b[1;34m()\u001b[0m\n\u001b[1;32m----> 1\u001b[0m \u001b[43maddDict\u001b[49m\u001b[43m(\u001b[49m\u001b[43m[\u001b[49m\u001b[43m]\u001b[49m\u001b[43m,\u001b[49m\u001b[43m \u001b[49m\u001b[43m[\u001b[49m\u001b[43m]\u001b[49m\u001b[43m)\u001b[49m\n",
      "Input \u001b[1;32mIn [58]\u001b[0m, in \u001b[0;36maddDict\u001b[1;34m(d1, d2)\u001b[0m\n\u001b[0;32m      1\u001b[0m \u001b[38;5;28;01mdef\u001b[39;00m \u001b[38;5;21maddDict\u001b[39m(d1, d2):\n\u001b[0;32m      2\u001b[0m     d3 \u001b[38;5;241m=\u001b[39m {}\n\u001b[1;32m----> 4\u001b[0m     \u001b[38;5;28;01mfor\u001b[39;00m k \u001b[38;5;129;01min\u001b[39;00m \u001b[38;5;28mlist\u001b[39m(\u001b[43md1\u001b[49m\u001b[38;5;241;43m.\u001b[39;49m\u001b[43mkeys\u001b[49m()):\n\u001b[0;32m      5\u001b[0m         d3[k] \u001b[38;5;241m=\u001b[39m d1[k]\n\u001b[0;32m      7\u001b[0m     \u001b[38;5;28;01mfor\u001b[39;00m k \u001b[38;5;129;01min\u001b[39;00m \u001b[38;5;28mlist\u001b[39m(d2\u001b[38;5;241m.\u001b[39mkeys()):\n",
      "\u001b[1;31mAttributeError\u001b[0m: 'list' object has no attribute 'keys'"
     ]
    }
   ],
   "source": [
    "addDict([], [])"
   ]
  },
  {
   "cell_type": "code",
   "execution_count": 62,
   "id": "c1773630",
   "metadata": {},
   "outputs": [],
   "source": [
    "def addDict(d1, d2):\n",
    "    if type(d1) == dict:\n",
    "        d3 = {}\n",
    "\n",
    "        for k in list(d1.keys()):\n",
    "            d3[k] = d1[k]\n",
    "\n",
    "        for k in list(d2.keys()):\n",
    "            d3[k] = d2[k]\n",
    "\n",
    "        return d3\n",
    "    \n",
    "    if type(d1) == list:\n",
    "        d3 = []\n",
    "\n",
    "        for v in d1:\n",
    "            d3.append(v)\n",
    "\n",
    "        for v in d2:\n",
    "            d3.append(v)\n",
    "        \n",
    "        return d3\n",
    "        "
   ]
  },
  {
   "cell_type": "code",
   "execution_count": 63,
   "id": "60180ced",
   "metadata": {},
   "outputs": [
    {
     "data": {
      "text/plain": [
       "{}"
      ]
     },
     "execution_count": 63,
     "metadata": {},
     "output_type": "execute_result"
    }
   ],
   "source": [
    "addDict({}, {})"
   ]
  },
  {
   "cell_type": "code",
   "execution_count": 64,
   "id": "5812332a",
   "metadata": {},
   "outputs": [
    {
     "data": {
      "text/plain": [
       "[]"
      ]
     },
     "execution_count": 64,
     "metadata": {},
     "output_type": "execute_result"
    }
   ],
   "source": [
    "addDict([], [])"
   ]
  },
  {
   "cell_type": "code",
   "execution_count": 65,
   "id": "101b85d7",
   "metadata": {},
   "outputs": [
    {
     "data": {
      "text/plain": [
       "[1, 2]"
      ]
     },
     "execution_count": 65,
     "metadata": {},
     "output_type": "execute_result"
    }
   ],
   "source": [
    "addDict([1], [2])"
   ]
  },
  {
   "cell_type": "markdown",
   "id": "c8fc484f",
   "metadata": {},
   "source": [
    "<h1>Ex. 7</h1>"
   ]
  },
  {
   "cell_type": "code",
   "execution_count": 69,
   "id": "dfc1fa5c",
   "metadata": {},
   "outputs": [],
   "source": [
    "def f1(a, b): print(a, b)\n",
    "def f2(a, *b): print(a, b)\n",
    "def f3(a, **b): print(a, b)    \n",
    "def f4(a, *b, **c): print(a, b, c) \n",
    "def f5(a, b=2, c=3): print(a, b, c) \n",
    "def f6(a, b=2, *c): print(a, b, c) "
   ]
  },
  {
   "cell_type": "code",
   "execution_count": 70,
   "id": "64c95a7f",
   "metadata": {},
   "outputs": [
    {
     "name": "stdout",
     "output_type": "stream",
     "text": [
      "1 2\n"
     ]
    }
   ],
   "source": [
    "f1(1,2)"
   ]
  },
  {
   "cell_type": "code",
   "execution_count": 71,
   "id": "748901eb",
   "metadata": {},
   "outputs": [
    {
     "name": "stdout",
     "output_type": "stream",
     "text": [
      "1 2\n"
     ]
    }
   ],
   "source": [
    "f1(b=2, a=1)"
   ]
  },
  {
   "cell_type": "code",
   "execution_count": 72,
   "id": "7f09898e",
   "metadata": {},
   "outputs": [
    {
     "name": "stdout",
     "output_type": "stream",
     "text": [
      "1 (2, 3)\n"
     ]
    }
   ],
   "source": [
    "f2(1, 2, 3)"
   ]
  },
  {
   "cell_type": "code",
   "execution_count": 73,
   "id": "3ff32d6b",
   "metadata": {},
   "outputs": [
    {
     "name": "stdout",
     "output_type": "stream",
     "text": [
      "1 {'x': 2, 'y': 3}\n"
     ]
    }
   ],
   "source": [
    "f3(1, x=2, y=3)"
   ]
  },
  {
   "cell_type": "code",
   "execution_count": 74,
   "id": "b8c829ec",
   "metadata": {},
   "outputs": [
    {
     "name": "stdout",
     "output_type": "stream",
     "text": [
      "1 (2, 3) {'x': 2, 'y': 3}\n"
     ]
    }
   ],
   "source": [
    "f4(1, 2, 3, x=2, y=3)"
   ]
  },
  {
   "cell_type": "code",
   "execution_count": 75,
   "id": "5324b969",
   "metadata": {},
   "outputs": [
    {
     "name": "stdout",
     "output_type": "stream",
     "text": [
      "1 2 3\n"
     ]
    }
   ],
   "source": [
    "f5(1)"
   ]
  },
  {
   "cell_type": "code",
   "execution_count": 76,
   "id": "f04b9bef",
   "metadata": {},
   "outputs": [
    {
     "name": "stdout",
     "output_type": "stream",
     "text": [
      "1 2 ()\n"
     ]
    }
   ],
   "source": [
    "f6(1)"
   ]
  },
  {
   "cell_type": "code",
   "execution_count": 77,
   "id": "e87ef501",
   "metadata": {},
   "outputs": [
    {
     "name": "stdout",
     "output_type": "stream",
     "text": [
      "1 3 (4,)\n"
     ]
    }
   ],
   "source": [
    "f6(1, 3, 4)"
   ]
  },
  {
   "cell_type": "markdown",
   "id": "46c63012",
   "metadata": {},
   "source": [
    "<h1>Ex. 8</h1>"
   ]
  },
  {
   "cell_type": "code",
   "execution_count": 112,
   "id": "bda1e12e",
   "metadata": {},
   "outputs": [],
   "source": [
    "def isPrime(y):\n",
    "    if y <=1:\n",
    "        print(y, 'is not prime!')\n",
    "        return\n",
    "    \n",
    "    y1 = abs(y)\n",
    "    \n",
    "    x = y1 // 2\n",
    "    \n",
    "    while x > 1:\n",
    "        if y1 % x == 0:\n",
    "            print(y, 'has factor', x)\n",
    "            return\n",
    "        else:\n",
    "            x -= 1\n",
    "    \n",
    "    print(y, 'is prime!')"
   ]
  },
  {
   "cell_type": "code",
   "execution_count": 113,
   "id": "ae23f05a",
   "metadata": {},
   "outputs": [
    {
     "name": "stdout",
     "output_type": "stream",
     "text": [
      "13 is prime!\n"
     ]
    }
   ],
   "source": [
    "isPrime(13)"
   ]
  },
  {
   "cell_type": "code",
   "execution_count": 114,
   "id": "75a61e45",
   "metadata": {},
   "outputs": [
    {
     "name": "stdout",
     "output_type": "stream",
     "text": [
      "13.0 is prime!\n"
     ]
    }
   ],
   "source": [
    "isPrime(13.0)"
   ]
  },
  {
   "cell_type": "code",
   "execution_count": 115,
   "id": "92420faa",
   "metadata": {},
   "outputs": [
    {
     "name": "stdout",
     "output_type": "stream",
     "text": [
      "15 has factor 5\n"
     ]
    }
   ],
   "source": [
    "isPrime(15)"
   ]
  },
  {
   "cell_type": "code",
   "execution_count": 116,
   "id": "5ab758c9",
   "metadata": {},
   "outputs": [
    {
     "name": "stdout",
     "output_type": "stream",
     "text": [
      "15.0 has factor 5.0\n"
     ]
    }
   ],
   "source": [
    "isPrime(15.0)"
   ]
  },
  {
   "cell_type": "code",
   "execution_count": 117,
   "id": "9ad30a8c",
   "metadata": {},
   "outputs": [
    {
     "name": "stdout",
     "output_type": "stream",
     "text": [
      "0 is not prime!\n"
     ]
    }
   ],
   "source": [
    "isPrime(0)"
   ]
  },
  {
   "cell_type": "code",
   "execution_count": 118,
   "id": "2e6866b7",
   "metadata": {},
   "outputs": [
    {
     "name": "stdout",
     "output_type": "stream",
     "text": [
      "1 is not prime!\n"
     ]
    }
   ],
   "source": [
    "isPrime(1)"
   ]
  },
  {
   "cell_type": "code",
   "execution_count": 119,
   "id": "4934b700",
   "metadata": {},
   "outputs": [
    {
     "name": "stdout",
     "output_type": "stream",
     "text": [
      "0 is not prime!\n"
     ]
    }
   ],
   "source": [
    "isPrime(0)"
   ]
  },
  {
   "cell_type": "code",
   "execution_count": null,
   "id": "96ae9af0",
   "metadata": {},
   "outputs": [],
   "source": []
  },
  {
   "cell_type": "markdown",
   "id": "dde6a648",
   "metadata": {},
   "source": [
    "<h1>Ex. 9</h1>"
   ]
  },
  {
   "cell_type": "code",
   "execution_count": 121,
   "id": "4980d0b9",
   "metadata": {},
   "outputs": [],
   "source": [
    "l = [2, 4, 9, 16, 25]"
   ]
  },
  {
   "cell_type": "code",
   "execution_count": 127,
   "id": "0f4441b5",
   "metadata": {},
   "outputs": [],
   "source": [
    "import math"
   ]
  },
  {
   "cell_type": "code",
   "execution_count": 129,
   "id": "72be15f9",
   "metadata": {},
   "outputs": [
    {
     "data": {
      "text/plain": [
       "[1.4142135623730951, 2.0, 3.0, 4.0, 5.0]"
      ]
     },
     "execution_count": 129,
     "metadata": {},
     "output_type": "execute_result"
    }
   ],
   "source": [
    "sqrt_l = [] * len(l)\n",
    "\n",
    "for v in l:\n",
    "    sqrt_l.append(math.sqrt(v))\n",
    "\n",
    "sqrt_l"
   ]
  },
  {
   "cell_type": "code",
   "execution_count": 130,
   "id": "72ef1066",
   "metadata": {},
   "outputs": [
    {
     "data": {
      "text/plain": [
       "[1.4142135623730951, 2.0, 3.0, 4.0, 5.0]"
      ]
     },
     "execution_count": 130,
     "metadata": {},
     "output_type": "execute_result"
    }
   ],
   "source": [
    "sqr_l = list(map(math.sqrt, l))\n",
    "sqr_l"
   ]
  },
  {
   "cell_type": "code",
   "execution_count": 131,
   "id": "2e27a286",
   "metadata": {},
   "outputs": [
    {
     "data": {
      "text/plain": [
       "[1.4142135623730951, 2.0, 3.0, 4.0, 5.0]"
      ]
     },
     "execution_count": 131,
     "metadata": {},
     "output_type": "execute_result"
    }
   ],
   "source": [
    "sqr_l = [math.sqrt(x) for x in l]\n",
    "sqr_l"
   ]
  },
  {
   "cell_type": "code",
   "execution_count": 132,
   "id": "9ad5e9b8",
   "metadata": {},
   "outputs": [
    {
     "data": {
      "text/plain": [
       "[1.4142135623730951, 2.0, 3.0, 4.0, 5.0]"
      ]
     },
     "execution_count": 132,
     "metadata": {},
     "output_type": "execute_result"
    }
   ],
   "source": [
    "sqr_l = list(math.sqrt(x) for x in l)\n",
    "sqr_l"
   ]
  },
  {
   "cell_type": "markdown",
   "id": "76f19c93-4cac-4175-b8d2-7f2918fe31d7",
   "metadata": {},
   "source": [
    "<h1>Ex. 10</h1>"
   ]
  },
  {
   "cell_type": "code",
   "execution_count": 21,
   "id": "8ebda4d0-01bb-45b9-8c6b-01df58bcb8a7",
   "metadata": {},
   "outputs": [],
   "source": [
    "import timeit"
   ]
  },
  {
   "cell_type": "code",
   "execution_count": 22,
   "id": "6071f2a8-7c8c-4e74-a4af-1cec5541a6d0",
   "metadata": {},
   "outputs": [
    {
     "data": {
      "text/plain": [
       "0.07646689999091905"
      ]
     },
     "execution_count": 22,
     "metadata": {},
     "output_type": "execute_result"
    }
   ],
   "source": [
    "min(timeit.repeat(stmt='math.sqrt(3)',setup='import math', number=1_000_000, repeat=10))"
   ]
  },
  {
   "cell_type": "code",
   "execution_count": 23,
   "id": "a3e527f5-8b98-4326-84ec-7b6f35f72e0b",
   "metadata": {},
   "outputs": [
    {
     "data": {
      "text/plain": [
       "0.006884000002173707"
      ]
     },
     "execution_count": 23,
     "metadata": {},
     "output_type": "execute_result"
    }
   ],
   "source": [
    "min(timeit.repeat(stmt='3 ** 0.5', number=1_000_000, repeat=10))"
   ]
  },
  {
   "cell_type": "code",
   "execution_count": 24,
   "id": "a3b060d4-d8aa-4e5a-ab6f-21057b99bc85",
   "metadata": {},
   "outputs": [
    {
     "data": {
      "text/plain": [
       "0.12108460000308696"
      ]
     },
     "execution_count": 24,
     "metadata": {},
     "output_type": "execute_result"
    }
   ],
   "source": [
    "min(timeit.repeat(stmt='pow(3, 0.5)', number=1_000_000, repeat=10))"
   ]
  },
  {
   "cell_type": "code",
   "execution_count": 54,
   "id": "d1aad1a2-b96b-47a1-9333-24e7a216d81f",
   "metadata": {},
   "outputs": [],
   "source": [
    "def best_of(f, number, repeat):\n",
    "    import time\n",
    "    results = [None] * repeat\n",
    "    for i in range(repeat):\n",
    "        start = time.process_time()\n",
    "        for _ in range(number):\n",
    "             f()\n",
    "        results[i] = time.process_time() - start\n",
    "\n",
    "    print(min(results))"
   ]
  },
  {
   "cell_type": "code",
   "execution_count": 63,
   "id": "4818498a-48e9-4e11-aca3-854ace5a6d35",
   "metadata": {},
   "outputs": [
    {
     "name": "stdout",
     "output_type": "stream",
     "text": [
      "0.109375\n"
     ]
    }
   ],
   "source": [
    "import math\n",
    "best_of(lambda : math.sqrt(3), number=1_000_000, repeat=10)"
   ]
  },
  {
   "cell_type": "code",
   "execution_count": 64,
   "id": "32414e0f-c06e-4b1b-9ce4-ad0df552600c",
   "metadata": {},
   "outputs": [
    {
     "name": "stdout",
     "output_type": "stream",
     "text": [
      "0.046875\n"
     ]
    }
   ],
   "source": [
    "best_of(lambda : 3 ** 0.5, number=1_000_000, repeat=10)"
   ]
  },
  {
   "cell_type": "code",
   "execution_count": 65,
   "id": "922e7cf7-b66d-4768-889d-6a46cb325536",
   "metadata": {},
   "outputs": [
    {
     "name": "stdout",
     "output_type": "stream",
     "text": [
      "0.140625\n"
     ]
    }
   ],
   "source": [
    "best_of(lambda : pow(3, 0.5), number=1_000_000, repeat=10)"
   ]
  },
  {
   "cell_type": "code",
   "execution_count": null,
   "id": "37a534b8-c764-4582-8139-ce1251aff7a2",
   "metadata": {},
   "outputs": [],
   "source": []
  },
  {
   "cell_type": "markdown",
   "id": "888bffff-87ed-4875-b8ba-c69b80b08039",
   "metadata": {},
   "source": [
    "<h1>Ex. 11</h1>"
   ]
  },
  {
   "cell_type": "code",
   "execution_count": 69,
   "id": "4f1671dd-3467-4b64-aeee-46cd781a1a14",
   "metadata": {},
   "outputs": [],
   "source": [
    "def countdown(n):\n",
    "    if n == 0:\n",
    "        print(\"stop\")\n",
    "        return\n",
    "\n",
    "    print(n)\n",
    "    countdown(n-1)"
   ]
  },
  {
   "cell_type": "code",
   "execution_count": 70,
   "id": "66ffba0a-94dc-493a-bd2e-09c1d36889a2",
   "metadata": {},
   "outputs": [
    {
     "name": "stdout",
     "output_type": "stream",
     "text": [
      "5\n",
      "4\n",
      "3\n",
      "2\n",
      "1\n",
      "stop\n"
     ]
    }
   ],
   "source": [
    "countdown(5)"
   ]
  },
  {
   "cell_type": "code",
   "execution_count": 76,
   "id": "35126f65-ab09-4bb0-92dc-88c8ef1c414a",
   "metadata": {},
   "outputs": [],
   "source": [
    "def countdown1(n):\n",
    "    i = n\n",
    "    while i > 0:\n",
    "        yield i\n",
    "        i -=1\n",
    "    else:\n",
    "        yield(\"stop\")"
   ]
  },
  {
   "cell_type": "code",
   "execution_count": 77,
   "id": "63bd0e43-90be-400f-9c2e-2d7f9617494e",
   "metadata": {},
   "outputs": [
    {
     "name": "stdout",
     "output_type": "stream",
     "text": [
      "5\n",
      "4\n",
      "3\n",
      "2\n",
      "1\n",
      "stop\n"
     ]
    }
   ],
   "source": [
    "for val in countdown1(5):\n",
    "    print(val)"
   ]
  },
  {
   "cell_type": "code",
   "execution_count": null,
   "id": "f2486069-0011-471a-b8d9-6bfdc6332255",
   "metadata": {},
   "outputs": [],
   "source": []
  },
  {
   "cell_type": "markdown",
   "id": "de1f6581-55f5-4bb9-b590-09236662cd12",
   "metadata": {},
   "source": [
    "<h1>Ex 12</h1>"
   ]
  },
  {
   "cell_type": "code",
   "execution_count": 88,
   "id": "032876c4-3947-4f23-a9dc-441e6995ef50",
   "metadata": {},
   "outputs": [],
   "source": [
    "def fact1(n):\n",
    "    if n == 1:\n",
    "        return 1\n",
    "\n",
    "    return n * fact1(n-1)"
   ]
  },
  {
   "cell_type": "code",
   "execution_count": 89,
   "id": "cc294ee9-fe57-4038-a5f7-4e7d47b59833",
   "metadata": {},
   "outputs": [
    {
     "data": {
      "text/plain": [
       "6"
      ]
     },
     "execution_count": 89,
     "metadata": {},
     "output_type": "execute_result"
    }
   ],
   "source": [
    "fact1(3)"
   ]
  },
  {
   "cell_type": "code",
   "execution_count": null,
   "id": "6b34f1b7-1bcf-4724-b5ee-e6f8721201ef",
   "metadata": {},
   "outputs": [],
   "source": []
  },
  {
   "cell_type": "code",
   "execution_count": 96,
   "id": "3ceef3b6-321c-4991-a85f-e12416c47e74",
   "metadata": {},
   "outputs": [],
   "source": [
    "from functools import reduce\n",
    "def fact2(n):    \n",
    "    return reduce(lambda x, y: x * y, range(1,n+1))"
   ]
  },
  {
   "cell_type": "code",
   "execution_count": 97,
   "id": "f0a36072-165d-4705-a731-f6f976da907f",
   "metadata": {},
   "outputs": [
    {
     "data": {
      "text/plain": [
       "6"
      ]
     },
     "execution_count": 97,
     "metadata": {},
     "output_type": "execute_result"
    }
   ],
   "source": [
    "fact2(3)"
   ]
  },
  {
   "cell_type": "code",
   "execution_count": 100,
   "id": "c333f743-9579-49ff-bb35-eba1f5f956ab",
   "metadata": {},
   "outputs": [],
   "source": [
    "def fact3(n):\n",
    "    res = 1\n",
    "    for i in range(1, n+1):\n",
    "        res*=i\n",
    "    return res"
   ]
  },
  {
   "cell_type": "code",
   "execution_count": 101,
   "id": "c83cec28-8f1f-427d-abd2-f244a47ab666",
   "metadata": {},
   "outputs": [
    {
     "data": {
      "text/plain": [
       "6"
      ]
     },
     "execution_count": 101,
     "metadata": {},
     "output_type": "execute_result"
    }
   ],
   "source": [
    "fact3(3)"
   ]
  },
  {
   "cell_type": "code",
   "execution_count": null,
   "id": "c119a2ba-772e-4188-a850-86081214dece",
   "metadata": {},
   "outputs": [],
   "source": []
  },
  {
   "cell_type": "code",
   "execution_count": 118,
   "id": "69d7262a-0abe-4b63-bb6f-33edb2b2bddf",
   "metadata": {},
   "outputs": [],
   "source": [
    "def fact4(n):\n",
    "    return math.factorial(n)"
   ]
  },
  {
   "cell_type": "code",
   "execution_count": 119,
   "id": "ea1486f1-24f2-42de-8487-ab1ef774b364",
   "metadata": {},
   "outputs": [
    {
     "data": {
      "text/plain": [
       "6"
      ]
     },
     "execution_count": 119,
     "metadata": {},
     "output_type": "execute_result"
    }
   ],
   "source": [
    "fact4(3)"
   ]
  },
  {
   "cell_type": "code",
   "execution_count": null,
   "id": "db0821ca-fa50-4fb9-9679-e693e9278fcd",
   "metadata": {},
   "outputs": [],
   "source": []
  },
  {
   "cell_type": "code",
   "execution_count": 120,
   "id": "ea057554-0545-4d9e-a603-7a5f3a72f8ff",
   "metadata": {},
   "outputs": [
    {
     "data": {
      "text/plain": [
       "0.07598969999526162"
      ]
     },
     "execution_count": 120,
     "metadata": {},
     "output_type": "execute_result"
    }
   ],
   "source": [
    "min(timeit.repeat(stmt='fact1(10)', globals=globals(), number=100_000, repeat=10 ))"
   ]
  },
  {
   "cell_type": "code",
   "execution_count": 121,
   "id": "31e4a717-b111-4273-abce-9c11e809341d",
   "metadata": {},
   "outputs": [
    {
     "data": {
      "text/plain": [
       "0.07090710000193212"
      ]
     },
     "execution_count": 121,
     "metadata": {},
     "output_type": "execute_result"
    }
   ],
   "source": [
    "min(timeit.repeat(stmt='fact2(10)', globals=globals(), number=100_000, repeat=10 ))"
   ]
  },
  {
   "cell_type": "code",
   "execution_count": 122,
   "id": "3750e01f-3121-4a08-a5aa-62b51f9ccf7c",
   "metadata": {},
   "outputs": [
    {
     "data": {
      "text/plain": [
       "0.04314540000632405"
      ]
     },
     "execution_count": 122,
     "metadata": {},
     "output_type": "execute_result"
    }
   ],
   "source": [
    "min(timeit.repeat(stmt='fact3(10)', globals=globals(), number=100_000, repeat=10 ))"
   ]
  },
  {
   "cell_type": "code",
   "execution_count": 123,
   "id": "42a444be-5f55-4794-a353-87645fc8b153",
   "metadata": {},
   "outputs": [
    {
     "data": {
      "text/plain": [
       "0.008996999997179955"
      ]
     },
     "execution_count": 123,
     "metadata": {},
     "output_type": "execute_result"
    }
   ],
   "source": [
    "min(timeit.repeat(stmt='fact4(10)', globals=globals(), number=100_000, repeat=10 ))"
   ]
  },
  {
   "cell_type": "code",
   "execution_count": null,
   "id": "6d3f759d-b9ad-48a1-ad9a-674ec294702d",
   "metadata": {},
   "outputs": [],
   "source": []
  }
 ],
 "metadata": {
  "kernelspec": {
   "display_name": "Python 3 (ipykernel)",
   "language": "python",
   "name": "python3"
  },
  "language_info": {
   "codemirror_mode": {
    "name": "ipython",
    "version": 3
   },
   "file_extension": ".py",
   "mimetype": "text/x-python",
   "name": "python",
   "nbconvert_exporter": "python",
   "pygments_lexer": "ipython3",
   "version": "3.10.11"
  }
 },
 "nbformat": 4,
 "nbformat_minor": 5
}
