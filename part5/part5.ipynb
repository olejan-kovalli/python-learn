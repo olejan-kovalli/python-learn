{
 "cells": [
  {
   "cell_type": "markdown",
   "id": "288ebcb4-7308-4c38-b7af-7d075201a4a1",
   "metadata": {},
   "source": [
    "<h1>Ex. 1</h1>"
   ]
  },
  {
   "cell_type": "code",
   "execution_count": 15,
   "id": "0a621edb",
   "metadata": {},
   "outputs": [],
   "source": [
    "#created module mymod.py"
   ]
  },
  {
   "cell_type": "markdown",
   "id": "39c30405-5a11-45bf-95a9-e17daf4e17fb",
   "metadata": {},
   "source": [
    "<h1>Ex. 2</h1>"
   ]
  },
  {
   "cell_type": "code",
   "execution_count": 16,
   "id": "fa0f779f-428e-4b21-9214-ee74653e4200",
   "metadata": {
    "scrolled": true
   },
   "outputs": [],
   "source": [
    "from mymod import test"
   ]
  },
  {
   "cell_type": "code",
   "execution_count": 17,
   "id": "488e19e1-c74e-4a9a-97fe-c9c72a0cbea6",
   "metadata": {},
   "outputs": [
    {
     "name": "stdout",
     "output_type": "stream",
     "text": [
      "42 lines\n",
      "837 chars\n"
     ]
    }
   ],
   "source": [
    "test('mymod.py')"
   ]
  },
  {
   "cell_type": "code",
   "execution_count": 18,
   "id": "8fa1d331-cfbc-4cc6-9737-76b6194b9eed",
   "metadata": {},
   "outputs": [],
   "source": [
    "from mymod import *"
   ]
  },
  {
   "cell_type": "code",
   "execution_count": 19,
   "id": "36876904-9146-42c3-b0d8-8ab53eb9b175",
   "metadata": {},
   "outputs": [
    {
     "data": {
      "text/plain": [
       "837"
      ]
     },
     "execution_count": 19,
     "metadata": {},
     "output_type": "execute_result"
    }
   ],
   "source": [
    "countChars('mymod.py')"
   ]
  },
  {
   "cell_type": "code",
   "execution_count": 20,
   "id": "059b63c7-79ea-4a0d-88a1-77b1bc71d24b",
   "metadata": {},
   "outputs": [
    {
     "data": {
      "text/plain": [
       "42"
      ]
     },
     "execution_count": 20,
     "metadata": {},
     "output_type": "execute_result"
    }
   ],
   "source": [
    "countLines('mymod.py')"
   ]
  },
  {
   "cell_type": "markdown",
   "id": "9e07a691-0bd2-4407-ad98-9048b20ae351",
   "metadata": {},
   "source": [
    "<h1>Ex. 3</h1> "
   ]
  },
  {
   "cell_type": "code",
   "execution_count": 21,
   "id": "0f9ff3f0",
   "metadata": {},
   "outputs": [
    {
     "name": "stdout",
     "output_type": "stream",
     "text": [
      "My __name__ is \"__main__\"!\n"
     ]
    }
   ],
   "source": [
    "!python mymod.py"
   ]
  },
  {
   "cell_type": "code",
   "execution_count": 22,
   "id": "693bc8ef-e41a-4190-a08a-beaaf63119f5",
   "metadata": {},
   "outputs": [
    {
     "name": "stdout",
     "output_type": "stream",
     "text": [
      "My __name__ is \"__main__\"!\n"
     ]
    }
   ],
   "source": [
    "!python -m mymod"
   ]
  },
  {
   "cell_type": "code",
   "execution_count": 23,
   "id": "9d239a82-01b4-41e1-bc89-8d099006545d",
   "metadata": {},
   "outputs": [],
   "source": [
    "import mymod"
   ]
  },
  {
   "cell_type": "code",
   "execution_count": 24,
   "id": "60a7b143-499e-4b7b-834b-0648aee00365",
   "metadata": {},
   "outputs": [],
   "source": [
    "exec('mymod')"
   ]
  },
  {
   "cell_type": "code",
   "execution_count": null,
   "id": "4ff9f5e5-3447-4af5-86c0-5a61618eb0f1",
   "metadata": {},
   "outputs": [],
   "source": []
  },
  {
   "cell_type": "markdown",
   "id": "8c3db1a9",
   "metadata": {},
   "source": [
    "<h1>Ex. 4</h1>"
   ]
  },
  {
   "cell_type": "code",
   "execution_count": 25,
   "id": "ff9ddc88",
   "metadata": {},
   "outputs": [],
   "source": [
    "import myclient"
   ]
  },
  {
   "cell_type": "code",
   "execution_count": 26,
   "id": "b5139d1a-f873-4e3d-b1c9-fdbc4e730282",
   "metadata": {},
   "outputs": [],
   "source": [
    "import inspect"
   ]
  },
  {
   "cell_type": "code",
   "execution_count": 27,
   "id": "1a21de2e-da75-462a-9e73-f8204f809d7b",
   "metadata": {},
   "outputs": [
    {
     "data": {
      "text/plain": [
       "\"import mymod\\n\\nmymod.test(r'C:\\\\code\\\\python-learn\\\\part4\\\\part4.ipynb')\\n\""
      ]
     },
     "execution_count": 27,
     "metadata": {},
     "output_type": "execute_result"
    }
   ],
   "source": [
    "inspect.getsource(myclient)"
   ]
  },
  {
   "cell_type": "markdown",
   "id": "8fd63a98-8073-477c-b356-f4c1704d5080",
   "metadata": {},
   "source": [
    "<h1>Ex. 5</h1>"
   ]
  },
  {
   "cell_type": "code",
   "execution_count": 28,
   "id": "d5fc6b59",
   "metadata": {},
   "outputs": [],
   "source": [
    "import mypkg.mymod"
   ]
  },
  {
   "cell_type": "code",
   "execution_count": 29,
   "id": "3d8424be-fe10-46db-86a2-0c00f75029f7",
   "metadata": {},
   "outputs": [],
   "source": [
    "from mypkg.mymod import countChars, countLines"
   ]
  },
  {
   "cell_type": "code",
   "execution_count": 30,
   "id": "e9dfd4c8-450e-47a1-b677-eb052c91ed9e",
   "metadata": {},
   "outputs": [],
   "source": [
    "from mypkg.mymod import test"
   ]
  },
  {
   "cell_type": "code",
   "execution_count": 31,
   "id": "4b0184c5-f767-4f88-8d81-ddbd45a82587",
   "metadata": {},
   "outputs": [
    {
     "name": "stdout",
     "output_type": "stream",
     "text": [
      "1234 is not found.\n",
      "None lines\n",
      "1234 is not found.\n",
      "None chars\n"
     ]
    }
   ],
   "source": [
    "test('1234')"
   ]
  },
  {
   "cell_type": "markdown",
   "id": "a91711d5",
   "metadata": {},
   "source": [
    "<h1>Ex. 6</h1>"
   ]
  },
  {
   "cell_type": "code",
   "execution_count": 32,
   "id": "101b85d7",
   "metadata": {},
   "outputs": [],
   "source": [
    "import changer"
   ]
  },
  {
   "cell_type": "code",
   "execution_count": 33,
   "id": "1cb806c1-d43a-4a34-a923-53cd258f1550",
   "metadata": {},
   "outputs": [
    {
     "name": "stdout",
     "output_type": "stream",
     "text": [
      "reloaded: After editing\n"
     ]
    }
   ],
   "source": [
    "changer.printer()"
   ]
  },
  {
   "cell_type": "code",
   "execution_count": 34,
   "id": "cdfe6bd3-3d25-4b92-a8c8-c7e8b665ccba",
   "metadata": {},
   "outputs": [],
   "source": [
    "import changer"
   ]
  },
  {
   "cell_type": "code",
   "execution_count": 35,
   "id": "dbef7452-8d8d-44c6-8df9-0ed229b8e2cf",
   "metadata": {},
   "outputs": [
    {
     "name": "stdout",
     "output_type": "stream",
     "text": [
      "reloaded: After editing\n"
     ]
    }
   ],
   "source": [
    "changer.printer()"
   ]
  },
  {
   "cell_type": "code",
   "execution_count": 36,
   "id": "aee66924-a86f-40aa-a893-07f38738b07e",
   "metadata": {},
   "outputs": [],
   "source": [
    "from importlib import reload"
   ]
  },
  {
   "cell_type": "code",
   "execution_count": 37,
   "id": "e489777f-f2df-4501-94e5-d44d821cfe47",
   "metadata": {},
   "outputs": [
    {
     "data": {
      "text/plain": [
       "<module 'changer' from 'C:\\\\code\\\\python-learn\\\\part5\\\\changer.py'>"
      ]
     },
     "execution_count": 37,
     "metadata": {},
     "output_type": "execute_result"
    }
   ],
   "source": [
    "reload(changer)"
   ]
  },
  {
   "cell_type": "code",
   "execution_count": 38,
   "id": "f244a455-1739-40a6-8122-960d792ad423",
   "metadata": {},
   "outputs": [
    {
     "name": "stdout",
     "output_type": "stream",
     "text": [
      "reloaded: After editing\n"
     ]
    }
   ],
   "source": [
    "changer.printer()"
   ]
  },
  {
   "cell_type": "markdown",
   "id": "c8fc484f",
   "metadata": {},
   "source": [
    "<h1>Ex. 7</h1>"
   ]
  },
  {
   "cell_type": "code",
   "execution_count": 39,
   "id": "e87ef501",
   "metadata": {},
   "outputs": [
    {
     "ename": "ImportError",
     "evalue": "cannot import name 'Y' from partially initialized module 'recur1' (most likely due to a circular import) (C:\\code\\python-learn\\part5\\recur1.py)",
     "output_type": "error",
     "traceback": [
      "\u001b[1;31m---------------------------------------------------------------------------\u001b[0m",
      "\u001b[1;31mImportError\u001b[0m                               Traceback (most recent call last)",
      "Cell \u001b[1;32mIn[39], line 1\u001b[0m\n\u001b[1;32m----> 1\u001b[0m \u001b[38;5;28;01mimport\u001b[39;00m \u001b[38;5;21;01mrecur1\u001b[39;00m\n",
      "File \u001b[1;32mC:\\code\\python-learn\\part5\\recur1.py:2\u001b[0m\n\u001b[0;32m      1\u001b[0m X\u001b[38;5;241m=\u001b[39m\u001b[38;5;241m1\u001b[39m\n\u001b[1;32m----> 2\u001b[0m \u001b[38;5;28;01mimport\u001b[39;00m \u001b[38;5;21;01mrecur2\u001b[39;00m\n\u001b[0;32m      3\u001b[0m Y\u001b[38;5;241m=\u001b[39m\u001b[38;5;241m2\u001b[39m\n",
      "File \u001b[1;32mC:\\code\\python-learn\\part5\\recur2.py:2\u001b[0m\n\u001b[0;32m      1\u001b[0m \u001b[38;5;28;01mfrom\u001b[39;00m \u001b[38;5;21;01mrecur1\u001b[39;00m \u001b[38;5;28;01mimport\u001b[39;00m X\n\u001b[1;32m----> 2\u001b[0m \u001b[38;5;28;01mfrom\u001b[39;00m \u001b[38;5;21;01mrecur1\u001b[39;00m \u001b[38;5;28;01mimport\u001b[39;00m Y\n",
      "\u001b[1;31mImportError\u001b[0m: cannot import name 'Y' from partially initialized module 'recur1' (most likely due to a circular import) (C:\\code\\python-learn\\part5\\recur1.py)"
     ]
    }
   ],
   "source": [
    "import recur1"
   ]
  },
  {
   "cell_type": "code",
   "execution_count": 40,
   "id": "3205bdd3-3a62-45ee-92ba-ed99a2b3a4ce",
   "metadata": {},
   "outputs": [],
   "source": [
    "import recur2"
   ]
  },
  {
   "cell_type": "code",
   "execution_count": 41,
   "id": "89ebfdc2-f12d-40f4-b899-5972d6b93921",
   "metadata": {},
   "outputs": [],
   "source": [
    "!python recur1.py"
   ]
  },
  {
   "cell_type": "code",
   "execution_count": 42,
   "id": "7f7276a9-69e0-49fa-bd43-b37febd92285",
   "metadata": {},
   "outputs": [
    {
     "name": "stderr",
     "output_type": "stream",
     "text": [
      "Traceback (most recent call last):\n",
      "  File \"C:\\code\\python-learn\\part5\\recur2.py\", line 1, in <module>\n",
      "    from recur1 import X\n",
      "  File \"C:\\code\\python-learn\\part5\\recur1.py\", line 2, in <module>\n",
      "    import recur2\n",
      "  File \"C:\\code\\python-learn\\part5\\recur2.py\", line 2, in <module>\n",
      "    from recur1 import Y\n",
      "ImportError: cannot import name 'Y' from partially initialized module 'recur1' (most likely due to a circular import) (C:\\code\\python-learn\\part5\\recur1.py)\n"
     ]
    }
   ],
   "source": [
    "!python recur2.py"
   ]
  },
  {
   "cell_type": "code",
   "execution_count": null,
   "id": "c1926a21-c1ed-4a4c-b7cb-9914359c815e",
   "metadata": {},
   "outputs": [],
   "source": []
  },
  {
   "cell_type": "code",
   "execution_count": null,
   "id": "2543a5ea-d501-4ed2-bfec-cf9a55d628a9",
   "metadata": {},
   "outputs": [],
   "source": []
  }
 ],
 "metadata": {
  "kernelspec": {
   "display_name": "Python 3 (ipykernel)",
   "language": "python",
   "name": "python3"
  },
  "language_info": {
   "codemirror_mode": {
    "name": "ipython",
    "version": 3
   },
   "file_extension": ".py",
   "mimetype": "text/x-python",
   "name": "python",
   "nbconvert_exporter": "python",
   "pygments_lexer": "ipython3",
   "version": "3.10.11"
  }
 },
 "nbformat": 4,
 "nbformat_minor": 5
}
