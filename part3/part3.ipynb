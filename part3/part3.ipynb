{
 "cells": [
  {
   "cell_type": "markdown",
   "id": "288ebcb4-7308-4c38-b7af-7d075201a4a1",
   "metadata": {},
   "source": [
    "<h1>Ex. 1</h1>"
   ]
  },
  {
   "cell_type": "code",
   "execution_count": 2,
   "id": "f9a3f4a5-b9e8-4943-be72-4c796c2ae69d",
   "metadata": {},
   "outputs": [],
   "source": [
    "S = \"The quick brown fox jumps over the lazy dog.\""
   ]
  },
  {
   "cell_type": "code",
   "execution_count": 12,
   "id": "feea8747-113f-46e9-a37f-5e25a0d84a60",
   "metadata": {
    "scrolled": true
   },
   "outputs": [
    {
     "name": "stdout",
     "output_type": "stream",
     "text": [
      "84 104 101 32 113 117 105 99 107 32 98 114 111 119 110 32 102 111 120 32 106 117 109 112 115 32 111 118 101 114 32 116 104 101 32 108 97 122 121 32 100 111 103 46 "
     ]
    }
   ],
   "source": [
    "for c in S:\n",
    "    print(ord(c), end=' ')"
   ]
  },
  {
   "cell_type": "code",
   "execution_count": 5,
   "id": "d2967018-1533-49ac-802c-541bf5b866f2",
   "metadata": {},
   "outputs": [
    {
     "name": "stdout",
     "output_type": "stream",
     "text": [
      "4103\n"
     ]
    }
   ],
   "source": [
    "sum_ord = 0\n",
    "for c in S:\n",
    "    sum_ord +=ord(c)\n",
    "\n",
    "print(sum_ord)"
   ]
  },
  {
   "cell_type": "code",
   "execution_count": 7,
   "id": "cbcf1f78-fe3b-46ee-99e2-bb3020c51246",
   "metadata": {},
   "outputs": [
    {
     "name": "stdout",
     "output_type": "stream",
     "text": [
      "[84, 104, 101, 32, 113, 117, 105, 99, 107, 32, 98, 114, 111, 119, 110, 32, 102, 111, 120, 32, 106, 117, 109, 112, 115, 32, 111, 118, 101, 114, 32, 116, 104, 101, 32, 108, 97, 122, 121, 32, 100, 111, 103, 46]\n"
     ]
    }
   ],
   "source": [
    "ord_list = []\n",
    "for c in S:\n",
    "    ord_list.append(ord(c))\n",
    "\n",
    "print(ord_list)"
   ]
  },
  {
   "cell_type": "code",
   "execution_count": 8,
   "id": "b60ba956-2301-4950-9acc-22636d5e6d00",
   "metadata": {},
   "outputs": [
    {
     "name": "stdout",
     "output_type": "stream",
     "text": [
      "<map object at 0x00000179496FF940>\n"
     ]
    }
   ],
   "source": [
    "print(map(ord, S))"
   ]
  },
  {
   "cell_type": "code",
   "execution_count": 9,
   "id": "9d307482-07da-43a3-834b-714b6983e1da",
   "metadata": {},
   "outputs": [
    {
     "name": "stdout",
     "output_type": "stream",
     "text": [
      "[84, 104, 101, 32, 113, 117, 105, 99, 107, 32, 98, 114, 111, 119, 110, 32, 102, 111, 120, 32, 106, 117, 109, 112, 115, 32, 111, 118, 101, 114, 32, 116, 104, 101, 32, 108, 97, 122, 121, 32, 100, 111, 103, 46]\n"
     ]
    }
   ],
   "source": [
    "print(list(map(ord, S)))"
   ]
  },
  {
   "cell_type": "code",
   "execution_count": 10,
   "id": "75e35de4-864b-404d-9060-fcb8b1df9c25",
   "metadata": {},
   "outputs": [
    {
     "name": "stdout",
     "output_type": "stream",
     "text": [
      "[84, 104, 101, 32, 113, 117, 105, 99, 107, 32, 98, 114, 111, 119, 110, 32, 102, 111, 120, 32, 106, 117, 109, 112, 115, 32, 111, 118, 101, 114, 32, 116, 104, 101, 32, 108, 97, 122, 121, 32, 100, 111, 103, 46]\n"
     ]
    }
   ],
   "source": [
    "print([ord(c) for c in S])"
   ]
  },
  {
   "cell_type": "markdown",
   "id": "39c30405-5a11-45bf-95a9-e17daf4e17fb",
   "metadata": {},
   "source": [
    "<h1>Ex. 2</h1>"
   ]
  },
  {
   "cell_type": "code",
   "execution_count": 13,
   "id": "fa0f779f-428e-4b21-9214-ee74653e4200",
   "metadata": {
    "scrolled": true
   },
   "outputs": [
    {
     "name": "stdout",
     "output_type": "stream",
     "text": [
      "hello 0\n",
      "\u0007\n",
      "hello 1\n",
      "\u0007\n",
      "hello 2\n",
      "\u0007\n",
      "hello 3\n",
      "\u0007\n",
      "hello 4\n",
      "\u0007\n",
      "hello 5\n",
      "\u0007\n",
      "hello 6\n",
      "\u0007\n",
      "hello 7\n",
      "\u0007\n",
      "hello 8\n",
      "\u0007\n",
      "hello 9\n",
      "\u0007\n",
      "hello 10\n",
      "\u0007\n",
      "hello 11\n",
      "\u0007\n",
      "hello 12\n",
      "\u0007\n",
      "hello 13\n",
      "\u0007\n",
      "hello 14\n",
      "\u0007\n",
      "hello 15\n",
      "\u0007\n",
      "hello 16\n",
      "\u0007\n",
      "hello 17\n",
      "\u0007\n",
      "hello 18\n",
      "\u0007\n",
      "hello 19\n",
      "\u0007\n",
      "hello 20\n",
      "\u0007\n",
      "hello 21\n",
      "\u0007\n",
      "hello 22\n",
      "\u0007\n",
      "hello 23\n",
      "\u0007\n",
      "hello 24\n",
      "\u0007\n",
      "hello 25\n",
      "\u0007\n",
      "hello 26\n",
      "\u0007\n",
      "hello 27\n",
      "\u0007\n",
      "hello 28\n",
      "\u0007\n",
      "hello 29\n",
      "\u0007\n",
      "hello 30\n",
      "\u0007\n",
      "hello 31\n",
      "\u0007\n",
      "hello 32\n",
      "\u0007\n",
      "hello 33\n",
      "\u0007\n",
      "hello 34\n",
      "\u0007\n",
      "hello 35\n",
      "\u0007\n",
      "hello 36\n",
      "\u0007\n",
      "hello 37\n",
      "\u0007\n",
      "hello 38\n",
      "\u0007\n",
      "hello 39\n",
      "\u0007\n",
      "hello 40\n",
      "\u0007\n",
      "hello 41\n",
      "\u0007\n",
      "hello 42\n",
      "\u0007\n",
      "hello 43\n",
      "\u0007\n",
      "hello 44\n",
      "\u0007\n",
      "hello 45\n",
      "\u0007\n",
      "hello 46\n",
      "\u0007\n",
      "hello 47\n",
      "\u0007\n",
      "hello 48\n",
      "\u0007\n",
      "hello 49\n",
      "\u0007\n"
     ]
    }
   ],
   "source": [
    "for i in range(50):\n",
    "    print('hello %d\\n\\a' % i)"
   ]
  },
  {
   "cell_type": "markdown",
   "id": "9e07a691-0bd2-4407-ad98-9048b20ae351",
   "metadata": {},
   "source": [
    "<h1>Ex. 3</h1> "
   ]
  },
  {
   "cell_type": "code",
   "execution_count": 14,
   "id": "ae31ccfb-6f23-4a4b-b320-25b032bcd868",
   "metadata": {},
   "outputs": [],
   "source": [
    "D = {'a':5, 'x':3, 'c':2, '1':1}"
   ]
  },
  {
   "cell_type": "code",
   "execution_count": 15,
   "id": "c2268fb3-a988-4801-aee4-a67fc3d43454",
   "metadata": {},
   "outputs": [
    {
     "data": {
      "text/plain": [
       "{'a': 5, 'x': 3, 'c': 2, '1': 1}"
      ]
     },
     "execution_count": 15,
     "metadata": {},
     "output_type": "execute_result"
    }
   ],
   "source": [
    "D"
   ]
  },
  {
   "cell_type": "code",
   "execution_count": 27,
   "id": "539240ee-043d-49b5-a85e-44f5cbbf6f17",
   "metadata": {},
   "outputs": [
    {
     "name": "stdout",
     "output_type": "stream",
     "text": [
      "('1', 1)\n",
      "('a', 5)\n",
      "('c', 2)\n",
      "('x', 3)\n"
     ]
    }
   ],
   "source": [
    "sorted_keys = list(D.keys())\n",
    "sorted_keys.sort()\n",
    "for k in sorted_keys:\n",
    "    print((k, D[k]))"
   ]
  },
  {
   "cell_type": "code",
   "execution_count": 22,
   "id": "4c141b2d-9842-4d5a-8318-f130d23bc238",
   "metadata": {},
   "outputs": [
    {
     "name": "stdout",
     "output_type": "stream",
     "text": [
      "('1', 1)\n",
      "('a', 5)\n",
      "('c', 2)\n",
      "('x', 3)\n"
     ]
    }
   ],
   "source": [
    "for k in sorted(D):\n",
    "    print((k, D[k]))"
   ]
  },
  {
   "cell_type": "code",
   "execution_count": 30,
   "id": "bf191df8-9479-428f-b246-abcd37749322",
   "metadata": {},
   "outputs": [
    {
     "name": "stdout",
     "output_type": "stream",
     "text": [
      "('1', 1)\n",
      "('a', 5)\n",
      "('c', 2)\n",
      "('x', 3)\n"
     ]
    }
   ],
   "source": [
    "for item in sorted(D.items()):\n",
    "    print(item)"
   ]
  },
  {
   "cell_type": "code",
   "execution_count": 31,
   "id": "24bdbb1d-2b95-4ea2-a3c2-7be52b789921",
   "metadata": {},
   "outputs": [
    {
     "data": {
      "text/plain": [
       "{'a': 5, 'x': 3, 'c': 2, '1': 1}"
      ]
     },
     "execution_count": 31,
     "metadata": {},
     "output_type": "execute_result"
    }
   ],
   "source": [
    "D"
   ]
  },
  {
   "cell_type": "markdown",
   "id": "1faa1072-a2ac-4eff-991e-66b50f886279",
   "metadata": {},
   "source": [
    "<h1>Ex. 4</h1>"
   ]
  },
  {
   "cell_type": "code",
   "execution_count": 37,
   "id": "e021de2d-2e28-4380-b4ab-5ce52abf71b6",
   "metadata": {},
   "outputs": [
    {
     "name": "stdout",
     "output_type": "stream",
     "text": [
      "at index 5\n"
     ]
    }
   ],
   "source": [
    "L = [1, 2, 4, 8, 16, 32, 64]\n",
    "X = 5\n",
    "found = False\n",
    "i = 0\n",
    "\n",
    "while not found and i < len(L):\n",
    "    if 2 ** X == L[i]:\n",
    "        found = True\n",
    "    else:\n",
    "        i = i+1\n",
    "\n",
    "if found:\n",
    "    print('at index', i)\n",
    "else:\n",
    "    print(X, 'not found')"
   ]
  },
  {
   "cell_type": "markdown",
   "id": "7a3016ba-9641-4f2b-8141-cc2fcbd08c1d",
   "metadata": {},
   "source": [
    "<h2>a)</h2>"
   ]
  },
  {
   "cell_type": "code",
   "execution_count": 38,
   "id": "0c96a64c-9d42-45a0-8053-3357859b33b0",
   "metadata": {},
   "outputs": [
    {
     "name": "stdout",
     "output_type": "stream",
     "text": [
      "at index 5\n"
     ]
    }
   ],
   "source": [
    "L = [1, 2, 4, 8, 16, 32, 64]\n",
    "X = 5\n",
    "i = 0\n",
    "\n",
    "while i < len(L):\n",
    "    if 2 ** X == L[i]:\n",
    "        print('at index', i)\n",
    "        break\n",
    "    else:\n",
    "        i = i+1\n",
    "else:\n",
    "    print(X, 'not found')    "
   ]
  },
  {
   "cell_type": "markdown",
   "id": "5edddcbf-7db8-4d4b-b615-40821af229b9",
   "metadata": {},
   "source": [
    "<h2>b)</h2>"
   ]
  },
  {
   "cell_type": "code",
   "execution_count": 40,
   "id": "f1f56dc6-fa99-4854-b65d-48a2f83046f1",
   "metadata": {},
   "outputs": [
    {
     "name": "stdout",
     "output_type": "stream",
     "text": [
      "at index 5\n"
     ]
    }
   ],
   "source": [
    "L = [1, 2, 4, 8, 16, 32, 64]\n",
    "X = 5\n",
    "for val in L:\n",
    "    if 2 ** X == val:\n",
    "        print('at index', L.index(val))\n",
    "        break\n",
    "else:\n",
    "    print(X, 'not found')    "
   ]
  },
  {
   "cell_type": "markdown",
   "id": "e09bdde6-de3a-4f76-908b-1bd1d9450c2a",
   "metadata": {},
   "source": [
    "<h2>c)</h2>"
   ]
  },
  {
   "cell_type": "code",
   "execution_count": 54,
   "id": "6bca87a9-1d30-41a5-84f7-7708e64cf27b",
   "metadata": {},
   "outputs": [
    {
     "name": "stdout",
     "output_type": "stream",
     "text": [
      "at index 5\n"
     ]
    }
   ],
   "source": [
    "L = [1, 2, 4, 8, 16, 32, 64]\n",
    "X = 5\n",
    "\n",
    "if 2 ** X in L:\n",
    "    print('at index', L.index(2 ** X))    \n",
    "else:\n",
    "    print(X, 'not found')"
   ]
  },
  {
   "cell_type": "markdown",
   "id": "ae48bafa-060a-4185-b0b7-afbbb14e33eb",
   "metadata": {},
   "source": [
    "<h2>d)</h2>"
   ]
  },
  {
   "cell_type": "code",
   "execution_count": 45,
   "id": "47a688d1-ea3e-4550-8772-f04472c2b1d4",
   "metadata": {},
   "outputs": [
    {
     "data": {
      "text/plain": [
       "[1, 2, 4, 8, 16, 32, 64]"
      ]
     },
     "execution_count": 45,
     "metadata": {},
     "output_type": "execute_result"
    }
   ],
   "source": [
    "L = []\n",
    "for i in range(7):\n",
    "    L.append(2 ** i)\n",
    "L"
   ]
  },
  {
   "cell_type": "markdown",
   "id": "064edcf4-97eb-4951-9a4c-8d48cc9c6203",
   "metadata": {},
   "source": [
    "<h2>e)</h2>"
   ]
  },
  {
   "cell_type": "code",
   "execution_count": 46,
   "id": "ef10d32e-b875-4192-b6e6-f17094589775",
   "metadata": {},
   "outputs": [
    {
     "name": "stdout",
     "output_type": "stream",
     "text": [
      "at index 5\n"
     ]
    }
   ],
   "source": [
    "X = 5\n",
    "target = 2 ** X\n",
    "\n",
    "for val in L:\n",
    "    if target == val:\n",
    "        print('at index', L.index(val))\n",
    "        break\n",
    "else:\n",
    "    print(X, 'not found')    "
   ]
  },
  {
   "cell_type": "markdown",
   "id": "40204162-dc55-4734-a205-f992e47b6a2d",
   "metadata": {},
   "source": [
    "<h2>f)</h2>"
   ]
  },
  {
   "cell_type": "code",
   "execution_count": 51,
   "id": "9f4f9815-5ed4-4238-92ff-08ca461f260f",
   "metadata": {},
   "outputs": [
    {
     "data": {
      "text/plain": [
       "[1, 2, 4, 8, 16, 32, 64]"
      ]
     },
     "execution_count": 51,
     "metadata": {},
     "output_type": "execute_result"
    }
   ],
   "source": [
    "L = list(map(lambda x: 2 ** x, range(7)))\n",
    "L"
   ]
  },
  {
   "cell_type": "code",
   "execution_count": 52,
   "id": "9a1adc01-f172-4d7e-a945-39579922f5dc",
   "metadata": {},
   "outputs": [
    {
     "data": {
      "text/plain": [
       "[1, 2, 4, 8, 16, 32, 64]"
      ]
     },
     "execution_count": 52,
     "metadata": {},
     "output_type": "execute_result"
    }
   ],
   "source": [
    "L = [2 ** x for x in range(7)]\n",
    "L"
   ]
  },
  {
   "cell_type": "markdown",
   "id": "8fd63a98-8073-477c-b356-f4c1704d5080",
   "metadata": {},
   "source": [
    "<h1>Ex. 5</h1>"
   ]
  },
  {
   "cell_type": "code",
   "execution_count": 72,
   "id": "54f1e90c-6827-4e1f-8467-3277c41af9fa",
   "metadata": {},
   "outputs": [],
   "source": [
    "from importlib import reload\n",
    "import mymod\n",
    "mymod = reload(mymod)"
   ]
  },
  {
   "cell_type": "code",
   "execution_count": 73,
   "id": "e0fbfee3-83e2-40b8-aeb7-5b79e87fc4f9",
   "metadata": {},
   "outputs": [
    {
     "name": "stdout",
     "output_type": "stream",
     "text": [
      "Help on module mymod:\n",
      "\n",
      "NAME\n",
      "    mymod - this module contains a function that can tell if the required power of 2 is in the provided list.\n",
      "\n",
      "FUNCTIONS\n",
      "    get_power_index(X, L)\n",
      "        Calculates whether the required power of 2 is in the provided list.\n",
      "        X: power of 2\n",
      "        L: list of values\n",
      "        \n",
      "        For example: \n",
      "            get_power_index(2, [1, 2, 4, 8, 16])\n",
      "            at index 1\n",
      "        \n",
      "            get_power_index(10, [1, 2, 4, 8, 16])\n",
      "            10 not found\n",
      "\n",
      "FILE\n",
      "    c:\\code\\python-learn\\part3\\mymod.py\n",
      "\n",
      "\n"
     ]
    }
   ],
   "source": [
    "help(mymod)"
   ]
  },
  {
   "cell_type": "code",
   "execution_count": 74,
   "id": "1b9facb8-2793-491f-a461-0f59b2c06cd9",
   "metadata": {},
   "outputs": [
    {
     "name": "stdout",
     "output_type": "stream",
     "text": [
      "Help on function get_power_index in module mymod:\n",
      "\n",
      "get_power_index(X, L)\n",
      "    Calculates whether the required power of 2 is in the provided list.\n",
      "    X: power of 2\n",
      "    L: list of values\n",
      "    \n",
      "    For example: \n",
      "        get_power_index(2, [1, 2, 4, 8, 16])\n",
      "        at index 1\n",
      "    \n",
      "        get_power_index(10, [1, 2, 4, 8, 16])\n",
      "        10 not found\n",
      "\n"
     ]
    }
   ],
   "source": [
    "help(mymod.get_power_index)"
   ]
  },
  {
   "cell_type": "code",
   "execution_count": null,
   "id": "fba047a0-0cf0-4d38-82ee-b1e127d045f5",
   "metadata": {},
   "outputs": [],
   "source": []
  },
  {
   "cell_type": "code",
   "execution_count": null,
   "id": "11b13958-215f-4860-b7e9-61675420c23b",
   "metadata": {},
   "outputs": [],
   "source": [
    "-"
   ]
  }
 ],
 "metadata": {
  "kernelspec": {
   "display_name": "Python 3 (ipykernel)",
   "language": "python",
   "name": "python3"
  },
  "language_info": {
   "codemirror_mode": {
    "name": "ipython",
    "version": 3
   },
   "file_extension": ".py",
   "mimetype": "text/x-python",
   "name": "python",
   "nbconvert_exporter": "python",
   "pygments_lexer": "ipython3",
   "version": "3.10.11"
  }
 },
 "nbformat": 4,
 "nbformat_minor": 5
}
