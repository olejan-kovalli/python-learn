{
 "cells": [
  {
   "cell_type": "markdown",
   "id": "9f0f158c-a1d7-49f1-9405-984e7a4f88ba",
   "metadata": {},
   "source": [
    "<h1>Ex. 1</h1>"
   ]
  },
  {
   "cell_type": "code",
   "execution_count": 1,
   "id": "ddf01002-30fe-472f-858b-39b225fce748",
   "metadata": {},
   "outputs": [
    {
     "data": {
      "text/plain": [
       "65536"
      ]
     },
     "execution_count": 1,
     "metadata": {},
     "output_type": "execute_result"
    }
   ],
   "source": [
    "2**16"
   ]
  },
  {
   "cell_type": "code",
   "execution_count": 4,
   "id": "fb62c2bf-9711-441d-b3ab-ac02c21c7b32",
   "metadata": {},
   "outputs": [
    {
     "data": {
      "text/plain": [
       "(0.4, 0.4)"
      ]
     },
     "execution_count": 4,
     "metadata": {},
     "output_type": "execute_result"
    }
   ],
   "source": [
    "2 / 5, 2 / 5.0"
   ]
  },
  {
   "cell_type": "code",
   "execution_count": 5,
   "id": "b440ef1f-74e2-436c-9c89-e4844dc548a7",
   "metadata": {},
   "outputs": [
    {
     "data": {
      "text/plain": [
       "'spameggs'"
      ]
     },
     "execution_count": 5,
     "metadata": {},
     "output_type": "execute_result"
    }
   ],
   "source": [
    "\"spam\" + \"eggs\""
   ]
  },
  {
   "cell_type": "code",
   "execution_count": 6,
   "id": "898520c6-c718-4af6-a4a4-2aad3f8fc126",
   "metadata": {},
   "outputs": [],
   "source": [
    "S=\"ham\""
   ]
  },
  {
   "cell_type": "code",
   "execution_count": 7,
   "id": "829e3667-1b46-40e3-9a35-17198bb499dd",
   "metadata": {},
   "outputs": [
    {
     "data": {
      "text/plain": [
       "'eggsham'"
      ]
     },
     "execution_count": 7,
     "metadata": {},
     "output_type": "execute_result"
    }
   ],
   "source": [
    "\"eggs\" + S"
   ]
  },
  {
   "cell_type": "code",
   "execution_count": 8,
   "id": "edcf914e-ee6e-4246-a811-9b054f0d071e",
   "metadata": {},
   "outputs": [
    {
     "data": {
      "text/plain": [
       "'hamhamhamhamham'"
      ]
     },
     "execution_count": 8,
     "metadata": {},
     "output_type": "execute_result"
    }
   ],
   "source": [
    "S * 5"
   ]
  },
  {
   "cell_type": "code",
   "execution_count": 9,
   "id": "eb704ddf-22c3-45eb-9bab-342c3df6e796",
   "metadata": {},
   "outputs": [
    {
     "data": {
      "text/plain": [
       "''"
      ]
     },
     "execution_count": 9,
     "metadata": {},
     "output_type": "execute_result"
    }
   ],
   "source": [
    "S[:0]"
   ]
  },
  {
   "cell_type": "code",
   "execution_count": 10,
   "id": "17f049ad-8763-42d4-8aa9-eebd755077ba",
   "metadata": {},
   "outputs": [
    {
     "data": {
      "text/plain": [
       "'green eggs and ham'"
      ]
     },
     "execution_count": 10,
     "metadata": {},
     "output_type": "execute_result"
    }
   ],
   "source": [
    "\"green %s and %s\" % (\"eggs\", S)"
   ]
  },
  {
   "cell_type": "code",
   "execution_count": 11,
   "id": "8193bf47-f6a5-4892-9a89-909a508522ea",
   "metadata": {},
   "outputs": [
    {
     "data": {
      "text/plain": [
       "'green eggs and ham'"
      ]
     },
     "execution_count": 11,
     "metadata": {},
     "output_type": "execute_result"
    }
   ],
   "source": [
    "\"green {0} and {1}\".format(\"eggs\", S)"
   ]
  },
  {
   "cell_type": "code",
   "execution_count": 12,
   "id": "19388019-2874-495b-8b30-60423050e977",
   "metadata": {},
   "outputs": [
    {
     "data": {
      "text/plain": [
       "'x'"
      ]
     },
     "execution_count": 12,
     "metadata": {},
     "output_type": "execute_result"
    }
   ],
   "source": [
    "('x', )[0]"
   ]
  },
  {
   "cell_type": "code",
   "execution_count": 13,
   "id": "8dc23db0-ac93-4abd-bd10-4e928de39b2e",
   "metadata": {},
   "outputs": [
    {
     "data": {
      "text/plain": [
       "'y'"
      ]
     },
     "execution_count": 13,
     "metadata": {},
     "output_type": "execute_result"
    }
   ],
   "source": [
    "('x', 'y')[1]"
   ]
  },
  {
   "cell_type": "code",
   "execution_count": 14,
   "id": "df6ef2ca-2a75-48a7-b0fc-00a60499d0b8",
   "metadata": {},
   "outputs": [],
   "source": [
    "L = [1,2,3] + [4,5,6]"
   ]
  },
  {
   "cell_type": "code",
   "execution_count": 15,
   "id": "f46c802c-dafa-4f9b-b574-4198b1e0de00",
   "metadata": {},
   "outputs": [
    {
     "data": {
      "text/plain": [
       "([1, 2, 3, 4, 5, 6], [1, 2, 3, 4, 5, 6], [], 5, [5, 6])"
      ]
     },
     "execution_count": 15,
     "metadata": {},
     "output_type": "execute_result"
    }
   ],
   "source": [
    "L, L[:], L[:0], L[-2], L[-2:]"
   ]
  },
  {
   "cell_type": "code",
   "execution_count": 17,
   "id": "0b64e5ce-d414-4803-844d-0c8a84a985d3",
   "metadata": {},
   "outputs": [
    {
     "data": {
      "text/plain": [
       "[3, 4]"
      ]
     },
     "execution_count": 17,
     "metadata": {},
     "output_type": "execute_result"
    }
   ],
   "source": [
    "([1,2,3] + [4,5,6])[2:4]"
   ]
  },
  {
   "cell_type": "code",
   "execution_count": 18,
   "id": "22cea24c-5389-47d2-af70-3b8dea2d779b",
   "metadata": {},
   "outputs": [
    {
     "data": {
      "text/plain": [
       "[3, 4]"
      ]
     },
     "execution_count": 18,
     "metadata": {},
     "output_type": "execute_result"
    }
   ],
   "source": [
    "[L[2], L[3]]"
   ]
  },
  {
   "cell_type": "code",
   "execution_count": 19,
   "id": "61a0507a-3374-4b4d-96a5-42a5251c806f",
   "metadata": {},
   "outputs": [
    {
     "data": {
      "text/plain": [
       "[6, 5, 4, 3, 2, 1]"
      ]
     },
     "execution_count": 19,
     "metadata": {},
     "output_type": "execute_result"
    }
   ],
   "source": [
    "L.reverse(); L"
   ]
  },
  {
   "cell_type": "code",
   "execution_count": 20,
   "id": "da4274f7-9ae4-4b9c-99ab-78dc0e329d7a",
   "metadata": {},
   "outputs": [
    {
     "data": {
      "text/plain": [
       "[1, 2, 3, 4, 5, 6]"
      ]
     },
     "execution_count": 20,
     "metadata": {},
     "output_type": "execute_result"
    }
   ],
   "source": [
    "L.sort(); L"
   ]
  },
  {
   "cell_type": "code",
   "execution_count": 21,
   "id": "410932e1-e8a3-42df-ab24-ea6101f52337",
   "metadata": {},
   "outputs": [
    {
     "data": {
      "text/plain": [
       "3"
      ]
     },
     "execution_count": 21,
     "metadata": {},
     "output_type": "execute_result"
    }
   ],
   "source": [
    "L.index(4)"
   ]
  },
  {
   "cell_type": "code",
   "execution_count": 22,
   "id": "f2777fa2-7d6f-4ebb-8bf2-1ef5fd67414d",
   "metadata": {},
   "outputs": [
    {
     "data": {
      "text/plain": [
       "2"
      ]
     },
     "execution_count": 22,
     "metadata": {},
     "output_type": "execute_result"
    }
   ],
   "source": [
    "{'a':1, 'b':2}['b']"
   ]
  },
  {
   "cell_type": "code",
   "execution_count": 23,
   "id": "75d18a71-9647-42f8-976c-ab2474432404",
   "metadata": {},
   "outputs": [],
   "source": [
    "D = {'x':1, 'y':2, 'z':3}"
   ]
  },
  {
   "cell_type": "code",
   "execution_count": 25,
   "id": "3c5dd9f3-e60a-4fd0-b89f-44cfb79c70da",
   "metadata": {},
   "outputs": [],
   "source": [
    "D['w'] = 0"
   ]
  },
  {
   "cell_type": "code",
   "execution_count": 26,
   "id": "a48ccf93-842a-49d5-af36-141b6a1bb00e",
   "metadata": {},
   "outputs": [
    {
     "data": {
      "text/plain": [
       "1"
      ]
     },
     "execution_count": 26,
     "metadata": {},
     "output_type": "execute_result"
    }
   ],
   "source": [
    "D['x'] + D['w']"
   ]
  },
  {
   "cell_type": "code",
   "execution_count": 27,
   "id": "5845acae-b1c0-4179-9505-1c76bdef43d2",
   "metadata": {},
   "outputs": [],
   "source": [
    "D[(1,2,3)] = 4"
   ]
  },
  {
   "cell_type": "code",
   "execution_count": 28,
   "id": "3176fa13-f3b6-4594-9d9a-06ed3c53b6f2",
   "metadata": {},
   "outputs": [
    {
     "data": {
      "text/plain": [
       "(['x', 'y', 'z', 'w', (1, 2, 3)], [1, 2, 3, 0, 4], True)"
      ]
     },
     "execution_count": 28,
     "metadata": {},
     "output_type": "execute_result"
    }
   ],
   "source": [
    "list(D.keys()), list(D.values()), (1,2,3) in D"
   ]
  },
  {
   "cell_type": "code",
   "execution_count": 29,
   "id": "9387a973-c90d-4c23-ba02-5fbfe13b7469",
   "metadata": {},
   "outputs": [
    {
     "data": {
      "text/plain": [
       "([[]], ['', [], (), {}, None])"
      ]
     },
     "execution_count": 29,
     "metadata": {},
     "output_type": "execute_result"
    }
   ],
   "source": [
    "[[]], [\"\", [], (), {}, None]"
   ]
  },
  {
   "cell_type": "markdown",
   "id": "740528ea-446e-480d-bf5c-a21ec913e46f",
   "metadata": {},
   "source": [
    "<h1>Ex. 2</h1>"
   ]
  },
  {
   "cell_type": "code",
   "execution_count": 32,
   "id": "9948f3c5-c212-4d6f-8ad1-4effba123528",
   "metadata": {},
   "outputs": [],
   "source": [
    "L = [0, 1, 2, 3]"
   ]
  },
  {
   "cell_type": "code",
   "execution_count": 33,
   "id": "6c5ba765-b2ce-47b4-9ca2-1d0fffd1a8ef",
   "metadata": {},
   "outputs": [
    {
     "ename": "IndexError",
     "evalue": "list index out of range",
     "output_type": "error",
     "traceback": [
      "\u001b[1;31m---------------------------------------------------------------------------\u001b[0m",
      "\u001b[1;31mIndexError\u001b[0m                                Traceback (most recent call last)",
      "Cell \u001b[1;32mIn[33], line 1\u001b[0m\n\u001b[1;32m----> 1\u001b[0m \u001b[43mL\u001b[49m\u001b[43m[\u001b[49m\u001b[38;5;241;43m4\u001b[39;49m\u001b[43m]\u001b[49m\n",
      "\u001b[1;31mIndexError\u001b[0m: list index out of range"
     ]
    }
   ],
   "source": [
    "L[4]"
   ]
  },
  {
   "cell_type": "code",
   "execution_count": 34,
   "id": "00a41395-c725-4915-be54-2da2e1f5b812",
   "metadata": {},
   "outputs": [
    {
     "data": {
      "text/plain": [
       "[0, 1, 2, 3]"
      ]
     },
     "execution_count": 34,
     "metadata": {},
     "output_type": "execute_result"
    }
   ],
   "source": [
    "L[-1000:100]"
   ]
  },
  {
   "cell_type": "code",
   "execution_count": 35,
   "id": "f86fd3d0-52d4-4c8c-a4ad-a32a57565ae1",
   "metadata": {},
   "outputs": [
    {
     "data": {
      "text/plain": [
       "[]"
      ]
     },
     "execution_count": 35,
     "metadata": {},
     "output_type": "execute_result"
    }
   ],
   "source": [
    "L[3:1]"
   ]
  },
  {
   "cell_type": "code",
   "execution_count": 36,
   "id": "dfa1b7ae-d430-449d-98e6-b51c71686f1c",
   "metadata": {},
   "outputs": [],
   "source": [
    "L[3:1] = ['?']"
   ]
  },
  {
   "cell_type": "code",
   "execution_count": 37,
   "id": "1d51e6e1-aa11-44ab-b275-ae95ca337201",
   "metadata": {},
   "outputs": [
    {
     "data": {
      "text/plain": [
       "[0, 1, 2, '?', 3]"
      ]
     },
     "execution_count": 37,
     "metadata": {},
     "output_type": "execute_result"
    }
   ],
   "source": [
    "L"
   ]
  },
  {
   "cell_type": "markdown",
   "id": "59242973-43e9-4925-9372-6d868351bab0",
   "metadata": {},
   "source": [
    "<h1>Ex. 3</h1>"
   ]
  },
  {
   "cell_type": "code",
   "execution_count": 39,
   "id": "fccf22af-b234-416c-8b7d-180abe7f2da7",
   "metadata": {},
   "outputs": [],
   "source": [
    "L = ['a', 'b', 'c', 'd']"
   ]
  },
  {
   "cell_type": "code",
   "execution_count": 40,
   "id": "2cfbeb2e-a022-4ae7-af3b-aec544086a24",
   "metadata": {},
   "outputs": [],
   "source": [
    "L[2] = []"
   ]
  },
  {
   "cell_type": "code",
   "execution_count": 41,
   "id": "b106befb-7e92-4b27-922f-9ab15fc6be3b",
   "metadata": {},
   "outputs": [
    {
     "data": {
      "text/plain": [
       "['a', 'b', [], 'd']"
      ]
     },
     "execution_count": 41,
     "metadata": {},
     "output_type": "execute_result"
    }
   ],
   "source": [
    "L"
   ]
  },
  {
   "cell_type": "code",
   "execution_count": 42,
   "id": "b23530cc-2cc4-4bdb-88e4-f267c4c5eb2a",
   "metadata": {},
   "outputs": [],
   "source": [
    "L[2:3] = []"
   ]
  },
  {
   "cell_type": "code",
   "execution_count": 43,
   "id": "7af8414e-3650-41db-9c66-f0d6871ce302",
   "metadata": {},
   "outputs": [
    {
     "data": {
      "text/plain": [
       "['a', 'b', 'd']"
      ]
     },
     "execution_count": 43,
     "metadata": {},
     "output_type": "execute_result"
    }
   ],
   "source": [
    "L"
   ]
  },
  {
   "cell_type": "code",
   "execution_count": 44,
   "id": "49e9c07e-cee5-4499-91d9-b45428f0f3b9",
   "metadata": {},
   "outputs": [],
   "source": [
    "del L[0]"
   ]
  },
  {
   "cell_type": "code",
   "execution_count": 45,
   "id": "fdd96903-81eb-4b41-922f-a0134b03fae8",
   "metadata": {},
   "outputs": [
    {
     "data": {
      "text/plain": [
       "['b', 'd']"
      ]
     },
     "execution_count": 45,
     "metadata": {},
     "output_type": "execute_result"
    }
   ],
   "source": [
    "L"
   ]
  },
  {
   "cell_type": "code",
   "execution_count": 46,
   "id": "f13e866e-0db8-400c-b655-6184926ead77",
   "metadata": {},
   "outputs": [],
   "source": [
    "del L[1:]"
   ]
  },
  {
   "cell_type": "code",
   "execution_count": 47,
   "id": "81659d52-911d-4b96-abd7-e463386a19e3",
   "metadata": {},
   "outputs": [
    {
     "data": {
      "text/plain": [
       "['b']"
      ]
     },
     "execution_count": 47,
     "metadata": {},
     "output_type": "execute_result"
    }
   ],
   "source": [
    "L"
   ]
  },
  {
   "cell_type": "code",
   "execution_count": 48,
   "id": "3c244f17-fedc-4d06-821f-2e61f735b0e7",
   "metadata": {},
   "outputs": [
    {
     "ename": "TypeError",
     "evalue": "can only assign an iterable",
     "output_type": "error",
     "traceback": [
      "\u001b[1;31m---------------------------------------------------------------------------\u001b[0m",
      "\u001b[1;31mTypeError\u001b[0m                                 Traceback (most recent call last)",
      "Cell \u001b[1;32mIn[48], line 1\u001b[0m\n\u001b[1;32m----> 1\u001b[0m \u001b[43mL\u001b[49m\u001b[43m[\u001b[49m\u001b[38;5;241;43m1\u001b[39;49m\u001b[43m:\u001b[49m\u001b[38;5;241;43m2\u001b[39;49m\u001b[43m]\u001b[49m \u001b[38;5;241m=\u001b[39m \u001b[38;5;241m1\u001b[39m\n",
      "\u001b[1;31mTypeError\u001b[0m: can only assign an iterable"
     ]
    }
   ],
   "source": [
    "L[1:2] = 1"
   ]
  },
  {
   "cell_type": "markdown",
   "id": "456ef5dd-a76a-4021-80a5-7f14551a5937",
   "metadata": {},
   "source": [
    "<h1>Ex. 4</h1>"
   ]
  },
  {
   "cell_type": "code",
   "execution_count": 50,
   "id": "179c8c4b-3a10-41e4-b6e5-4a6a6b0e9183",
   "metadata": {},
   "outputs": [],
   "source": [
    "X = 'spam'"
   ]
  },
  {
   "cell_type": "code",
   "execution_count": 51,
   "id": "4b07d582-8f2c-4064-99df-50406a9bb8b9",
   "metadata": {},
   "outputs": [],
   "source": [
    "Y = 'eggs'"
   ]
  },
  {
   "cell_type": "code",
   "execution_count": 52,
   "id": "f399b7a0-35b3-4f73-b2cf-d7060ff8c755",
   "metadata": {},
   "outputs": [],
   "source": [
    "X, Y = Y, X"
   ]
  },
  {
   "cell_type": "markdown",
   "id": "d7a857f3-99fd-4b70-bd30-ea2eedc688ed",
   "metadata": {},
   "source": [
    " <h1>Ex. 5</h1>"
   ]
  },
  {
   "cell_type": "code",
   "execution_count": 55,
   "id": "15c4d663-65c2-4e32-95c6-6e11a172720a",
   "metadata": {},
   "outputs": [],
   "source": [
    "D = {}"
   ]
  },
  {
   "cell_type": "code",
   "execution_count": 56,
   "id": "a83b1963-5086-4782-97d5-cd1274d6e0c0",
   "metadata": {},
   "outputs": [],
   "source": [
    "D[1] = 'a'"
   ]
  },
  {
   "cell_type": "code",
   "execution_count": 57,
   "id": "0ea4cbf2-c060-434f-8e8d-340c013eae7a",
   "metadata": {},
   "outputs": [],
   "source": [
    "D[2] = 'b'"
   ]
  },
  {
   "cell_type": "code",
   "execution_count": 58,
   "id": "99eac320-b7e4-4f22-8139-ce6a46a28834",
   "metadata": {},
   "outputs": [],
   "source": [
    "D[(1,2,3)] = 'c'"
   ]
  },
  {
   "cell_type": "code",
   "execution_count": 59,
   "id": "3b39746f-01f1-4409-8df2-025a23a60cc2",
   "metadata": {},
   "outputs": [
    {
     "data": {
      "text/plain": [
       "{1: 'a', 2: 'b', (1, 2, 3): 'c'}"
      ]
     },
     "execution_count": 59,
     "metadata": {},
     "output_type": "execute_result"
    }
   ],
   "source": [
    "D"
   ]
  },
  {
   "cell_type": "markdown",
   "id": "f70a1035-a96d-4477-b6b1-1823e316298b",
   "metadata": {},
   "source": [
    "<h1>Ex. 6</h1>"
   ]
  },
  {
   "cell_type": "code",
   "execution_count": 61,
   "id": "ce09a2ed-ab69-49dc-a456-8806d8ebd64d",
   "metadata": {},
   "outputs": [],
   "source": [
    "D = {'a': 'aa', 'b': 'bb', 'c':'cc'}"
   ]
  },
  {
   "cell_type": "code",
   "execution_count": 62,
   "id": "3012aaf7-ee50-4e58-ad05-d7557ea21005",
   "metadata": {},
   "outputs": [
    {
     "ename": "KeyError",
     "evalue": "'d'",
     "output_type": "error",
     "traceback": [
      "\u001b[1;31m---------------------------------------------------------------------------\u001b[0m",
      "\u001b[1;31mKeyError\u001b[0m                                  Traceback (most recent call last)",
      "Cell \u001b[1;32mIn[62], line 1\u001b[0m\n\u001b[1;32m----> 1\u001b[0m \u001b[43mD\u001b[49m\u001b[43m[\u001b[49m\u001b[38;5;124;43m'\u001b[39;49m\u001b[38;5;124;43md\u001b[39;49m\u001b[38;5;124;43m'\u001b[39;49m\u001b[43m]\u001b[49m\n",
      "\u001b[1;31mKeyError\u001b[0m: 'd'"
     ]
    }
   ],
   "source": [
    "D['d']"
   ]
  },
  {
   "cell_type": "code",
   "execution_count": 64,
   "id": "99d5e93d-d4db-4ae0-ba73-f412e0aec873",
   "metadata": {},
   "outputs": [],
   "source": [
    "D['d'] = 'spam'"
   ]
  },
  {
   "cell_type": "markdown",
   "id": "5a735cf8-4784-4d86-81fe-c04e4f5da1b7",
   "metadata": {},
   "source": [
    "<h1>Ex. 7</h1>"
   ]
  },
  {
   "cell_type": "code",
   "execution_count": 66,
   "id": "47cab00e-1d0d-447d-a413-770efa2f2725",
   "metadata": {},
   "outputs": [
    {
     "ename": "TypeError",
     "evalue": "can only concatenate str (not \"list\") to str",
     "output_type": "error",
     "traceback": [
      "\u001b[1;31m---------------------------------------------------------------------------\u001b[0m",
      "\u001b[1;31mTypeError\u001b[0m                                 Traceback (most recent call last)",
      "Cell \u001b[1;32mIn[66], line 1\u001b[0m\n\u001b[1;32m----> 1\u001b[0m \u001b[38;5;124;43m'\u001b[39;49m\u001b[38;5;124;43ma\u001b[39;49m\u001b[38;5;124;43m'\u001b[39;49m\u001b[43m \u001b[49m\u001b[38;5;241;43m+\u001b[39;49m\u001b[43m \u001b[49m\u001b[43m[\u001b[49m\u001b[38;5;241;43m1\u001b[39;49m\u001b[43m]\u001b[49m\n",
      "\u001b[1;31mTypeError\u001b[0m: can only concatenate str (not \"list\") to str"
     ]
    }
   ],
   "source": [
    "'a' + [1]"
   ]
  },
  {
   "cell_type": "code",
   "execution_count": 67,
   "id": "400374de-8ce4-4f18-be66-41a0447ce728",
   "metadata": {},
   "outputs": [
    {
     "ename": "TypeError",
     "evalue": "can only concatenate list (not \"tuple\") to list",
     "output_type": "error",
     "traceback": [
      "\u001b[1;31m---------------------------------------------------------------------------\u001b[0m",
      "\u001b[1;31mTypeError\u001b[0m                                 Traceback (most recent call last)",
      "Cell \u001b[1;32mIn[67], line 1\u001b[0m\n\u001b[1;32m----> 1\u001b[0m \u001b[43m[\u001b[49m\u001b[38;5;241;43m1\u001b[39;49m\u001b[43m]\u001b[49m\u001b[43m \u001b[49m\u001b[38;5;241;43m+\u001b[39;49m\u001b[43m \u001b[49m\u001b[43m(\u001b[49m\u001b[38;5;241;43m2\u001b[39;49m\u001b[43m,\u001b[49m\u001b[38;5;241;43m3\u001b[39;49m\u001b[43m)\u001b[49m\n",
      "\u001b[1;31mTypeError\u001b[0m: can only concatenate list (not \"tuple\") to list"
     ]
    }
   ],
   "source": [
    "[1] + (2,3)"
   ]
  },
  {
   "cell_type": "code",
   "execution_count": 68,
   "id": "e0e91a81-5751-466e-99fb-c82f6de317ce",
   "metadata": {},
   "outputs": [
    {
     "ename": "TypeError",
     "evalue": "unsupported operand type(s) for +: 'dict' and 'dict'",
     "output_type": "error",
     "traceback": [
      "\u001b[1;31m---------------------------------------------------------------------------\u001b[0m",
      "\u001b[1;31mTypeError\u001b[0m                                 Traceback (most recent call last)",
      "Cell \u001b[1;32mIn[68], line 1\u001b[0m\n\u001b[1;32m----> 1\u001b[0m \u001b[43m{\u001b[49m\u001b[43m}\u001b[49m\u001b[43m \u001b[49m\u001b[38;5;241;43m+\u001b[39;49m\u001b[43m \u001b[49m\u001b[43m{\u001b[49m\u001b[43m}\u001b[49m\n",
      "\u001b[1;31mTypeError\u001b[0m: unsupported operand type(s) for +: 'dict' and 'dict'"
     ]
    }
   ],
   "source": [
    "{} + {}"
   ]
  },
  {
   "cell_type": "code",
   "execution_count": 69,
   "id": "b21f2f6a-1117-4e0b-abd0-503bfb3b1c93",
   "metadata": {},
   "outputs": [],
   "source": [
    "[].append(1)"
   ]
  },
  {
   "cell_type": "code",
   "execution_count": 70,
   "id": "ce0206be-cad8-4041-aaa9-6343b02f4371",
   "metadata": {},
   "outputs": [
    {
     "ename": "AttributeError",
     "evalue": "'str' object has no attribute 'append'",
     "output_type": "error",
     "traceback": [
      "\u001b[1;31m---------------------------------------------------------------------------\u001b[0m",
      "\u001b[1;31mAttributeError\u001b[0m                            Traceback (most recent call last)",
      "Cell \u001b[1;32mIn[70], line 1\u001b[0m\n\u001b[1;32m----> 1\u001b[0m \u001b[38;5;124;43m'\u001b[39;49m\u001b[38;5;124;43m'\u001b[39;49m\u001b[38;5;241;43m.\u001b[39;49m\u001b[43mappend\u001b[49m(\u001b[38;5;124m'\u001b[39m\u001b[38;5;124ma\u001b[39m\u001b[38;5;124m'\u001b[39m)\n",
      "\u001b[1;31mAttributeError\u001b[0m: 'str' object has no attribute 'append'"
     ]
    }
   ],
   "source": [
    "''.append('a')"
   ]
  },
  {
   "cell_type": "code",
   "execution_count": 71,
   "id": "6f20f370-ddbb-4aea-b7c4-8a409dc5e24c",
   "metadata": {},
   "outputs": [
    {
     "ename": "AttributeError",
     "evalue": "'list' object has no attribute 'keys'",
     "output_type": "error",
     "traceback": [
      "\u001b[1;31m---------------------------------------------------------------------------\u001b[0m",
      "\u001b[1;31mAttributeError\u001b[0m                            Traceback (most recent call last)",
      "Cell \u001b[1;32mIn[71], line 1\u001b[0m\n\u001b[1;32m----> 1\u001b[0m \u001b[43m[\u001b[49m\u001b[43m]\u001b[49m\u001b[38;5;241;43m.\u001b[39;49m\u001b[43mkeys\u001b[49m()\n",
      "\u001b[1;31mAttributeError\u001b[0m: 'list' object has no attribute 'keys'"
     ]
    }
   ],
   "source": [
    "[].keys()"
   ]
  },
  {
   "cell_type": "code",
   "execution_count": 72,
   "id": "55276f32-6245-4ff7-a210-78fdc08258c4",
   "metadata": {},
   "outputs": [
    {
     "data": {
      "text/plain": [
       "str"
      ]
     },
     "execution_count": 72,
     "metadata": {},
     "output_type": "execute_result"
    }
   ],
   "source": [
    "type('abcd'[1:3])"
   ]
  },
  {
   "cell_type": "code",
   "execution_count": 73,
   "id": "17446589-76e2-48b8-8e6a-ea787e9dc167",
   "metadata": {},
   "outputs": [
    {
     "data": {
      "text/plain": [
       "str"
      ]
     },
     "execution_count": 73,
     "metadata": {},
     "output_type": "execute_result"
    }
   ],
   "source": [
    "type('abc' + 'def')"
   ]
  },
  {
   "cell_type": "code",
   "execution_count": 74,
   "id": "a2973aa8-aaa9-4de7-9d3b-e07066e8ae51",
   "metadata": {},
   "outputs": [
    {
     "data": {
      "text/plain": [
       "list"
      ]
     },
     "execution_count": 74,
     "metadata": {},
     "output_type": "execute_result"
    }
   ],
   "source": [
    "type([1,2,3,4][1:3])"
   ]
  },
  {
   "cell_type": "code",
   "execution_count": 75,
   "id": "09e1c38b-5c49-4e15-9cf1-fa672a5cc33d",
   "metadata": {},
   "outputs": [
    {
     "data": {
      "text/plain": [
       "list"
      ]
     },
     "execution_count": 75,
     "metadata": {},
     "output_type": "execute_result"
    }
   ],
   "source": [
    "type([1,2,3] + [4, 5, 6])"
   ]
  },
  {
   "cell_type": "markdown",
   "id": "5dab5522-821c-479d-acaa-563dd448f837",
   "metadata": {},
   "source": [
    "<h1>Ex. 8</h1>"
   ]
  },
  {
   "cell_type": "code",
   "execution_count": 77,
   "id": "ecaf80af-7e81-4506-b343-2a0432aec88d",
   "metadata": {},
   "outputs": [],
   "source": [
    "S = 'spam'"
   ]
  },
  {
   "cell_type": "code",
   "execution_count": 78,
   "id": "3b11a729-97be-4e89-8172-5a8238dba571",
   "metadata": {},
   "outputs": [
    {
     "data": {
      "text/plain": [
       "'s'"
      ]
     },
     "execution_count": 78,
     "metadata": {},
     "output_type": "execute_result"
    }
   ],
   "source": [
    "S[0][0][0][0][0]"
   ]
  },
  {
   "cell_type": "code",
   "execution_count": 79,
   "id": "81027e18-a13c-47e4-8ca9-71171fdff424",
   "metadata": {},
   "outputs": [],
   "source": [
    "S = ['s', 'p', 'a', 'm']"
   ]
  },
  {
   "cell_type": "code",
   "execution_count": 80,
   "id": "3898d044-1d39-4417-83dc-9d05a37cdd68",
   "metadata": {},
   "outputs": [
    {
     "data": {
      "text/plain": [
       "'s'"
      ]
     },
     "execution_count": 80,
     "metadata": {},
     "output_type": "execute_result"
    }
   ],
   "source": [
    "S[0][0][0][0][0]"
   ]
  },
  {
   "cell_type": "markdown",
   "id": "981103f4-8a70-4897-bcd2-45630c4befcf",
   "metadata": {},
   "source": [
    "<h1>Ex. 9</h1>"
   ]
  },
  {
   "cell_type": "code",
   "execution_count": 82,
   "id": "772f8b60-53a5-4533-86de-800a2ba7a4a4",
   "metadata": {},
   "outputs": [],
   "source": [
    "S = 'spam'"
   ]
  },
  {
   "cell_type": "code",
   "execution_count": 83,
   "id": "fe41d553-1596-4bc3-b0d7-6c188fc49b1f",
   "metadata": {},
   "outputs": [],
   "source": [
    "S = S[:1] + 'l' + S[2:]"
   ]
  },
  {
   "cell_type": "code",
   "execution_count": 84,
   "id": "3deb607c-9eb5-4690-8027-a9e5169461d4",
   "metadata": {},
   "outputs": [
    {
     "data": {
      "text/plain": [
       "'slam'"
      ]
     },
     "execution_count": 84,
     "metadata": {},
     "output_type": "execute_result"
    }
   ],
   "source": [
    "S"
   ]
  },
  {
   "cell_type": "code",
   "execution_count": 87,
   "id": "ffdccd04-dc45-40cb-9a44-06950eb2ab6f",
   "metadata": {},
   "outputs": [],
   "source": [
    "S = 'spam'"
   ]
  },
  {
   "cell_type": "code",
   "execution_count": 88,
   "id": "fcf6693a-7f0a-4ecf-b5d1-94ba738deea1",
   "metadata": {},
   "outputs": [],
   "source": [
    "S = S[0] + 'l' + S[2] + S[3]"
   ]
  },
  {
   "cell_type": "code",
   "execution_count": 89,
   "id": "81eada82-6035-43e3-a677-20020fb00683",
   "metadata": {},
   "outputs": [
    {
     "data": {
      "text/plain": [
       "'slam'"
      ]
     },
     "execution_count": 89,
     "metadata": {},
     "output_type": "execute_result"
    }
   ],
   "source": [
    "S"
   ]
  },
  {
   "cell_type": "code",
   "execution_count": 90,
   "id": "9bae0ae7-be66-403a-bd9e-53d9423000e3",
   "metadata": {},
   "outputs": [],
   "source": [
    "S = 'spam'"
   ]
  },
  {
   "cell_type": "code",
   "execution_count": 91,
   "id": "8972e5bb-a7a0-49af-bd99-b290940c3408",
   "metadata": {},
   "outputs": [
    {
     "ename": "TypeError",
     "evalue": "'str' object does not support item assignment",
     "output_type": "error",
     "traceback": [
      "\u001b[1;31m---------------------------------------------------------------------------\u001b[0m",
      "\u001b[1;31mTypeError\u001b[0m                                 Traceback (most recent call last)",
      "Cell \u001b[1;32mIn[91], line 1\u001b[0m\n\u001b[1;32m----> 1\u001b[0m \u001b[43mS\u001b[49m\u001b[43m[\u001b[49m\u001b[38;5;241;43m1\u001b[39;49m\u001b[43m]\u001b[49m \u001b[38;5;241m=\u001b[39m \u001b[38;5;124m'\u001b[39m\u001b[38;5;124ml\u001b[39m\u001b[38;5;124m'\u001b[39m\n",
      "\u001b[1;31mTypeError\u001b[0m: 'str' object does not support item assignment"
     ]
    }
   ],
   "source": [
    "S[1] = 'l'"
   ]
  },
  {
   "cell_type": "markdown",
   "id": "81c61514-b756-4865-8783-3abc18bf5c4b",
   "metadata": {},
   "source": [
    "<h1>Ex. 10</h2>"
   ]
  },
  {
   "cell_type": "code",
   "execution_count": 99,
   "id": "fe68609f-be19-4d30-866e-407026fbf63c",
   "metadata": {},
   "outputs": [],
   "source": [
    "D = {\n",
    "    'name': ('Ковалевский', 'Олег', 'Валерьевич'),\n",
    "    'age': 38,\n",
    "    'place of work': 'Aramco',\n",
    "    'address': ('Москва', 'Мичуринский проспект', '1/2', '1234a'),\n",
    "    'email': 'kovalevskiol@mail.ru', \n",
    "    'mobile': 79000000000\n",
    "}"
   ]
  },
  {
   "cell_type": "code",
   "execution_count": 100,
   "id": "3b14928e-e7c6-4ce7-8870-fa082b7a141f",
   "metadata": {},
   "outputs": [
    {
     "data": {
      "text/plain": [
       "{'name': ('Ковалевский', 'Олег', 'Валерьевич'),\n",
       " 'age': 38,\n",
       " 'place of work': 'Aramco',\n",
       " 'address': ('Москва', 'Мичуринский проспект', '1/2', '1234a'),\n",
       " 'email': 'kovalevskiol@mail.ru',\n",
       " 'mobile': 79000000000}"
      ]
     },
     "execution_count": 100,
     "metadata": {},
     "output_type": "execute_result"
    }
   ],
   "source": [
    "D"
   ]
  },
  {
   "cell_type": "markdown",
   "id": "f96054fe-b92f-4573-9608-2a88b2296b32",
   "metadata": {},
   "source": [
    "<h1>Ex. 11</h1>"
   ]
  },
  {
   "cell_type": "code",
   "execution_count": 103,
   "id": "71a8f960-e9f5-4b03-88cc-bdb6c8fd5ba9",
   "metadata": {},
   "outputs": [],
   "source": [
    "with open(r'C:\\code\\python-learn\\part2\\myfile.txt', 'w') as f:\n",
    "    f.write('Hello file world!')"
   ]
  },
  {
   "cell_type": "code",
   "execution_count": 104,
   "id": "f777cbc1-fa9e-4e71-b353-f47b6788aa89",
   "metadata": {},
   "outputs": [
    {
     "name": "stdout",
     "output_type": "stream",
     "text": [
      "Hello file world!\n"
     ]
    }
   ],
   "source": [
    "with open(r'C:\\code\\python-learn\\part2\\myfile.txt') as f:\n",
    "    print(f.read())"
   ]
  },
  {
   "cell_type": "code",
   "execution_count": null,
   "id": "91905772-eb2f-4430-9357-4c5e608e8c65",
   "metadata": {},
   "outputs": [],
   "source": []
  }
 ],
 "metadata": {
  "kernelspec": {
   "display_name": "Python 3 (ipykernel)",
   "language": "python",
   "name": "python3"
  },
  "language_info": {
   "codemirror_mode": {
    "name": "ipython",
    "version": 3
   },
   "file_extension": ".py",
   "mimetype": "text/x-python",
   "name": "python",
   "nbconvert_exporter": "python",
   "pygments_lexer": "ipython3",
   "version": "3.10.11"
  }
 },
 "nbformat": 4,
 "nbformat_minor": 5
}
