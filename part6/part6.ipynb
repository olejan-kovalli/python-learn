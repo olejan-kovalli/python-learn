{
 "cells": [
  {
   "cell_type": "markdown",
   "id": "088a3ac5",
   "metadata": {},
   "source": [
    "<h1>Ex. 1</h1>"
   ]
  },
  {
   "cell_type": "code",
   "execution_count": 1,
   "id": "9db48b6b",
   "metadata": {},
   "outputs": [],
   "source": [
    "class Adder:\n",
    "    def __init__(self, data):\n",
    "        self.data = data\n",
    "        \n",
    "    def add(self, x, y):\n",
    "        print('Not Implemented')\n",
    "    \n",
    "    def __add__(self, other):\n",
    "        return self.add(self.data, other)"
   ]
  },
  {
   "cell_type": "code",
   "execution_count": 2,
   "id": "90510827",
   "metadata": {},
   "outputs": [],
   "source": [
    "from typing import List, Dict"
   ]
  },
  {
   "cell_type": "code",
   "execution_count": 3,
   "id": "6e1c9e59",
   "metadata": {},
   "outputs": [],
   "source": [
    "class ListAdder(Adder):      \n",
    "    def add(self, x: List, y: List):\n",
    "        return x + y"
   ]
  },
  {
   "cell_type": "code",
   "execution_count": 4,
   "id": "7da2b170",
   "metadata": {},
   "outputs": [],
   "source": [
    "class DictAdder(Adder):\n",
    "    def add(self, x: Dict, y: Dict):\n",
    "        z = x.copy()\n",
    "        z.update(y)\n",
    "        return z"
   ]
  },
  {
   "cell_type": "code",
   "execution_count": 5,
   "id": "2e1bcd07",
   "metadata": {},
   "outputs": [],
   "source": [
    "ad = Adder(None)"
   ]
  },
  {
   "cell_type": "code",
   "execution_count": 6,
   "id": "cb091aa6",
   "metadata": {},
   "outputs": [
    {
     "name": "stdout",
     "output_type": "stream",
     "text": [
      "Not Implemented\n"
     ]
    }
   ],
   "source": [
    "ad.add(1,2)"
   ]
  },
  {
   "cell_type": "code",
   "execution_count": 7,
   "id": "3e626242",
   "metadata": {},
   "outputs": [],
   "source": [
    "la = ListAdder([1,2,3])"
   ]
  },
  {
   "cell_type": "code",
   "execution_count": 8,
   "id": "eccdb011",
   "metadata": {},
   "outputs": [
    {
     "data": {
      "text/plain": [
       "[1, 2, 3]"
      ]
     },
     "execution_count": 8,
     "metadata": {},
     "output_type": "execute_result"
    }
   ],
   "source": [
    "la.data"
   ]
  },
  {
   "cell_type": "code",
   "execution_count": null,
   "id": "b90da9ff",
   "metadata": {},
   "outputs": [],
   "source": []
  },
  {
   "cell_type": "code",
   "execution_count": 9,
   "id": "5a208fc8",
   "metadata": {},
   "outputs": [
    {
     "data": {
      "text/plain": [
       "[1, 2]"
      ]
     },
     "execution_count": 9,
     "metadata": {},
     "output_type": "execute_result"
    }
   ],
   "source": [
    "la.add([1], [2])"
   ]
  },
  {
   "cell_type": "code",
   "execution_count": 10,
   "id": "ca3943a8",
   "metadata": {},
   "outputs": [
    {
     "data": {
      "text/plain": [
       "[1, 2, 3, 4, 5, 6]"
      ]
     },
     "execution_count": 10,
     "metadata": {},
     "output_type": "execute_result"
    }
   ],
   "source": [
    "la + [4,5,6]"
   ]
  },
  {
   "cell_type": "code",
   "execution_count": 11,
   "id": "535f3c93",
   "metadata": {},
   "outputs": [],
   "source": [
    "da = DictAdder({'c':3})"
   ]
  },
  {
   "cell_type": "code",
   "execution_count": 12,
   "id": "8927639e",
   "metadata": {},
   "outputs": [
    {
     "data": {
      "text/plain": [
       "{'a': 1, 'b': 2}"
      ]
     },
     "execution_count": 12,
     "metadata": {},
     "output_type": "execute_result"
    }
   ],
   "source": [
    "da.add({'a':1}, {'b':2})"
   ]
  },
  {
   "cell_type": "code",
   "execution_count": 13,
   "id": "6aeb3312",
   "metadata": {},
   "outputs": [
    {
     "data": {
      "text/plain": [
       "{'c': 3, 'd': 123}"
      ]
     },
     "execution_count": 13,
     "metadata": {},
     "output_type": "execute_result"
    }
   ],
   "source": [
    "da + {'d':123}"
   ]
  },
  {
   "cell_type": "code",
   "execution_count": null,
   "id": "afc702ae",
   "metadata": {},
   "outputs": [],
   "source": []
  },
  {
   "cell_type": "markdown",
   "id": "a26865ee",
   "metadata": {},
   "source": [
    "<h1>Ex. 2</h1>"
   ]
  },
  {
   "cell_type": "code",
   "execution_count": 14,
   "id": "fcd34baa",
   "metadata": {},
   "outputs": [],
   "source": [
    "class MyList():\n",
    "    def __init__(self, data: List):\n",
    "        self.data = list(data)\n",
    "    \n",
    "    def __getitem__(self, index):\n",
    "        return self.data[index]\n",
    "        \n",
    "    def __add__(self, other: List):\n",
    "        return self.data + other\n",
    "\n",
    "    def append(self, item):\n",
    "        self.data.append(item)\n",
    "    \n",
    "    def __repr__(self):\n",
    "        return self.data.__repr__()"
   ]
  },
  {
   "cell_type": "code",
   "execution_count": 15,
   "id": "7666d397",
   "metadata": {},
   "outputs": [],
   "source": [
    "x = MyList([1,2,3])"
   ]
  },
  {
   "cell_type": "code",
   "execution_count": 16,
   "id": "ae4907c6",
   "metadata": {},
   "outputs": [
    {
     "data": {
      "text/plain": [
       "[1, 2, 3, 4, 5]"
      ]
     },
     "execution_count": 16,
     "metadata": {},
     "output_type": "execute_result"
    }
   ],
   "source": [
    "x + [4,5]"
   ]
  },
  {
   "cell_type": "code",
   "execution_count": 17,
   "id": "7232c4b4",
   "metadata": {},
   "outputs": [
    {
     "data": {
      "text/plain": [
       "2"
      ]
     },
     "execution_count": 17,
     "metadata": {},
     "output_type": "execute_result"
    }
   ],
   "source": [
    "x[1]"
   ]
  },
  {
   "cell_type": "code",
   "execution_count": 18,
   "id": "514162d7",
   "metadata": {},
   "outputs": [
    {
     "data": {
      "text/plain": [
       "[1, 2, 3]"
      ]
     },
     "execution_count": 18,
     "metadata": {},
     "output_type": "execute_result"
    }
   ],
   "source": [
    "x[:]"
   ]
  },
  {
   "cell_type": "code",
   "execution_count": 19,
   "id": "972b8955",
   "metadata": {},
   "outputs": [
    {
     "name": "stdout",
     "output_type": "stream",
     "text": [
      "1\n",
      "2\n",
      "3\n"
     ]
    }
   ],
   "source": [
    "for item in x:\n",
    "    print(item)"
   ]
  },
  {
   "cell_type": "code",
   "execution_count": 20,
   "id": "87ef64b7",
   "metadata": {},
   "outputs": [],
   "source": [
    "x.append(10)"
   ]
  },
  {
   "cell_type": "code",
   "execution_count": 21,
   "id": "320c94a3",
   "metadata": {},
   "outputs": [
    {
     "data": {
      "text/plain": [
       "[1, 2, 3, 10]"
      ]
     },
     "execution_count": 21,
     "metadata": {},
     "output_type": "execute_result"
    }
   ],
   "source": [
    "x"
   ]
  },
  {
   "cell_type": "code",
   "execution_count": 22,
   "id": "b38ed5e8",
   "metadata": {},
   "outputs": [
    {
     "data": {
      "text/plain": [
       "['1', '2', '3', '4']"
      ]
     },
     "execution_count": 22,
     "metadata": {},
     "output_type": "execute_result"
    }
   ],
   "source": [
    "MyList('1234')"
   ]
  },
  {
   "cell_type": "code",
   "execution_count": 23,
   "id": "5d51aa74",
   "metadata": {},
   "outputs": [
    {
     "data": {
      "text/plain": [
       "['1', '2', '3', '4']"
      ]
     },
     "execution_count": 23,
     "metadata": {},
     "output_type": "execute_result"
    }
   ],
   "source": [
    "list('1234')"
   ]
  },
  {
   "cell_type": "code",
   "execution_count": 128,
   "id": "1dcb7c43",
   "metadata": {},
   "outputs": [],
   "source": [
    "class MyList():\n",
    "    def __init__(self, data):\n",
    "        self.data = list(data)\n",
    "        \n",
    "    def __add__(self, other):\n",
    "        return self.data + other.data\n",
    "        \n",
    "    def __getattr__(self, name):\n",
    "        return getattr(self.data, name)\n",
    "    \n",
    "    def __repr__(self):\n",
    "        return self.data.__repr__()"
   ]
  },
  {
   "cell_type": "code",
   "execution_count": 129,
   "id": "7a4a174c",
   "metadata": {},
   "outputs": [],
   "source": [
    "y = MyList('123')"
   ]
  },
  {
   "cell_type": "code",
   "execution_count": 130,
   "id": "fdba8568",
   "metadata": {},
   "outputs": [
    {
     "name": "stdout",
     "output_type": "stream",
     "text": [
      "['1', '2', '3']\n"
     ]
    }
   ],
   "source": [
    "print(y)"
   ]
  },
  {
   "cell_type": "code",
   "execution_count": 131,
   "id": "70d40562",
   "metadata": {},
   "outputs": [],
   "source": [
    "y.append(1)"
   ]
  },
  {
   "cell_type": "code",
   "execution_count": 132,
   "id": "f5f13adc",
   "metadata": {},
   "outputs": [
    {
     "name": "stdout",
     "output_type": "stream",
     "text": [
      "['1', '2', '3', 1]\n"
     ]
    }
   ],
   "source": [
    "print(y)"
   ]
  },
  {
   "cell_type": "markdown",
   "id": "ff6a4a06",
   "metadata": {},
   "source": [
    "<h1>Ex. 3</h1>"
   ]
  },
  {
   "cell_type": "code",
   "execution_count": 133,
   "id": "d5c1a314",
   "metadata": {},
   "outputs": [],
   "source": [
    "class MySubList(MyList):\n",
    "    num_adds = 0\n",
    "    \n",
    "    def __init__(self, data):\n",
    "        MyList.__init__(self, data)\n",
    "        self.num_adds = 0\n",
    "    \n",
    "    def __add__(self, other):\n",
    "        print('adding # %s' % self.num_adds)\n",
    "        self.num_adds += 1\n",
    "        MySubList.num_adds += 1\n",
    "        return MyList.__add__(self, other)\n",
    "    \n",
    "    def get_adds(self):\n",
    "        return self.num_adds\n",
    "    \n",
    "    def get_total_adds():\n",
    "        return MySubList.num_adds"
   ]
  },
  {
   "cell_type": "code",
   "execution_count": 134,
   "id": "5ef81524",
   "metadata": {},
   "outputs": [],
   "source": [
    "x = MySubList([1,2,3])"
   ]
  },
  {
   "cell_type": "code",
   "execution_count": 135,
   "id": "8447abea",
   "metadata": {},
   "outputs": [
    {
     "data": {
      "text/plain": [
       "[1, 2, 3]"
      ]
     },
     "execution_count": 135,
     "metadata": {},
     "output_type": "execute_result"
    }
   ],
   "source": [
    "x"
   ]
  },
  {
   "cell_type": "code",
   "execution_count": 147,
   "id": "8265b2bd",
   "metadata": {},
   "outputs": [],
   "source": [
    "y = MySubList([1])"
   ]
  },
  {
   "cell_type": "code",
   "execution_count": 140,
   "id": "eb2d2fbf",
   "metadata": {},
   "outputs": [
    {
     "name": "stdout",
     "output_type": "stream",
     "text": [
      "adding # 1\n"
     ]
    },
    {
     "data": {
      "text/plain": [
       "[1, 2, 3, 1]"
      ]
     },
     "execution_count": 140,
     "metadata": {},
     "output_type": "execute_result"
    }
   ],
   "source": [
    "x + y"
   ]
  },
  {
   "cell_type": "code",
   "execution_count": 145,
   "id": "9ba201c1",
   "metadata": {},
   "outputs": [
    {
     "data": {
      "text/plain": [
       "2"
      ]
     },
     "execution_count": 145,
     "metadata": {},
     "output_type": "execute_result"
    }
   ],
   "source": [
    "x.get_adds()"
   ]
  },
  {
   "cell_type": "code",
   "execution_count": 144,
   "id": "dd6ac6a2",
   "metadata": {},
   "outputs": [
    {
     "data": {
      "text/plain": [
       "3"
      ]
     },
     "execution_count": 144,
     "metadata": {},
     "output_type": "execute_result"
    }
   ],
   "source": [
    "MySubList.get_total_adds()"
   ]
  },
  {
   "cell_type": "code",
   "execution_count": 148,
   "id": "28b0618c",
   "metadata": {},
   "outputs": [
    {
     "name": "stdout",
     "output_type": "stream",
     "text": [
      "adding # 0\n"
     ]
    },
    {
     "data": {
      "text/plain": [
       "[1, 1, 2, 3]"
      ]
     },
     "execution_count": 148,
     "metadata": {},
     "output_type": "execute_result"
    }
   ],
   "source": [
    "y + x"
   ]
  },
  {
   "cell_type": "code",
   "execution_count": 149,
   "id": "9fcbc65d",
   "metadata": {},
   "outputs": [
    {
     "data": {
      "text/plain": [
       "1"
      ]
     },
     "execution_count": 149,
     "metadata": {},
     "output_type": "execute_result"
    }
   ],
   "source": [
    "y.get_adds()"
   ]
  },
  {
   "cell_type": "code",
   "execution_count": null,
   "id": "b02f8083",
   "metadata": {},
   "outputs": [],
   "source": []
  }
 ],
 "metadata": {
  "kernelspec": {
   "display_name": "Python 3 (ipykernel)",
   "language": "python",
   "name": "python3"
  },
  "language_info": {
   "codemirror_mode": {
    "name": "ipython",
    "version": 3
   },
   "file_extension": ".py",
   "mimetype": "text/x-python",
   "name": "python",
   "nbconvert_exporter": "python",
   "pygments_lexer": "ipython3",
   "version": "3.10.5"
  }
 },
 "nbformat": 4,
 "nbformat_minor": 5
}
