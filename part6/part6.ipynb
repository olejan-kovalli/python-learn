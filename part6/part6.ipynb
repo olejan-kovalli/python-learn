{
 "cells": [
  {
   "cell_type": "markdown",
   "id": "088a3ac5",
   "metadata": {},
   "source": [
    "<h1>Ex. 1</h1>"
   ]
  },
  {
   "cell_type": "code",
   "execution_count": 1,
   "id": "9db48b6b",
   "metadata": {},
   "outputs": [],
   "source": [
    "class Adder:\n",
    "    def __init__(self, data):\n",
    "        self.data = data\n",
    "        \n",
    "    def add(self, x, y):\n",
    "        print('Not Implemented')\n",
    "    \n",
    "    def __add__(self, other):\n",
    "        return self.add(self.data, other)"
   ]
  },
  {
   "cell_type": "code",
   "execution_count": 2,
   "id": "90510827",
   "metadata": {},
   "outputs": [],
   "source": [
    "from typing import List, Dict"
   ]
  },
  {
   "cell_type": "code",
   "execution_count": 3,
   "id": "6e1c9e59",
   "metadata": {},
   "outputs": [],
   "source": [
    "class ListAdder(Adder):      \n",
    "    def add(self, x: List, y: List):\n",
    "        return x + y"
   ]
  },
  {
   "cell_type": "code",
   "execution_count": 4,
   "id": "7da2b170",
   "metadata": {},
   "outputs": [],
   "source": [
    "class DictAdder(Adder):\n",
    "    def add(self, x: Dict, y: Dict):\n",
    "        z = x.copy()\n",
    "        z.update(y)\n",
    "        return z"
   ]
  },
  {
   "cell_type": "code",
   "execution_count": 5,
   "id": "2e1bcd07",
   "metadata": {},
   "outputs": [],
   "source": [
    "ad = Adder(None)"
   ]
  },
  {
   "cell_type": "code",
   "execution_count": 6,
   "id": "cb091aa6",
   "metadata": {},
   "outputs": [
    {
     "name": "stdout",
     "output_type": "stream",
     "text": [
      "Not Implemented\n"
     ]
    }
   ],
   "source": [
    "ad.add(1,2)"
   ]
  },
  {
   "cell_type": "code",
   "execution_count": 7,
   "id": "3e626242",
   "metadata": {},
   "outputs": [],
   "source": [
    "la = ListAdder([1,2,3])"
   ]
  },
  {
   "cell_type": "code",
   "execution_count": 8,
   "id": "eccdb011",
   "metadata": {},
   "outputs": [
    {
     "data": {
      "text/plain": [
       "[1, 2, 3]"
      ]
     },
     "execution_count": 8,
     "metadata": {},
     "output_type": "execute_result"
    }
   ],
   "source": [
    "la.data"
   ]
  },
  {
   "cell_type": "code",
   "execution_count": null,
   "id": "b90da9ff",
   "metadata": {},
   "outputs": [],
   "source": []
  },
  {
   "cell_type": "code",
   "execution_count": 9,
   "id": "5a208fc8",
   "metadata": {},
   "outputs": [
    {
     "data": {
      "text/plain": [
       "[1, 2]"
      ]
     },
     "execution_count": 9,
     "metadata": {},
     "output_type": "execute_result"
    }
   ],
   "source": [
    "la.add([1], [2])"
   ]
  },
  {
   "cell_type": "code",
   "execution_count": 10,
   "id": "ca3943a8",
   "metadata": {},
   "outputs": [
    {
     "data": {
      "text/plain": [
       "[1, 2, 3, 4, 5, 6]"
      ]
     },
     "execution_count": 10,
     "metadata": {},
     "output_type": "execute_result"
    }
   ],
   "source": [
    "la + [4,5,6]"
   ]
  },
  {
   "cell_type": "code",
   "execution_count": 11,
   "id": "535f3c93",
   "metadata": {},
   "outputs": [],
   "source": [
    "da = DictAdder({'c':3})"
   ]
  },
  {
   "cell_type": "code",
   "execution_count": 12,
   "id": "8927639e",
   "metadata": {},
   "outputs": [
    {
     "data": {
      "text/plain": [
       "{'a': 1, 'b': 2}"
      ]
     },
     "execution_count": 12,
     "metadata": {},
     "output_type": "execute_result"
    }
   ],
   "source": [
    "da.add({'a':1}, {'b':2})"
   ]
  },
  {
   "cell_type": "code",
   "execution_count": 13,
   "id": "6aeb3312",
   "metadata": {},
   "outputs": [
    {
     "data": {
      "text/plain": [
       "{'c': 3, 'd': 123}"
      ]
     },
     "execution_count": 13,
     "metadata": {},
     "output_type": "execute_result"
    }
   ],
   "source": [
    "da + {'d':123}"
   ]
  },
  {
   "cell_type": "code",
   "execution_count": null,
   "id": "afc702ae",
   "metadata": {},
   "outputs": [],
   "source": []
  },
  {
   "cell_type": "markdown",
   "id": "a26865ee",
   "metadata": {},
   "source": [
    "<h1>Ex. 2</h1>"
   ]
  },
  {
   "cell_type": "code",
   "execution_count": 14,
   "id": "fcd34baa",
   "metadata": {},
   "outputs": [],
   "source": [
    "class MyList():\n",
    "    def __init__(self, data: List):\n",
    "        self.data = list(data)\n",
    "    \n",
    "    def __getitem__(self, index):\n",
    "        return self.data[index]\n",
    "        \n",
    "    def __add__(self, other: List):\n",
    "        return self.data + other\n",
    "\n",
    "    def append(self, item):\n",
    "        self.data.append(item)\n",
    "    \n",
    "    def __repr__(self):\n",
    "        return self.data.__repr__()"
   ]
  },
  {
   "cell_type": "code",
   "execution_count": 15,
   "id": "7666d397",
   "metadata": {},
   "outputs": [],
   "source": [
    "x = MyList([1,2,3])"
   ]
  },
  {
   "cell_type": "code",
   "execution_count": 16,
   "id": "ae4907c6",
   "metadata": {},
   "outputs": [
    {
     "data": {
      "text/plain": [
       "[1, 2, 3, 4, 5]"
      ]
     },
     "execution_count": 16,
     "metadata": {},
     "output_type": "execute_result"
    }
   ],
   "source": [
    "x + [4,5]"
   ]
  },
  {
   "cell_type": "code",
   "execution_count": 17,
   "id": "7232c4b4",
   "metadata": {},
   "outputs": [
    {
     "data": {
      "text/plain": [
       "2"
      ]
     },
     "execution_count": 17,
     "metadata": {},
     "output_type": "execute_result"
    }
   ],
   "source": [
    "x[1]"
   ]
  },
  {
   "cell_type": "code",
   "execution_count": 18,
   "id": "514162d7",
   "metadata": {},
   "outputs": [
    {
     "data": {
      "text/plain": [
       "[1, 2, 3]"
      ]
     },
     "execution_count": 18,
     "metadata": {},
     "output_type": "execute_result"
    }
   ],
   "source": [
    "x[:]"
   ]
  },
  {
   "cell_type": "code",
   "execution_count": 19,
   "id": "972b8955",
   "metadata": {},
   "outputs": [
    {
     "name": "stdout",
     "output_type": "stream",
     "text": [
      "1\n",
      "2\n",
      "3\n"
     ]
    }
   ],
   "source": [
    "for item in x:\n",
    "    print(item)"
   ]
  },
  {
   "cell_type": "code",
   "execution_count": 20,
   "id": "87ef64b7",
   "metadata": {},
   "outputs": [],
   "source": [
    "x.append(10)"
   ]
  },
  {
   "cell_type": "code",
   "execution_count": 21,
   "id": "320c94a3",
   "metadata": {},
   "outputs": [
    {
     "data": {
      "text/plain": [
       "[1, 2, 3, 10]"
      ]
     },
     "execution_count": 21,
     "metadata": {},
     "output_type": "execute_result"
    }
   ],
   "source": [
    "x"
   ]
  },
  {
   "cell_type": "code",
   "execution_count": 22,
   "id": "b38ed5e8",
   "metadata": {},
   "outputs": [
    {
     "data": {
      "text/plain": [
       "['1', '2', '3', '4']"
      ]
     },
     "execution_count": 22,
     "metadata": {},
     "output_type": "execute_result"
    }
   ],
   "source": [
    "MyList('1234')"
   ]
  },
  {
   "cell_type": "code",
   "execution_count": 23,
   "id": "5d51aa74",
   "metadata": {},
   "outputs": [
    {
     "data": {
      "text/plain": [
       "['1', '2', '3', '4']"
      ]
     },
     "execution_count": 23,
     "metadata": {},
     "output_type": "execute_result"
    }
   ],
   "source": [
    "list('1234')"
   ]
  },
  {
   "cell_type": "code",
   "execution_count": 128,
   "id": "1dcb7c43",
   "metadata": {},
   "outputs": [],
   "source": [
    "class MyList():\n",
    "    def __init__(self, data):\n",
    "        self.data = list(data)\n",
    "        \n",
    "    def __add__(self, other):\n",
    "        return self.data + other.data\n",
    "        \n",
    "    def __getattr__(self, name):\n",
    "        return getattr(self.data, name)\n",
    "    \n",
    "    def __repr__(self):\n",
    "        return self.data.__repr__()"
   ]
  },
  {
   "cell_type": "code",
   "execution_count": 129,
   "id": "7a4a174c",
   "metadata": {},
   "outputs": [],
   "source": [
    "y = MyList('123')"
   ]
  },
  {
   "cell_type": "code",
   "execution_count": 130,
   "id": "fdba8568",
   "metadata": {},
   "outputs": [
    {
     "name": "stdout",
     "output_type": "stream",
     "text": [
      "['1', '2', '3']\n"
     ]
    }
   ],
   "source": [
    "print(y)"
   ]
  },
  {
   "cell_type": "code",
   "execution_count": 131,
   "id": "70d40562",
   "metadata": {},
   "outputs": [],
   "source": [
    "y.append(1)"
   ]
  },
  {
   "cell_type": "code",
   "execution_count": 132,
   "id": "f5f13adc",
   "metadata": {},
   "outputs": [
    {
     "name": "stdout",
     "output_type": "stream",
     "text": [
      "['1', '2', '3', 1]\n"
     ]
    }
   ],
   "source": [
    "print(y)"
   ]
  },
  {
   "cell_type": "markdown",
   "id": "ff6a4a06",
   "metadata": {},
   "source": [
    "<h1>Ex. 3</h1>"
   ]
  },
  {
   "cell_type": "code",
   "execution_count": 133,
   "id": "d5c1a314",
   "metadata": {},
   "outputs": [],
   "source": [
    "class MySubList(MyList):\n",
    "    num_adds = 0\n",
    "    \n",
    "    def __init__(self, data):\n",
    "        MyList.__init__(self, data)\n",
    "        self.num_adds = 0\n",
    "    \n",
    "    def __add__(self, other):\n",
    "        print('adding # %s' % self.num_adds)\n",
    "        self.num_adds += 1\n",
    "        MySubList.num_adds += 1\n",
    "        return MyList.__add__(self, other)\n",
    "    \n",
    "    def get_adds(self):\n",
    "        return self.num_adds\n",
    "    \n",
    "    def get_total_adds():\n",
    "        return MySubList.num_adds"
   ]
  },
  {
   "cell_type": "code",
   "execution_count": 134,
   "id": "5ef81524",
   "metadata": {},
   "outputs": [],
   "source": [
    "x = MySubList([1,2,3])"
   ]
  },
  {
   "cell_type": "code",
   "execution_count": 135,
   "id": "8447abea",
   "metadata": {},
   "outputs": [
    {
     "data": {
      "text/plain": [
       "[1, 2, 3]"
      ]
     },
     "execution_count": 135,
     "metadata": {},
     "output_type": "execute_result"
    }
   ],
   "source": [
    "x"
   ]
  },
  {
   "cell_type": "code",
   "execution_count": 147,
   "id": "8265b2bd",
   "metadata": {},
   "outputs": [],
   "source": [
    "y = MySubList([1])"
   ]
  },
  {
   "cell_type": "code",
   "execution_count": 140,
   "id": "eb2d2fbf",
   "metadata": {},
   "outputs": [
    {
     "name": "stdout",
     "output_type": "stream",
     "text": [
      "adding # 1\n"
     ]
    },
    {
     "data": {
      "text/plain": [
       "[1, 2, 3, 1]"
      ]
     },
     "execution_count": 140,
     "metadata": {},
     "output_type": "execute_result"
    }
   ],
   "source": [
    "x + y"
   ]
  },
  {
   "cell_type": "code",
   "execution_count": 145,
   "id": "9ba201c1",
   "metadata": {},
   "outputs": [
    {
     "data": {
      "text/plain": [
       "2"
      ]
     },
     "execution_count": 145,
     "metadata": {},
     "output_type": "execute_result"
    }
   ],
   "source": [
    "x.get_adds()"
   ]
  },
  {
   "cell_type": "code",
   "execution_count": 144,
   "id": "dd6ac6a2",
   "metadata": {},
   "outputs": [
    {
     "data": {
      "text/plain": [
       "3"
      ]
     },
     "execution_count": 144,
     "metadata": {},
     "output_type": "execute_result"
    }
   ],
   "source": [
    "MySubList.get_total_adds()"
   ]
  },
  {
   "cell_type": "code",
   "execution_count": 148,
   "id": "28b0618c",
   "metadata": {},
   "outputs": [
    {
     "name": "stdout",
     "output_type": "stream",
     "text": [
      "adding # 0\n"
     ]
    },
    {
     "data": {
      "text/plain": [
       "[1, 1, 2, 3]"
      ]
     },
     "execution_count": 148,
     "metadata": {},
     "output_type": "execute_result"
    }
   ],
   "source": [
    "y + x"
   ]
  },
  {
   "cell_type": "code",
   "execution_count": 149,
   "id": "9fcbc65d",
   "metadata": {},
   "outputs": [
    {
     "data": {
      "text/plain": [
       "1"
      ]
     },
     "execution_count": 149,
     "metadata": {},
     "output_type": "execute_result"
    }
   ],
   "source": [
    "y.get_adds()"
   ]
  },
  {
   "cell_type": "markdown",
   "id": "b9a6763d",
   "metadata": {},
   "source": [
    "<h1>Ex. 4</h1>"
   ]
  },
  {
   "cell_type": "code",
   "execution_count": 10,
   "id": "08cab673",
   "metadata": {},
   "outputs": [],
   "source": [
    "class Attrs:\n",
    "    def __init__(self):\n",
    "        self.a = 1\n",
    "        \n",
    "    def __getattr__(self, name):\n",
    "        print('gettting ', name)\n",
    "    \n",
    "    def __setattr__(self, name, *args, **kwargs):\n",
    "        print('setting ', name, args, kwargs)"
   ]
  },
  {
   "cell_type": "code",
   "execution_count": 11,
   "id": "f800feda",
   "metadata": {},
   "outputs": [
    {
     "name": "stdout",
     "output_type": "stream",
     "text": [
      "setting  a (1,) {}\n"
     ]
    }
   ],
   "source": [
    "x = Attrs()"
   ]
  },
  {
   "cell_type": "code",
   "execution_count": 13,
   "id": "9890625c",
   "metadata": {},
   "outputs": [
    {
     "ename": "TypeError",
     "evalue": "'Attrs' object is not subscriptable",
     "output_type": "error",
     "traceback": [
      "\u001b[1;31m---------------------------------------------------------------------------\u001b[0m",
      "\u001b[1;31mTypeError\u001b[0m                                 Traceback (most recent call last)",
      "Input \u001b[1;32mIn [13]\u001b[0m, in \u001b[0;36m<cell line: 1>\u001b[1;34m()\u001b[0m\n\u001b[1;32m----> 1\u001b[0m \u001b[43mx\u001b[49m\u001b[43m[\u001b[49m\u001b[38;5;241;43m1\u001b[39;49m\u001b[43m]\u001b[49m\n",
      "\u001b[1;31mTypeError\u001b[0m: 'Attrs' object is not subscriptable"
     ]
    }
   ],
   "source": [
    "x[1]"
   ]
  },
  {
   "cell_type": "markdown",
   "id": "a840601e",
   "metadata": {},
   "source": [
    "<h1>Ex. 5</h1>"
   ]
  },
  {
   "cell_type": "code",
   "execution_count": 58,
   "id": "a676c1a9",
   "metadata": {},
   "outputs": [],
   "source": [
    "class Set:\n",
    "    def __init__(self, value = []):\n",
    "        self.data = []\n",
    "        self.concat(value)\n",
    "    \n",
    "    def intersect(self, other):\n",
    "        res = []\n",
    "        for x in self.data:\n",
    "            if x in other:\n",
    "                res.append(x)\n",
    "        return Set(res)\n",
    "    \n",
    "    def union(self, other):\n",
    "        res = self.data[:]\n",
    "        for x in other:\n",
    "            if x not in res:\n",
    "                res.append(x)\n",
    "        return Set(res)\n",
    "        \n",
    "    def concat(self, value):\n",
    "        for x in value:\n",
    "            if not x in self.data:\n",
    "                self.data.append(x)\n",
    "    \n",
    "    def __len__(self):\n",
    "        return len(self.data)\n",
    "    \n",
    "    def __getitem__(self, key): \n",
    "        return self.data[key]\n",
    "    \n",
    "    def __and__(self, other):\n",
    "        return self.intersect(other)\n",
    "    \n",
    "    def __or__(self, other):\n",
    "        return self.union(other)\n",
    "    \n",
    "    def __repr__(self):\n",
    "        return 'Set:' + repr(self.data)\n",
    "    \n",
    "    def __iter__(self):\n",
    "        return iter(self.data)"
   ]
  },
  {
   "cell_type": "code",
   "execution_count": 70,
   "id": "871a2fbc",
   "metadata": {},
   "outputs": [],
   "source": [
    "s1 = Set([1,2,3,4])\n",
    "#__init__"
   ]
  },
  {
   "cell_type": "code",
   "execution_count": 60,
   "id": "5432022a",
   "metadata": {},
   "outputs": [],
   "source": [
    "s2 = Set([3,4,5,6])"
   ]
  },
  {
   "cell_type": "code",
   "execution_count": 68,
   "id": "864543df",
   "metadata": {},
   "outputs": [
    {
     "data": {
      "text/plain": [
       "Set:[3, 4]"
      ]
     },
     "execution_count": 68,
     "metadata": {},
     "output_type": "execute_result"
    }
   ],
   "source": [
    "s1 & s2\n",
    "#__and__"
   ]
  },
  {
   "cell_type": "code",
   "execution_count": 69,
   "id": "f08641c4",
   "metadata": {},
   "outputs": [
    {
     "data": {
      "text/plain": [
       "Set:[1, 2, 3, 4, 5, 6]"
      ]
     },
     "execution_count": 69,
     "metadata": {},
     "output_type": "execute_result"
    }
   ],
   "source": [
    "s1 | s2\n",
    "#__or__"
   ]
  },
  {
   "cell_type": "code",
   "execution_count": 65,
   "id": "0eae8bae",
   "metadata": {},
   "outputs": [],
   "source": [
    "s = Set('hello')"
   ]
  },
  {
   "cell_type": "code",
   "execution_count": 66,
   "id": "abc30443",
   "metadata": {},
   "outputs": [
    {
     "data": {
      "text/plain": [
       "Set:['h', 'e', 'l', 'o']"
      ]
     },
     "execution_count": 66,
     "metadata": {},
     "output_type": "execute_result"
    }
   ],
   "source": [
    "s"
   ]
  },
  {
   "cell_type": "code",
   "execution_count": 67,
   "id": "fd433589",
   "metadata": {},
   "outputs": [
    {
     "data": {
      "text/plain": [
       "'e'"
      ]
     },
     "execution_count": 67,
     "metadata": {},
     "output_type": "execute_result"
    }
   ],
   "source": [
    "s[1]\n",
    "#__getitem__"
   ]
  },
  {
   "cell_type": "code",
   "execution_count": 71,
   "id": "613068b4",
   "metadata": {},
   "outputs": [
    {
     "name": "stdout",
     "output_type": "stream",
     "text": [
      "h\n",
      "e\n",
      "l\n",
      "o\n"
     ]
    }
   ],
   "source": [
    "for x in s:\n",
    "    print(x)"
   ]
  },
  {
   "cell_type": "code",
   "execution_count": 72,
   "id": "c7d0fe6b",
   "metadata": {},
   "outputs": [],
   "source": [
    "#__iter__"
   ]
  },
  {
   "cell_type": "code",
   "execution_count": 73,
   "id": "798b7e72",
   "metadata": {},
   "outputs": [
    {
     "data": {
      "text/plain": [
       "Set:[]"
      ]
     },
     "execution_count": 73,
     "metadata": {},
     "output_type": "execute_result"
    }
   ],
   "source": [
    "s & '123'"
   ]
  },
  {
   "cell_type": "code",
   "execution_count": 76,
   "id": "af64f643",
   "metadata": {},
   "outputs": [
    {
     "data": {
      "text/plain": [
       "Set:['h', 'e', 'l']"
      ]
     },
     "execution_count": 76,
     "metadata": {},
     "output_type": "execute_result"
    }
   ],
   "source": [
    "s & 'hell'"
   ]
  },
  {
   "cell_type": "code",
   "execution_count": 98,
   "id": "dfd42108",
   "metadata": {},
   "outputs": [],
   "source": [
    "class MultiSet(Set):\n",
    "    def intersect(self, *others):\n",
    "        res = []\n",
    "        for x in self:\n",
    "            for other in others:\n",
    "                if x not in other:\n",
    "                    break\n",
    "            else:\n",
    "                res.append(x)\n",
    "        return Set(res)\n",
    "    \n",
    "    def union(*args):\n",
    "        res = []\n",
    "        for seq in args:\n",
    "            for x in seq:\n",
    "                if not x in res:\n",
    "                    res.append(x)\n",
    "        return Set(res)        "
   ]
  },
  {
   "cell_type": "code",
   "execution_count": 99,
   "id": "559d2709",
   "metadata": {},
   "outputs": [],
   "source": [
    "x = MultiSet([1,2,3,4,5])"
   ]
  },
  {
   "cell_type": "code",
   "execution_count": 100,
   "id": "be4ff0da",
   "metadata": {},
   "outputs": [
    {
     "data": {
      "text/plain": [
       "Set:[1]"
      ]
     },
     "execution_count": 100,
     "metadata": {},
     "output_type": "execute_result"
    }
   ],
   "source": [
    "x.intersect([1,3], [1,4], [1,5])"
   ]
  },
  {
   "cell_type": "code",
   "execution_count": 101,
   "id": "41c33489",
   "metadata": {},
   "outputs": [
    {
     "data": {
      "text/plain": [
       "Set:[1, 2, 3, 4, 5, 10, 11, 12]"
      ]
     },
     "execution_count": 101,
     "metadata": {},
     "output_type": "execute_result"
    }
   ],
   "source": [
    "x.union([10,3], [11,4], [12,5])"
   ]
  },
  {
   "cell_type": "markdown",
   "id": "a19dbbe5",
   "metadata": {},
   "source": [
    "<h1>Ex. 6</h1>"
   ]
  },
  {
   "cell_type": "code",
   "execution_count": 72,
   "id": "f4b28402",
   "metadata": {},
   "outputs": [],
   "source": [
    "class ListInstance:\n",
    "    def __attrnames(self):\n",
    "        result = ''\n",
    "        for attr in sorted(self.__dict__):\n",
    "            result += '\\t%s=%s\\n' % (attr, self.__dict__[attr])\n",
    "        return result\n",
    "    \n",
    "    def __supers(self):\n",
    "        return ', '.join(s.__name__ for s in self.__class__.__bases__) \n",
    "        \n",
    "    def __str__(self):\n",
    "        return \"<Instance of %s(%s), address %s: \\n%s>\" % (\n",
    "            self.__class__.__name__ , \n",
    "            self.__supers(),\n",
    "            id(self),\n",
    "            self.__attrnames())"
   ]
  },
  {
   "cell_type": "code",
   "execution_count": 73,
   "id": "b61c3408",
   "metadata": {},
   "outputs": [],
   "source": [
    "x = ListInstance()"
   ]
  },
  {
   "cell_type": "code",
   "execution_count": 74,
   "id": "c291a714",
   "metadata": {},
   "outputs": [
    {
     "name": "stdout",
     "output_type": "stream",
     "text": [
      "<Instance of ListInstance(object), address 2925353603456: \n",
      ">\n"
     ]
    }
   ],
   "source": [
    "print(x)"
   ]
  },
  {
   "cell_type": "code",
   "execution_count": 75,
   "id": "33c3fa8c",
   "metadata": {},
   "outputs": [],
   "source": [
    "class A:\n",
    "    pass"
   ]
  },
  {
   "cell_type": "code",
   "execution_count": 76,
   "id": "1a494c56",
   "metadata": {},
   "outputs": [],
   "source": [
    "class SubLister(A, ListInstance):\n",
    "    pass\n",
    "    \"\"\"\n",
    "    def __supers(self):\n",
    "        return ', '.join(s.__name__ for s in self.__class__.__bases__) \n",
    "        \n",
    "    def __str__(self):\n",
    "        \n",
    "        return \"<Instance of %s(%s), address %s: \\n%s>\" % (\n",
    "            SubLister.__name__ , \n",
    "            self.__supers(),\n",
    "            id(self),\n",
    "            self._ListInstance__attrnames())\n",
    "    \"\"\""
   ]
  },
  {
   "cell_type": "code",
   "execution_count": 77,
   "id": "3c07a9b0",
   "metadata": {},
   "outputs": [],
   "source": [
    "x = SubLister()"
   ]
  },
  {
   "cell_type": "code",
   "execution_count": 78,
   "id": "80d37fd7",
   "metadata": {},
   "outputs": [],
   "source": [
    "x.b = 2"
   ]
  },
  {
   "cell_type": "code",
   "execution_count": 79,
   "id": "3482426e",
   "metadata": {},
   "outputs": [
    {
     "name": "stdout",
     "output_type": "stream",
     "text": [
      "<Instance of SubLister(A, ListInstance), address 2925349481840: \n",
      "\tb=2\n",
      ">\n"
     ]
    }
   ],
   "source": [
    "print(x)"
   ]
  },
  {
   "cell_type": "markdown",
   "id": "040f62c0",
   "metadata": {},
   "source": [
    "<h1>Ex. 7</h1>"
   ]
  },
  {
   "cell_type": "code",
   "execution_count": 100,
   "id": "2d17c779",
   "metadata": {},
   "outputs": [],
   "source": [
    "class Lunch:\n",
    "    def __init__(self):\n",
    "        self.customer = Customer()\n",
    "        self.employee = Employee()\n",
    "        \n",
    "    def order(self, foodName):\n",
    "        self.customer.placeOrder(foodName, self.employee)\n",
    "    \n",
    "    def result(self):\n",
    "        self.customer.printFood()\n",
    "    \n",
    "class Customer:\n",
    "    def __init__(self):\n",
    "        self.food = None\n",
    "    \n",
    "    def placeOrder(self, foodName, employee):\n",
    "        self.food = employee.takeOrder(foodName)\n",
    "    \n",
    "    def printFood(self):\n",
    "        print(self.food.name)\n",
    "    \n",
    "class Employee:\n",
    "    def takeOrder(self, foodName):\n",
    "        return Food(foodName)\n",
    "    \n",
    "class Food:\n",
    "    def __init__(self, name):\n",
    "        self.name = name"
   ]
  },
  {
   "cell_type": "code",
   "execution_count": 101,
   "id": "baf1c647",
   "metadata": {},
   "outputs": [],
   "source": [
    "x = Lunch()"
   ]
  },
  {
   "cell_type": "code",
   "execution_count": 102,
   "id": "3bd2cdb4",
   "metadata": {},
   "outputs": [],
   "source": [
    "x.order('Soup')"
   ]
  },
  {
   "cell_type": "code",
   "execution_count": 103,
   "id": "dc573079",
   "metadata": {},
   "outputs": [
    {
     "name": "stdout",
     "output_type": "stream",
     "text": [
      "Soup\n"
     ]
    }
   ],
   "source": [
    "x.result()"
   ]
  },
  {
   "cell_type": "markdown",
   "id": "92ead9eb",
   "metadata": {},
   "source": [
    "<h1>Ex. 8</h1>"
   ]
  },
  {
   "cell_type": "code",
   "execution_count": 1,
   "id": "b6726433",
   "metadata": {},
   "outputs": [],
   "source": [
    "class Animal:\n",
    "    def reply(self):\n",
    "        self.speak()\n",
    "\n",
    "class Mammal(Animal):\n",
    "    pass\n",
    "        \n",
    "class Cat(Mammal):\n",
    "    def speak(self):\n",
    "        print('meow')\n",
    "        \n",
    "\n",
    "class Dog(Mammal):\n",
    "    def speak(self):\n",
    "        print('woof')\n",
    "        \n",
    "\n",
    "class Primate(Mammal):\n",
    "    def speak(self):\n",
    "        print('Hello world!')\n",
    "        \n",
    "class Hacker(Primate):\n",
    "    pass"
   ]
  },
  {
   "cell_type": "code",
   "execution_count": 2,
   "id": "197e5cb7",
   "metadata": {},
   "outputs": [],
   "source": [
    "spot = Cat()"
   ]
  },
  {
   "cell_type": "code",
   "execution_count": 3,
   "id": "fed4e5af",
   "metadata": {},
   "outputs": [
    {
     "name": "stdout",
     "output_type": "stream",
     "text": [
      "meow\n"
     ]
    }
   ],
   "source": [
    "spot.reply()"
   ]
  },
  {
   "cell_type": "code",
   "execution_count": 4,
   "id": "7fea2227",
   "metadata": {},
   "outputs": [],
   "source": [
    "data = Hacker()"
   ]
  },
  {
   "cell_type": "code",
   "execution_count": 5,
   "id": "2e9bbf49",
   "metadata": {},
   "outputs": [
    {
     "name": "stdout",
     "output_type": "stream",
     "text": [
      "Hello world!\n"
     ]
    }
   ],
   "source": [
    "data.reply()"
   ]
  },
  {
   "cell_type": "markdown",
   "id": "66f58188",
   "metadata": {},
   "source": [
    "<h1>Ex. 9</h1>"
   ]
  },
  {
   "cell_type": "code",
   "execution_count": 15,
   "id": "ab6ff657",
   "metadata": {},
   "outputs": [],
   "source": [
    "class Scene:\n",
    "    \n",
    "    def __init__(self):\n",
    "        self.cust = Customer()\n",
    "        self.clerk = Clerk()\n",
    "        self.parrot = Parrot()\n",
    "    \n",
    "    def action(self):\n",
    "        self.cust.line()\n",
    "        self.clerk.line()\n",
    "        self.parrot.line()    \n",
    "\n",
    "class Actor:\n",
    "    def line(self):\n",
    "        print(self.name + \": \" + str(self.says()))\n",
    "        \n",
    "class Customer(Actor):\n",
    "    name = 'customer'\n",
    "    \n",
    "    def says(self):\n",
    "        return 'customer: I am customer'\n",
    "               \n",
    "class Clerk(Actor):\n",
    "    name = 'clerk'\n",
    "    \n",
    "    def says(self):\n",
    "        return 'clerk: I am clerk'\n",
    "        \n",
    "class Parrot(Actor):\n",
    "    \n",
    "    name = 'parrot'\n",
    "    \n",
    "    def says(self):\n",
    "        return None\n",
    "        "
   ]
  },
  {
   "cell_type": "code",
   "execution_count": 16,
   "id": "816121f5",
   "metadata": {},
   "outputs": [
    {
     "name": "stdout",
     "output_type": "stream",
     "text": [
      "customer: customer: I am customer\n",
      "clerk: clerk: I am clerk\n",
      "parrot: None\n"
     ]
    }
   ],
   "source": [
    "Scene().action()"
   ]
  },
  {
   "cell_type": "code",
   "execution_count": null,
   "id": "49a249cc",
   "metadata": {},
   "outputs": [],
   "source": []
  },
  {
   "cell_type": "code",
   "execution_count": null,
   "id": "90031596",
   "metadata": {},
   "outputs": [],
   "source": []
  }
 ],
 "metadata": {
  "kernelspec": {
   "display_name": "Python 3 (ipykernel)",
   "language": "python",
   "name": "python3"
  },
  "language_info": {
   "codemirror_mode": {
    "name": "ipython",
    "version": 3
   },
   "file_extension": ".py",
   "mimetype": "text/x-python",
   "name": "python",
   "nbconvert_exporter": "python",
   "pygments_lexer": "ipython3",
   "version": "3.10.5"
  }
 },
 "nbformat": 4,
 "nbformat_minor": 5
}
