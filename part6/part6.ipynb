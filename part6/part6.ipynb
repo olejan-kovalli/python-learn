{
 "cells": [
  {
   "cell_type": "markdown",
   "id": "088a3ac5",
   "metadata": {},
   "source": [
    "<h1>Ex. 1</h1>"
   ]
  },
  {
   "cell_type": "code",
   "execution_count": 1,
   "id": "9db48b6b",
   "metadata": {},
   "outputs": [],
   "source": [
    "class Adder:\n",
    "    def __init__(self, data):\n",
    "        self.data = data\n",
    "        \n",
    "    def add(self, x, y):\n",
    "        print('Not Implemented')\n",
    "    \n",
    "    def __add__(self, other):\n",
    "        return self.add(self.data, other)"
   ]
  },
  {
   "cell_type": "code",
   "execution_count": 2,
   "id": "90510827",
   "metadata": {},
   "outputs": [],
   "source": [
    "from typing import List, Dict"
   ]
  },
  {
   "cell_type": "code",
   "execution_count": 3,
   "id": "6e1c9e59",
   "metadata": {},
   "outputs": [],
   "source": [
    "class ListAdder(Adder):      \n",
    "    def add(self, x: List, y: List):\n",
    "        return x + y"
   ]
  },
  {
   "cell_type": "code",
   "execution_count": 4,
   "id": "7da2b170",
   "metadata": {},
   "outputs": [],
   "source": [
    "class DictAdder(Adder):\n",
    "    def add(self, x: Dict, y: Dict):\n",
    "        z = x.copy()\n",
    "        z.update(y)\n",
    "        return z"
   ]
  },
  {
   "cell_type": "code",
   "execution_count": 5,
   "id": "2e1bcd07",
   "metadata": {},
   "outputs": [],
   "source": [
    "ad = Adder(None)"
   ]
  },
  {
   "cell_type": "code",
   "execution_count": 6,
   "id": "cb091aa6",
   "metadata": {},
   "outputs": [
    {
     "name": "stdout",
     "output_type": "stream",
     "text": [
      "Not Implemented\n"
     ]
    }
   ],
   "source": [
    "ad.add(1,2)"
   ]
  },
  {
   "cell_type": "code",
   "execution_count": 7,
   "id": "3e626242",
   "metadata": {},
   "outputs": [],
   "source": [
    "la = ListAdder([1,2,3])"
   ]
  },
  {
   "cell_type": "code",
   "execution_count": 8,
   "id": "eccdb011",
   "metadata": {},
   "outputs": [
    {
     "data": {
      "text/plain": [
       "[1, 2, 3]"
      ]
     },
     "execution_count": 8,
     "metadata": {},
     "output_type": "execute_result"
    }
   ],
   "source": [
    "la.data"
   ]
  },
  {
   "cell_type": "code",
   "execution_count": null,
   "id": "b90da9ff",
   "metadata": {},
   "outputs": [],
   "source": []
  },
  {
   "cell_type": "code",
   "execution_count": 9,
   "id": "5a208fc8",
   "metadata": {},
   "outputs": [
    {
     "data": {
      "text/plain": [
       "[1, 2]"
      ]
     },
     "execution_count": 9,
     "metadata": {},
     "output_type": "execute_result"
    }
   ],
   "source": [
    "la.add([1], [2])"
   ]
  },
  {
   "cell_type": "code",
   "execution_count": 10,
   "id": "ca3943a8",
   "metadata": {},
   "outputs": [
    {
     "data": {
      "text/plain": [
       "[1, 2, 3, 4, 5, 6]"
      ]
     },
     "execution_count": 10,
     "metadata": {},
     "output_type": "execute_result"
    }
   ],
   "source": [
    "la + [4,5,6]"
   ]
  },
  {
   "cell_type": "code",
   "execution_count": 11,
   "id": "535f3c93",
   "metadata": {},
   "outputs": [],
   "source": [
    "da = DictAdder({'c':3})"
   ]
  },
  {
   "cell_type": "code",
   "execution_count": 12,
   "id": "8927639e",
   "metadata": {},
   "outputs": [
    {
     "data": {
      "text/plain": [
       "{'a': 1, 'b': 2}"
      ]
     },
     "execution_count": 12,
     "metadata": {},
     "output_type": "execute_result"
    }
   ],
   "source": [
    "da.add({'a':1}, {'b':2})"
   ]
  },
  {
   "cell_type": "code",
   "execution_count": 13,
   "id": "6aeb3312",
   "metadata": {},
   "outputs": [
    {
     "data": {
      "text/plain": [
       "{'c': 3, 'd': 123}"
      ]
     },
     "execution_count": 13,
     "metadata": {},
     "output_type": "execute_result"
    }
   ],
   "source": [
    "da + {'d':123}"
   ]
  },
  {
   "cell_type": "code",
   "execution_count": null,
   "id": "afc702ae",
   "metadata": {},
   "outputs": [],
   "source": []
  },
  {
   "cell_type": "markdown",
   "id": "a26865ee",
   "metadata": {},
   "source": [
    "<h1>Ex. 2</h1>"
   ]
  },
  {
   "cell_type": "code",
   "execution_count": 14,
   "id": "fcd34baa",
   "metadata": {},
   "outputs": [],
   "source": [
    "class MyList():\n",
    "    def __init__(self, data: List):\n",
    "        self.data = list(data)\n",
    "    \n",
    "    def __getitem__(self, index):\n",
    "        return self.data[index]\n",
    "        \n",
    "    def __add__(self, other: List):\n",
    "        return self.data + other\n",
    "\n",
    "    def append(self, item):\n",
    "        self.data.append(item)\n",
    "    \n",
    "    def __repr__(self):\n",
    "        return self.data.__repr__()"
   ]
  },
  {
   "cell_type": "code",
   "execution_count": 15,
   "id": "7666d397",
   "metadata": {},
   "outputs": [],
   "source": [
    "x = MyList([1,2,3])"
   ]
  },
  {
   "cell_type": "code",
   "execution_count": 16,
   "id": "ae4907c6",
   "metadata": {},
   "outputs": [
    {
     "data": {
      "text/plain": [
       "[1, 2, 3, 4, 5]"
      ]
     },
     "execution_count": 16,
     "metadata": {},
     "output_type": "execute_result"
    }
   ],
   "source": [
    "x + [4,5]"
   ]
  },
  {
   "cell_type": "code",
   "execution_count": 17,
   "id": "7232c4b4",
   "metadata": {},
   "outputs": [
    {
     "data": {
      "text/plain": [
       "2"
      ]
     },
     "execution_count": 17,
     "metadata": {},
     "output_type": "execute_result"
    }
   ],
   "source": [
    "x[1]"
   ]
  },
  {
   "cell_type": "code",
   "execution_count": 18,
   "id": "514162d7",
   "metadata": {},
   "outputs": [
    {
     "data": {
      "text/plain": [
       "[1, 2, 3]"
      ]
     },
     "execution_count": 18,
     "metadata": {},
     "output_type": "execute_result"
    }
   ],
   "source": [
    "x[:]"
   ]
  },
  {
   "cell_type": "code",
   "execution_count": 19,
   "id": "972b8955",
   "metadata": {},
   "outputs": [
    {
     "name": "stdout",
     "output_type": "stream",
     "text": [
      "1\n",
      "2\n",
      "3\n"
     ]
    }
   ],
   "source": [
    "for item in x:\n",
    "    print(item)"
   ]
  },
  {
   "cell_type": "code",
   "execution_count": 20,
   "id": "87ef64b7",
   "metadata": {},
   "outputs": [],
   "source": [
    "x.append(10)"
   ]
  },
  {
   "cell_type": "code",
   "execution_count": 21,
   "id": "320c94a3",
   "metadata": {},
   "outputs": [
    {
     "data": {
      "text/plain": [
       "[1, 2, 3, 10]"
      ]
     },
     "execution_count": 21,
     "metadata": {},
     "output_type": "execute_result"
    }
   ],
   "source": [
    "x"
   ]
  },
  {
   "cell_type": "code",
   "execution_count": 22,
   "id": "b38ed5e8",
   "metadata": {},
   "outputs": [
    {
     "data": {
      "text/plain": [
       "['1', '2', '3', '4']"
      ]
     },
     "execution_count": 22,
     "metadata": {},
     "output_type": "execute_result"
    }
   ],
   "source": [
    "MyList('1234')"
   ]
  },
  {
   "cell_type": "code",
   "execution_count": 23,
   "id": "5d51aa74",
   "metadata": {},
   "outputs": [
    {
     "data": {
      "text/plain": [
       "['1', '2', '3', '4']"
      ]
     },
     "execution_count": 23,
     "metadata": {},
     "output_type": "execute_result"
    }
   ],
   "source": [
    "list('1234')"
   ]
  },
  {
   "cell_type": "code",
   "execution_count": 128,
   "id": "1dcb7c43",
   "metadata": {},
   "outputs": [],
   "source": [
    "class MyList():\n",
    "    def __init__(self, data):\n",
    "        self.data = list(data)\n",
    "        \n",
    "    def __add__(self, other):\n",
    "        return self.data + other.data\n",
    "        \n",
    "    def __getattr__(self, name):\n",
    "        return getattr(self.data, name)\n",
    "    \n",
    "    def __repr__(self):\n",
    "        return self.data.__repr__()"
   ]
  },
  {
   "cell_type": "code",
   "execution_count": 129,
   "id": "7a4a174c",
   "metadata": {},
   "outputs": [],
   "source": [
    "y = MyList('123')"
   ]
  },
  {
   "cell_type": "code",
   "execution_count": 130,
   "id": "fdba8568",
   "metadata": {},
   "outputs": [
    {
     "name": "stdout",
     "output_type": "stream",
     "text": [
      "['1', '2', '3']\n"
     ]
    }
   ],
   "source": [
    "print(y)"
   ]
  },
  {
   "cell_type": "code",
   "execution_count": 131,
   "id": "70d40562",
   "metadata": {},
   "outputs": [],
   "source": [
    "y.append(1)"
   ]
  },
  {
   "cell_type": "code",
   "execution_count": 132,
   "id": "f5f13adc",
   "metadata": {},
   "outputs": [
    {
     "name": "stdout",
     "output_type": "stream",
     "text": [
      "['1', '2', '3', 1]\n"
     ]
    }
   ],
   "source": [
    "print(y)"
   ]
  },
  {
   "cell_type": "markdown",
   "id": "ff6a4a06",
   "metadata": {},
   "source": [
    "<h1>Ex. 3</h1>"
   ]
  },
  {
   "cell_type": "code",
   "execution_count": 133,
   "id": "d5c1a314",
   "metadata": {},
   "outputs": [],
   "source": [
    "class MySubList(MyList):\n",
    "    num_adds = 0\n",
    "    \n",
    "    def __init__(self, data):\n",
    "        MyList.__init__(self, data)\n",
    "        self.num_adds = 0\n",
    "    \n",
    "    def __add__(self, other):\n",
    "        print('adding # %s' % self.num_adds)\n",
    "        self.num_adds += 1\n",
    "        MySubList.num_adds += 1\n",
    "        return MyList.__add__(self, other)\n",
    "    \n",
    "    def get_adds(self):\n",
    "        return self.num_adds\n",
    "    \n",
    "    def get_total_adds():\n",
    "        return MySubList.num_adds"
   ]
  },
  {
   "cell_type": "code",
   "execution_count": 134,
   "id": "5ef81524",
   "metadata": {},
   "outputs": [],
   "source": [
    "x = MySubList([1,2,3])"
   ]
  },
  {
   "cell_type": "code",
   "execution_count": 135,
   "id": "8447abea",
   "metadata": {},
   "outputs": [
    {
     "data": {
      "text/plain": [
       "[1, 2, 3]"
      ]
     },
     "execution_count": 135,
     "metadata": {},
     "output_type": "execute_result"
    }
   ],
   "source": [
    "x"
   ]
  },
  {
   "cell_type": "code",
   "execution_count": 147,
   "id": "8265b2bd",
   "metadata": {},
   "outputs": [],
   "source": [
    "y = MySubList([1])"
   ]
  },
  {
   "cell_type": "code",
   "execution_count": 140,
   "id": "eb2d2fbf",
   "metadata": {},
   "outputs": [
    {
     "name": "stdout",
     "output_type": "stream",
     "text": [
      "adding # 1\n"
     ]
    },
    {
     "data": {
      "text/plain": [
       "[1, 2, 3, 1]"
      ]
     },
     "execution_count": 140,
     "metadata": {},
     "output_type": "execute_result"
    }
   ],
   "source": [
    "x + y"
   ]
  },
  {
   "cell_type": "code",
   "execution_count": 145,
   "id": "9ba201c1",
   "metadata": {},
   "outputs": [
    {
     "data": {
      "text/plain": [
       "2"
      ]
     },
     "execution_count": 145,
     "metadata": {},
     "output_type": "execute_result"
    }
   ],
   "source": [
    "x.get_adds()"
   ]
  },
  {
   "cell_type": "code",
   "execution_count": 144,
   "id": "dd6ac6a2",
   "metadata": {},
   "outputs": [
    {
     "data": {
      "text/plain": [
       "3"
      ]
     },
     "execution_count": 144,
     "metadata": {},
     "output_type": "execute_result"
    }
   ],
   "source": [
    "MySubList.get_total_adds()"
   ]
  },
  {
   "cell_type": "code",
   "execution_count": 148,
   "id": "28b0618c",
   "metadata": {},
   "outputs": [
    {
     "name": "stdout",
     "output_type": "stream",
     "text": [
      "adding # 0\n"
     ]
    },
    {
     "data": {
      "text/plain": [
       "[1, 1, 2, 3]"
      ]
     },
     "execution_count": 148,
     "metadata": {},
     "output_type": "execute_result"
    }
   ],
   "source": [
    "y + x"
   ]
  },
  {
   "cell_type": "code",
   "execution_count": 149,
   "id": "9fcbc65d",
   "metadata": {},
   "outputs": [
    {
     "data": {
      "text/plain": [
       "1"
      ]
     },
     "execution_count": 149,
     "metadata": {},
     "output_type": "execute_result"
    }
   ],
   "source": [
    "y.get_adds()"
   ]
  },
  {
   "cell_type": "markdown",
   "id": "4401a19e",
   "metadata": {},
   "source": [
    "<h1>Ex. 4</h1>"
   ]
  },
  {
   "cell_type": "code",
   "execution_count": 10,
   "id": "8f559ece",
   "metadata": {},
   "outputs": [],
   "source": [
    "class Attrs:\n",
    "    def __init__(self):\n",
    "        self.a = 1\n",
    "        \n",
    "    def __getattr__(self, name):\n",
    "        print('gettting ', name)\n",
    "    \n",
    "    def __setattr__(self, name, *args, **kwargs):\n",
    "        print('setting ', name, args, kwargs)"
   ]
  },
  {
   "cell_type": "code",
   "execution_count": 11,
   "id": "e7ae1943",
   "metadata": {},
   "outputs": [
    {
     "name": "stdout",
     "output_type": "stream",
     "text": [
      "setting  a (1,) {}\n"
     ]
    }
   ],
   "source": [
    "x = Attrs()"
   ]
  },
  {
   "cell_type": "code",
   "execution_count": 13,
   "id": "0cd2d6d2",
   "metadata": {},
   "outputs": [
    {
     "ename": "TypeError",
     "evalue": "'Attrs' object is not subscriptable",
     "output_type": "error",
     "traceback": [
      "\u001b[1;31m---------------------------------------------------------------------------\u001b[0m",
      "\u001b[1;31mTypeError\u001b[0m                                 Traceback (most recent call last)",
      "Input \u001b[1;32mIn [13]\u001b[0m, in \u001b[0;36m<cell line: 1>\u001b[1;34m()\u001b[0m\n\u001b[1;32m----> 1\u001b[0m \u001b[43mx\u001b[49m\u001b[43m[\u001b[49m\u001b[38;5;241;43m1\u001b[39;49m\u001b[43m]\u001b[49m\n",
      "\u001b[1;31mTypeError\u001b[0m: 'Attrs' object is not subscriptable"
     ]
    }
   ],
   "source": [
    "x[1]"
   ]
  },
  {
   "cell_type": "markdown",
   "id": "12485f90",
   "metadata": {},
   "source": [
    "<h1>Ex. 5</h1>"
   ]
  },
  {
   "cell_type": "code",
   "execution_count": 58,
   "id": "062afbd8",
   "metadata": {},
   "outputs": [],
   "source": [
    "class Set:\n",
    "    def __init__(self, value = []):\n",
    "        self.data = []\n",
    "        self.concat(value)\n",
    "    \n",
    "    def intersect(self, other):\n",
    "        res = []\n",
    "        for x in self.data:\n",
    "            if x in other:\n",
    "                res.append(x)\n",
    "        return Set(res)\n",
    "    \n",
    "    def union(self, other):\n",
    "        res = self.data[:]\n",
    "        for x in other:\n",
    "            if x not in res:\n",
    "                res.append(x)\n",
    "        return Set(res)\n",
    "        \n",
    "    def concat(self, value):\n",
    "        for x in value:\n",
    "            if not x in self.data:\n",
    "                self.data.append(x)\n",
    "    \n",
    "    def __len__(self):\n",
    "        return len(self.data)\n",
    "    \n",
    "    def __getitem__(self, key): \n",
    "        return self.data[key]\n",
    "    \n",
    "    def __and__(self, other):\n",
    "        return self.intersect(other)\n",
    "    \n",
    "    def __or__(self, other):\n",
    "        return self.union(other)\n",
    "    \n",
    "    def __repr__(self):\n",
    "        return 'Set:' + repr(self.data)\n",
    "    \n",
    "    def __iter__(self):\n",
    "        return iter(self.data)"
   ]
  },
  {
   "cell_type": "code",
   "execution_count": 70,
   "id": "e1d968b2",
   "metadata": {},
   "outputs": [],
   "source": [
    "s1 = Set([1,2,3,4])\n",
    "#__init__"
   ]
  },
  {
   "cell_type": "code",
   "execution_count": 60,
   "id": "bb2eb1ba",
   "metadata": {},
   "outputs": [],
   "source": [
    "s2 = Set([3,4,5,6])"
   ]
  },
  {
   "cell_type": "code",
   "execution_count": 68,
   "id": "153eee57",
   "metadata": {},
   "outputs": [
    {
     "data": {
      "text/plain": [
       "Set:[3, 4]"
      ]
     },
     "execution_count": 68,
     "metadata": {},
     "output_type": "execute_result"
    }
   ],
   "source": [
    "s1 & s2\n",
    "#__and__"
   ]
  },
  {
   "cell_type": "code",
   "execution_count": 69,
   "id": "a8f3b110",
   "metadata": {},
   "outputs": [
    {
     "data": {
      "text/plain": [
       "Set:[1, 2, 3, 4, 5, 6]"
      ]
     },
     "execution_count": 69,
     "metadata": {},
     "output_type": "execute_result"
    }
   ],
   "source": [
    "s1 | s2\n",
    "#__or__"
   ]
  },
  {
   "cell_type": "code",
   "execution_count": 65,
   "id": "378792d9",
   "metadata": {},
   "outputs": [],
   "source": [
    "s = Set('hello')"
   ]
  },
  {
   "cell_type": "code",
   "execution_count": 66,
   "id": "d61895f9",
   "metadata": {},
   "outputs": [
    {
     "data": {
      "text/plain": [
       "Set:['h', 'e', 'l', 'o']"
      ]
     },
     "execution_count": 66,
     "metadata": {},
     "output_type": "execute_result"
    }
   ],
   "source": [
    "s"
   ]
  },
  {
   "cell_type": "code",
   "execution_count": 67,
   "id": "1f0a96ba",
   "metadata": {},
   "outputs": [
    {
     "data": {
      "text/plain": [
       "'e'"
      ]
     },
     "execution_count": 67,
     "metadata": {},
     "output_type": "execute_result"
    }
   ],
   "source": [
    "s[1]\n",
    "#__getitem__"
   ]
  },
  {
   "cell_type": "code",
   "execution_count": 71,
   "id": "49af8ead",
   "metadata": {},
   "outputs": [
    {
     "name": "stdout",
     "output_type": "stream",
     "text": [
      "h\n",
      "e\n",
      "l\n",
      "o\n"
     ]
    }
   ],
   "source": [
    "for x in s:\n",
    "    print(x)"
   ]
  },
  {
   "cell_type": "code",
   "execution_count": 72,
   "id": "da921f46",
   "metadata": {},
   "outputs": [],
   "source": [
    "#__iter__"
   ]
  },
  {
   "cell_type": "code",
   "execution_count": 73,
   "id": "f2bc37e9",
   "metadata": {},
   "outputs": [
    {
     "data": {
      "text/plain": [
       "Set:[]"
      ]
     },
     "execution_count": 73,
     "metadata": {},
     "output_type": "execute_result"
    }
   ],
   "source": [
    "s & '123'"
   ]
  },
  {
   "cell_type": "code",
   "execution_count": 76,
   "id": "575dd7b4",
   "metadata": {},
   "outputs": [
    {
     "data": {
      "text/plain": [
       "Set:['h', 'e', 'l']"
      ]
     },
     "execution_count": 76,
     "metadata": {},
     "output_type": "execute_result"
    }
   ],
   "source": [
    "s & 'hell'"
   ]
  },
  {
   "cell_type": "code",
   "execution_count": 87,
   "id": "32b1d628",
   "metadata": {},
   "outputs": [],
   "source": [
    "class MultiSet(Set):\n",
    "    def intersect(self, *others):\n",
    "        res = []\n",
    "        for x in self:\n",
    "            for other in others:\n",
    "                if x not in other:\n",
    "                    break\n",
    "            else:\n",
    "                res.append(x)\n",
    "        return Set(res)\n",
    "    \n",
    "    def union(self, *others):\n",
    "        res = []\n",
    "        for other in others:\n",
    "            for x in self:\n",
    "                if not x in res:\n",
    "                    res.append(x)\n",
    "        return Set(res)        "
   ]
  },
  {
   "cell_type": "code",
   "execution_count": 88,
   "id": "58892f01",
   "metadata": {},
   "outputs": [],
   "source": [
    "x = MultiSet([1,2,3,4,5])"
   ]
  },
  {
   "cell_type": "code",
   "execution_count": 89,
   "id": "918ae21b",
   "metadata": {},
   "outputs": [
    {
     "data": {
      "text/plain": [
       "Set:[1]"
      ]
     },
     "execution_count": 89,
     "metadata": {},
     "output_type": "execute_result"
    }
   ],
   "source": [
    "x.intersect([1,3], [1,4], [1,5])"
   ]
  },
  {
   "cell_type": "code",
   "execution_count": 90,
   "id": "8f92f7c4",
   "metadata": {},
   "outputs": [
    {
     "data": {
      "text/plain": [
       "Set:[1, 2, 3, 4, 5]"
      ]
     },
     "execution_count": 90,
     "metadata": {},
     "output_type": "execute_result"
    }
   ],
   "source": [
    "x.union([10,3], [11,4], [1,5])"
   ]
  },
  {
   "cell_type": "code",
   "execution_count": null,
   "id": "85a0f1f8",
   "metadata": {},
   "outputs": [],
   "source": []
  }
 ],
 "metadata": {
  "kernelspec": {
   "display_name": "Python 3 (ipykernel)",
   "language": "python",
   "name": "python3"
  },
  "language_info": {
   "codemirror_mode": {
    "name": "ipython",
    "version": 3
   },
   "file_extension": ".py",
   "mimetype": "text/x-python",
   "name": "python",
   "nbconvert_exporter": "python",
   "pygments_lexer": "ipython3",
   "version": "3.10.5"
  }
 },
 "nbformat": 4,
 "nbformat_minor": 5
}
