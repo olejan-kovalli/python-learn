{
 "cells": [
  {
   "cell_type": "markdown",
   "id": "6f76d24f-014b-49ce-bd49-12c8c4db24eb",
   "metadata": {},
   "source": [
    "<h1>Ex. 1</h1>"
   ]
  },
  {
   "cell_type": "code",
   "execution_count": 30,
   "id": "b5f3a860-e408-4dcb-91dc-65d7af5cdb82",
   "metadata": {},
   "outputs": [],
   "source": [
    "def oops():\n",
    "    raise IndexError"
   ]
  },
  {
   "cell_type": "code",
   "execution_count": 32,
   "id": "ea35dd49-6fa9-4909-b654-38394a8763f0",
   "metadata": {},
   "outputs": [],
   "source": [
    "def f():\n",
    "    try:\n",
    "        oops()\n",
    "    except IndexError:\n",
    "    #except KeyError:\n",
    "        print('I got ya!')\n",
    "        "
   ]
  },
  {
   "cell_type": "code",
   "execution_count": 33,
   "id": "4026bb20-386c-41bd-8321-2a55dda8b10b",
   "metadata": {},
   "outputs": [
    {
     "name": "stdout",
     "output_type": "stream",
     "text": [
      "I got ya!\n"
     ]
    }
   ],
   "source": [
    "f()"
   ]
  },
  {
   "cell_type": "markdown",
   "id": "3d710b81-390a-4a72-a705-22d53a7aea26",
   "metadata": {},
   "source": [
    "<h1>Ex. 2</h1>"
   ]
  },
  {
   "cell_type": "code",
   "execution_count": 34,
   "id": "25625d63-622c-4d32-a31a-db51ddbd78ee",
   "metadata": {},
   "outputs": [],
   "source": [
    "class MyError(Exception):\n",
    "    pass"
   ]
  },
  {
   "cell_type": "code",
   "execution_count": 35,
   "id": "7c9b86dd-b5ca-4b32-95f3-6bf56bd9f12a",
   "metadata": {},
   "outputs": [],
   "source": [
    "def oops():\n",
    "    raise MyError('my custom error!')"
   ]
  },
  {
   "cell_type": "code",
   "execution_count": 36,
   "id": "d7276fa9-50ff-4b2f-a95f-c350f8873a57",
   "metadata": {},
   "outputs": [],
   "source": [
    "def f():\n",
    "    try:\n",
    "        oops()\n",
    "    except (MyError, IndexError) as me:    \n",
    "        print(me)"
   ]
  },
  {
   "cell_type": "code",
   "execution_count": 37,
   "id": "55ef104c-9654-4b02-a30c-1b4ce20eaef7",
   "metadata": {},
   "outputs": [
    {
     "name": "stdout",
     "output_type": "stream",
     "text": [
      "my custom error!\n"
     ]
    }
   ],
   "source": [
    "f()"
   ]
  },
  {
   "cell_type": "markdown",
   "id": "381702ef-dfc9-4d8a-94f9-c5d835086878",
   "metadata": {},
   "source": [
    "<h1>Ex. 3</h1>"
   ]
  },
  {
   "cell_type": "code",
   "execution_count": 42,
   "id": "2e953779-4e5c-46dc-9f0a-ac1df37e5e8b",
   "metadata": {},
   "outputs": [],
   "source": [
    "import sys \n",
    "\n",
    "def safe(func, *pargs, **kargs):\n",
    "    try: \n",
    "        func(*pargs, **kargs)\n",
    "    except Exception:        \n",
    "        print(sys.exc_info())"
   ]
  },
  {
   "cell_type": "code",
   "execution_count": 43,
   "id": "f11da116-7aca-4fbf-b1d8-a962643460d2",
   "metadata": {},
   "outputs": [
    {
     "name": "stdout",
     "output_type": "stream",
     "text": [
      "(<class '__main__.MyError'>, MyError('my custom error!'), <traceback object at 0x0000027E0731CB80>)\n"
     ]
    }
   ],
   "source": [
    "safe(oops)"
   ]
  },
  {
   "cell_type": "code",
   "execution_count": 47,
   "id": "e6e4cd87-abf0-48a6-9367-bac545b301a7",
   "metadata": {},
   "outputs": [],
   "source": [
    "import exctools"
   ]
  },
  {
   "cell_type": "code",
   "execution_count": 48,
   "id": "434c4f3a-ef3b-442b-b102-c0b35ec63559",
   "metadata": {},
   "outputs": [],
   "source": [
    "from importlib import reload"
   ]
  },
  {
   "cell_type": "code",
   "execution_count": 49,
   "id": "583637d7-4c16-4075-a2ae-370f82712e5f",
   "metadata": {},
   "outputs": [
    {
     "data": {
      "text/plain": [
       "<module 'exctools' from 'C:\\\\code\\\\python-learn\\\\part7\\\\exctools.py'>"
      ]
     },
     "execution_count": 49,
     "metadata": {},
     "output_type": "execute_result"
    }
   ],
   "source": [
    "reload(exctools)"
   ]
  },
  {
   "cell_type": "code",
   "execution_count": 50,
   "id": "d744aded-dba7-4023-a201-e3fd32b17190",
   "metadata": {},
   "outputs": [
    {
     "name": "stdout",
     "output_type": "stream",
     "text": [
      "(<class '__main__.MyError'>, MyError('my custom error!'), <traceback object at 0x0000027E0870D300>)\n"
     ]
    },
    {
     "name": "stderr",
     "output_type": "stream",
     "text": [
      "Traceback (most recent call last):\n",
      "  File \"C:\\code\\python-learn\\part7\\exctools.py\", line 6, in safe\n",
      "    func(*pargs, **kargs)\n",
      "  File \"C:\\Users\\oleg.kovalevskiy.ARAMCOINNOVATIO\\AppData\\Local\\Temp\\ipykernel_8572\\3225890258.py\", line 2, in oops\n",
      "    raise MyError('my custom error!')\n",
      "MyError: my custom error!\n"
     ]
    }
   ],
   "source": [
    "exctools.safe(oops)"
   ]
  },
  {
   "cell_type": "code",
   "execution_count": null,
   "id": "715a504b-3eae-4ba3-b527-2b66b3c68bdf",
   "metadata": {},
   "outputs": [],
   "source": []
  },
  {
   "cell_type": "code",
   "execution_count": null,
   "id": "a6f1050f-72fd-4ee9-a1e7-aba82701c92d",
   "metadata": {},
   "outputs": [],
   "source": []
  }
 ],
 "metadata": {
  "kernelspec": {
   "display_name": "Python 3 (ipykernel)",
   "language": "python",
   "name": "python3"
  },
  "language_info": {
   "codemirror_mode": {
    "name": "ipython",
    "version": 3
   },
   "file_extension": ".py",
   "mimetype": "text/x-python",
   "name": "python",
   "nbconvert_exporter": "python",
   "pygments_lexer": "ipython3",
   "version": "3.10.11"
  }
 },
 "nbformat": 4,
 "nbformat_minor": 5
}
